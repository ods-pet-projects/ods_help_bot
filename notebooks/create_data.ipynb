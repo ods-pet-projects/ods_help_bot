{
 "cells": [
  {
   "cell_type": "code",
   "execution_count": 1,
   "metadata": {},
   "outputs": [
    {
     "name": "stderr",
     "output_type": "stream",
     "text": [
      "/Users/o/work/PycharmProjects/venvs/wrike/lib/python3.7/site-packages/IPython/core/interactiveshell.py:3063: DtypeWarning: Columns (7,8,30,31,32,33,35,36,37,38,39,40,41,42,43,44,45,46,47,48,49,50) have mixed types.Specify dtype option on import or set low_memory=False.\n",
      "  interactivity=interactivity, compiler=compiler, result=result)\n"
     ]
    },
    {
     "data": {
      "application/vnd.jupyter.widget-view+json": {
       "model_id": "d9b94039935548ebb8f294a8111f9a92",
       "version_major": 2,
       "version_minor": 0
      },
      "text/plain": [
       "HBox(children=(FloatProgress(value=1.0, bar_style='info', max=1.0), HTML(value='')))"
      ]
     },
     "metadata": {},
     "output_type": "display_data"
    },
    {
     "name": "stdout",
     "output_type": "stream",
     "text": [
      "\n"
     ]
    }
   ],
   "source": [
    "import numpy as np\n",
    "import pandas as pd\n",
    "from tqdm.notebook import tqdm\n",
    "\n",
    "df = pd.read_csv('../data/ods_slack_all.csv')\n",
    "\n",
    "df.index = df['user'] + '_' + df['ts'].round(0).astype(str)\n",
    "df['new_ind'] = df.index\n",
    "\n",
    "def get_pos_score(reactions):\n",
    "    positive_reactions = {\n",
    "        'heavy_plus_sign',\n",
    "        '+1',\n",
    "        'tnx',\n",
    "        'omgtnx',\n",
    "        'muscle',\n",
    "        'fireball',\n",
    "        'shaka',\n",
    "        'fire',\n",
    "        'heart'\n",
    "    }\n",
    "    total_pos_score = 0\n",
    "    for reaction in reactions:\n",
    "        if reaction['name'] in positive_reactions:\n",
    "            total_pos_score += reaction['count']\n",
    "    return total_pos_score\n",
    "\n",
    "\n",
    "pos_score_dict = {}\n",
    "for row_ind, row in tqdm(df['reactions'].dropna().iteritems()):\n",
    "    pos_score = get_pos_score(eval(row))\n",
    "    pos_score_dict[row_ind] = pos_score"
   ]
  },
  {
   "cell_type": "code",
   "execution_count": 2,
   "metadata": {},
   "outputs": [],
   "source": [
    "text_dict = {k: v for k, v in zip(df['new_ind'].values, df['text'].values)}"
   ]
  },
  {
   "cell_type": "code",
   "execution_count": 3,
   "metadata": {},
   "outputs": [],
   "source": [
    "channel_dict = {k: v for k, v in zip(df['new_ind'].values, df['channel'].values)}"
   ]
  },
  {
   "cell_type": "code",
   "execution_count": 4,
   "metadata": {},
   "outputs": [
    {
     "data": {
      "application/vnd.jupyter.widget-view+json": {
       "model_id": "568b8b85792945038e52a9fa9f5cda09",
       "version_major": 2,
       "version_minor": 0
      },
      "text/plain": [
       "HBox(children=(FloatProgress(value=1.0, bar_style='info', max=1.0), HTML(value='')))"
      ]
     },
     "metadata": {},
     "output_type": "display_data"
    },
    {
     "name": "stdout",
     "output_type": "stream",
     "text": [
      "\n"
     ]
    },
    {
     "data": {
      "text/html": [
       "<div>\n",
       "<style scoped>\n",
       "    .dataframe tbody tr th:only-of-type {\n",
       "        vertical-align: middle;\n",
       "    }\n",
       "\n",
       "    .dataframe tbody tr th {\n",
       "        vertical-align: top;\n",
       "    }\n",
       "\n",
       "    .dataframe thead th {\n",
       "        text-align: right;\n",
       "    }\n",
       "</style>\n",
       "<table border=\"1\" class=\"dataframe\">\n",
       "  <thead>\n",
       "    <tr style=\"text-align: right;\">\n",
       "      <th></th>\n",
       "      <th>new_ind</th>\n",
       "      <th>text</th>\n",
       "      <th>answer_text</th>\n",
       "      <th>ans_score</th>\n",
       "      <th>pos_score</th>\n",
       "      <th>channel</th>\n",
       "    </tr>\n",
       "  </thead>\n",
       "  <tbody>\n",
       "    <tr>\n",
       "      <th>0</th>\n",
       "      <td>U1NPQ2WPN_1548139899.0</td>\n",
       "      <td>Добрый день, коллеги. Ищу человека, который см...</td>\n",
       "      <td>Еще накину: лучше не переводи 1:1, а переписыв...</td>\n",
       "      <td>21</td>\n",
       "      <td>8</td>\n",
       "      <td>_call_4_collaboration</td>\n",
       "    </tr>\n",
       "    <tr>\n",
       "      <th>1</th>\n",
       "      <td>UK188NRKM_1585138381.0</td>\n",
       "      <td>Всем привет! Кто-нибудь нуждается в услугах се...</td>\n",
       "      <td>если вы занимались разметкой дорожного траффик...</td>\n",
       "      <td>0</td>\n",
       "      <td>3</td>\n",
       "      <td>_call_4_collaboration</td>\n",
       "    </tr>\n",
       "    <tr>\n",
       "      <th>2</th>\n",
       "      <td>U2LF67NRH_1585152478.0</td>\n",
       "      <td>пытаюсь добыть исторический датасет с &lt;https:/...</td>\n",
       "      <td>\"предиктит\" - звучит как хроническое заболеван...</td>\n",
       "      <td>0</td>\n",
       "      <td>0</td>\n",
       "      <td>_call_4_collaboration</td>\n",
       "    </tr>\n",
       "    <tr>\n",
       "      <th>3</th>\n",
       "      <td>U2X57QH7X_1490439541.0</td>\n",
       "      <td>Всем привет! Ищу R-гуру для моего проекта. Нуж...</td>\n",
       "      <td>в &lt;#C044227RA|lang_r&gt; спрашивали? Нет, решил п...</td>\n",
       "      <td>0</td>\n",
       "      <td>0</td>\n",
       "      <td>_call_4_collaboration</td>\n",
       "    </tr>\n",
       "    <tr>\n",
       "      <th>4</th>\n",
       "      <td>U2KFFGDT8_1490461140.0</td>\n",
       "      <td>День добрый! \\nИщу Ментора/Наставника, с котор...</td>\n",
       "      <td>(продолжая общую мысль про спрашивать в публич...</td>\n",
       "      <td>22</td>\n",
       "      <td>2</td>\n",
       "      <td>_call_4_collaboration</td>\n",
       "    </tr>\n",
       "  </tbody>\n",
       "</table>\n",
       "</div>"
      ],
      "text/plain": [
       "                  new_ind                                               text  \\\n",
       "0  U1NPQ2WPN_1548139899.0  Добрый день, коллеги. Ищу человека, который см...   \n",
       "1  UK188NRKM_1585138381.0  Всем привет! Кто-нибудь нуждается в услугах се...   \n",
       "2  U2LF67NRH_1585152478.0  пытаюсь добыть исторический датасет с <https:/...   \n",
       "3  U2X57QH7X_1490439541.0  Всем привет! Ищу R-гуру для моего проекта. Нуж...   \n",
       "4  U2KFFGDT8_1490461140.0  День добрый! \\nИщу Ментора/Наставника, с котор...   \n",
       "\n",
       "                                         answer_text  ans_score  pos_score  \\\n",
       "0  Еще накину: лучше не переводи 1:1, а переписыв...         21          8   \n",
       "1  если вы занимались разметкой дорожного траффик...          0          3   \n",
       "2  \"предиктит\" - звучит как хроническое заболеван...          0          0   \n",
       "3  в <#C044227RA|lang_r> спрашивали? Нет, решил п...          0          0   \n",
       "4  (продолжая общую мысль про спрашивать в публич...         22          2   \n",
       "\n",
       "                 channel  \n",
       "0  _call_4_collaboration  \n",
       "1  _call_4_collaboration  \n",
       "2  _call_4_collaboration  \n",
       "3  _call_4_collaboration  \n",
       "4  _call_4_collaboration  "
      ]
     },
     "execution_count": 4,
     "metadata": {},
     "output_type": "execute_result"
    }
   ],
   "source": [
    "from collections import defaultdict\n",
    "\n",
    "all_index = set(df.index)\n",
    "replies_dict = defaultdict(list)\n",
    "best_ans = {}\n",
    "best_ans_pos_score = {}\n",
    "success_count = 0\n",
    "fail_count = 0\n",
    "eval_fail_count = 0\n",
    "best_ans_replies = {}\n",
    "\n",
    "lines = []\n",
    "for row_ind, row in tqdm(df[~df['replies'].isnull()].iterrows()):\n",
    "    try:\n",
    "        replies = eval(row['replies'])\n",
    "    except:\n",
    "        eval_fail_count += 1\n",
    "    \n",
    "    for reply in replies:\n",
    "        new_ind = f'{reply[\"user\"]}_{round(float(reply[\"ts\"]), 0)}'\n",
    "        \n",
    "        if new_ind in all_index:\n",
    "            success_count += 1\n",
    "            replies_dict[row_ind].append(new_ind)\n",
    "        else:\n",
    "            fail_count += 1\n",
    "            \n",
    "    if replies_dict[row_ind]:\n",
    "        row_replies = [(x, pos_score_dict.get(x, 0)) for x in replies_dict[row_ind]]\n",
    "        best_k_replies = sorted(row_replies, key=lambda x: x[1], reverse=True)[:10] # get top 10 replies\n",
    "        replies_id_list = [k for k, v in best_k_replies]\n",
    "        replies_pos_score_list = [v for k, v in best_k_replies]\n",
    "        \n",
    "        best_k_ans_text = ' '.join(text_dict[k] for k in replies_id_list)\n",
    "        best_k_score = sum(replies_pos_score_list)\n",
    "        line = dict( new_ind=row_ind, \n",
    "                     text=text_dict[row_ind],\n",
    "                     answer_text=best_k_ans_text,\n",
    "                     ans_score=best_k_score,\n",
    "                     pos_score=pos_score_dict.get(row_ind, 0),\n",
    "                     channel=channel_dict.get(row_ind)\n",
    "                    )\n",
    "        lines.append(line)\n",
    "    \n",
    "#         best_k_replies_text = ' '.join(df.loc[x[0]]['text'] for x in row_replies)\n",
    "#         best_ans_replies[row_ind] = replies_id_list\n",
    "#         best_ans[row_ind] = cur_best_ans_ind\n",
    "#         best_ans_pos_score[row_ind] = cur_best_ans_score\n",
    "df_export = pd.DataFrame(lines)\n",
    "df_export.head()"
   ]
  },
  {
   "cell_type": "code",
   "execution_count": 5,
   "metadata": {},
   "outputs": [],
   "source": [
    "df_export.to_csv('../data/ods_answers_eval.csv', index=False)"
   ]
  },
  {
   "cell_type": "code",
   "execution_count": null,
   "metadata": {},
   "outputs": [],
   "source": [
    "print('total questios with answers:', len(df[~df['replies'].isnull()]))"
   ]
  },
  {
   "cell_type": "code",
   "execution_count": null,
   "metadata": {},
   "outputs": [],
   "source": [
    "df['is_answer'] = df['new_ind'].apply(lambda x: x in replies_dict)\n",
    "print(df['is_answer'].value_counts())"
   ]
  },
  {
   "cell_type": "code",
   "execution_count": null,
   "metadata": {},
   "outputs": [],
   "source": []
  },
  {
   "cell_type": "code",
   "execution_count": null,
   "metadata": {},
   "outputs": [],
   "source": [
    "df['new_ind'] = df.index\n",
    "df['best_ans'] = df['new_ind'].apply(lambda x: best_ans.get(x, np.NaN))\n",
    "df['best_ans_score'] = df['new_ind'].apply(lambda x: best_ans_pos_score.get(x, np.NaN))\n",
    "df['pos_score'] = df['new_ind'].apply(lambda x: pos_score_dict.get(x, 0))"
   ]
  },
  {
   "cell_type": "code",
   "execution_count": null,
   "metadata": {},
   "outputs": [],
   "source": [
    "ans_text_lines = []\n",
    "for row_id, replies_id_list in best_ans_replies.items():\n",
    "    best_k_ans_text = ' '.join(text_dict[k] for k in replies_id_list)\n",
    "    ans_text_lines.append({'new_ind': row_id, 'best_k_ans_text': best_k_ans_text})\n",
    "df_replies_text = pd.DataFrame(ans_text_lines)\n",
    "df_replies_text.head()"
   ]
  },
  {
   "cell_type": "code",
   "execution_count": null,
   "metadata": {},
   "outputs": [],
   "source": [
    "df_new = df[['new_ind', 'text']][~df['is_answer'].isnull()].rename(\n",
    "    columns={'new_ind': 'best_ans', 'text': 'answer_text'}\n",
    ")"
   ]
  },
  {
   "cell_type": "code",
   "execution_count": null,
   "metadata": {},
   "outputs": [],
   "source": [
    "df_replies_text.shape"
   ]
  },
  {
   "cell_type": "code",
   "execution_count": null,
   "metadata": {},
   "outputs": [],
   "source": [
    "df.shape"
   ]
  },
  {
   "cell_type": "code",
   "execution_count": null,
   "metadata": {},
   "outputs": [],
   "source": [
    "df_new.shape"
   ]
  },
  {
   "cell_type": "code",
   "execution_count": null,
   "metadata": {},
   "outputs": [],
   "source": [
    "df_prepared = pd.merge(df, df_new, on='best_ans', how='left')\n",
    "df_prepared.shape"
   ]
  },
  {
   "cell_type": "code",
   "execution_count": null,
   "metadata": {},
   "outputs": [],
   "source": []
  }
 ],
 "metadata": {
  "kernelspec": {
   "display_name": "Python 3",
   "language": "python",
   "name": "python3"
  },
  "language_info": {
   "codemirror_mode": {
    "name": "ipython",
    "version": 3
   },
   "file_extension": ".py",
   "mimetype": "text/x-python",
   "name": "python",
   "nbconvert_exporter": "python",
   "pygments_lexer": "ipython3",
   "version": "3.7.4"
  }
 },
 "nbformat": 4,
 "nbformat_minor": 4
}
