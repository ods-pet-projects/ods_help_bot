{
 "cells": [
  {
   "cell_type": "code",
   "execution_count": 2,
   "metadata": {},
   "outputs": [
    {
     "name": "stderr",
     "output_type": "stream",
     "text": [
      "/Users/o/work/PycharmProjects/venvs/wrike/lib/python3.7/site-packages/IPython/core/interactiveshell.py:3063: DtypeWarning: Columns (7,8,30,31,32,33,35,36,37,38,39,40,41,42,43,44,45,46,47,48,49,50) have mixed types.Specify dtype option on import or set low_memory=False.\n",
      "  interactivity=interactivity, compiler=compiler, result=result)\n",
      "/Users/o/work/PycharmProjects/venvs/wrike/lib/python3.7/site-packages/ipykernel_launcher.py:30: TqdmDeprecationWarning: This function will be removed in tqdm==5.0.0\n",
      "Please use `tqdm.notebook.tqdm` instead of `tqdm.tqdm_notebook`\n"
     ]
    },
    {
     "data": {
      "application/vnd.jupyter.widget-view+json": {
       "model_id": "8ce3586e3fc04f32a847e2d9b4d05e2a",
       "version_major": 2,
       "version_minor": 0
      },
      "text/plain": [
       "HBox(children=(FloatProgress(value=1.0, bar_style='info', max=1.0), HTML(value='')))"
      ]
     },
     "metadata": {},
     "output_type": "display_data"
    },
    {
     "name": "stdout",
     "output_type": "stream",
     "text": [
      "\n"
     ]
    }
   ],
   "source": [
    "import numpy as np\n",
    "import pandas as pd\n",
    "\n",
    "df = pd.read_csv('../data/ods_slack_all.csv')\n",
    "\n",
    "df.index = df['user'] + '_' + df['ts'].round(0).astype(str)\n",
    "df['new_ind'] = df.index\n",
    "\n",
    "def get_pos_score(reactions):\n",
    "    positive_reactions = {\n",
    "        'heavy_plus_sign',\n",
    "        '+1',\n",
    "        'tnx',\n",
    "        'omgtnx',\n",
    "        'muscle',\n",
    "        'fireball',\n",
    "        'shaka',\n",
    "        'fire',\n",
    "        'heart'\n",
    "    }\n",
    "    total_pos_score = 0\n",
    "    for reaction in reactions:\n",
    "        if reaction['name'] in positive_reactions:\n",
    "            total_pos_score += reaction['count']\n",
    "    return total_pos_score\n",
    "\n",
    "from tqdm import tqdm_notebook as tqdm\n",
    "\n",
    "pos_score_dict = {}\n",
    "for row_ind, row in tqdm(df['reactions'].dropna().iteritems()):\n",
    "    pos_score = get_pos_score(eval(row))\n",
    "    pos_score_dict[row_ind] = pos_score"
   ]
  },
  {
   "cell_type": "code",
   "execution_count": 3,
   "metadata": {},
   "outputs": [
    {
     "name": "stderr",
     "output_type": "stream",
     "text": [
      "/Users/o/work/PycharmProjects/venvs/wrike/lib/python3.7/site-packages/ipykernel_launcher.py:11: TqdmDeprecationWarning: This function will be removed in tqdm==5.0.0\n",
      "Please use `tqdm.notebook.tqdm` instead of `tqdm.tqdm_notebook`\n",
      "  # This is added back by InteractiveShellApp.init_path()\n"
     ]
    },
    {
     "data": {
      "application/vnd.jupyter.widget-view+json": {
       "model_id": "99a051eda34245babc3c98fc80e42931",
       "version_major": 2,
       "version_minor": 0
      },
      "text/plain": [
       "HBox(children=(FloatProgress(value=1.0, bar_style='info', max=1.0), HTML(value='')))"
      ]
     },
     "metadata": {},
     "output_type": "display_data"
    },
    {
     "name": "stdout",
     "output_type": "stream",
     "text": [
      "\n"
     ]
    }
   ],
   "source": [
    "from collections import defaultdict\n",
    "\n",
    "all_index = set(df.index)\n",
    "replies_dict = defaultdict(list)\n",
    "best_ans = {}\n",
    "best_ans_pos_score = {}\n",
    "success_count = 0\n",
    "fail_count = 0\n",
    "eval_fail_count = 0\n",
    "\n",
    "for row_ind, row in tqdm(df[~df['replies'].isnull()].iterrows()):\n",
    "    try:\n",
    "        replies = eval(row['replies'])\n",
    "    except:\n",
    "        eval_fail_count += 1\n",
    "    \n",
    "    for reply in replies:\n",
    "        new_ind = f'{reply[\"user\"]}_{round(float(reply[\"ts\"]), 0)}'\n",
    "        \n",
    "        if new_ind in all_index:\n",
    "            success_count += 1\n",
    "            replies_dict[row_ind].append(new_ind)\n",
    "        else:\n",
    "            fail_count += 1\n",
    "            \n",
    "    if replies_dict[row_ind]:\n",
    "        current_best_ans = max([(x, pos_score_dict.get(x, 0)) for x in replies_dict[row_ind]], key=lambda x: x[1])\n",
    "        best_ans[row_ind] = current_best_ans[0]\n",
    "        best_ans_pos_score[row_ind] = current_best_ans[1]"
   ]
  },
  {
   "cell_type": "code",
   "execution_count": 35,
   "metadata": {},
   "outputs": [
    {
     "name": "stdout",
     "output_type": "stream",
     "text": [
      "total questios with answers: 98131\n"
     ]
    }
   ],
   "source": [
    "print('total questios with answers:', len(df[~df['replies'].isnull()]))"
   ]
  },
  {
   "cell_type": "code",
   "execution_count": 36,
   "metadata": {},
   "outputs": [
    {
     "name": "stdout",
     "output_type": "stream",
     "text": [
      "False    1247599\n",
      "True      125840\n",
      "Name: is_answer, dtype: int64\n"
     ]
    }
   ],
   "source": [
    "df['is_answer'] = df['new_ind'].apply(lambda x: x in replies_dict)\n",
    "print(df['is_answer'].value_counts())"
   ]
  },
  {
   "cell_type": "code",
   "execution_count": 37,
   "metadata": {},
   "outputs": [],
   "source": [
    "df['new_ind'] = df.index\n",
    "df['best_ans'] = df['new_ind'].apply(lambda x: best_ans.get(x, np.NaN))\n",
    "df['best_ans_score'] = df['new_ind'].apply(lambda x: best_ans_pos_score.get(x, np.NaN))\n",
    "df['pos_score'] = df['new_ind'].apply(lambda x: pos_score_dict.get(x, 0))\n",
    "# df = df.query('pos_score > 2')"
   ]
  },
  {
   "cell_type": "code",
   "execution_count": 38,
   "metadata": {},
   "outputs": [
    {
     "data": {
      "text/plain": [
       "57425"
      ]
     },
     "execution_count": 38,
     "metadata": {},
     "output_type": "execute_result"
    }
   ],
   "source": [
    "df.eval('pos_score > 2').sum()"
   ]
  },
  {
   "cell_type": "code",
   "execution_count": 40,
   "metadata": {},
   "outputs": [
    {
     "ename": "KeyError",
     "evalue": "\"['answer_text'] not in index\"",
     "output_type": "error",
     "traceback": [
      "\u001b[0;31m---------------------------------------------------------------------------\u001b[0m",
      "\u001b[0;31mKeyError\u001b[0m                                  Traceback (most recent call last)",
      "\u001b[0;32m<ipython-input-40-a4a95735f489>\u001b[0m in \u001b[0;36m<module>\u001b[0;34m\u001b[0m\n\u001b[0;32m----> 1\u001b[0;31m \u001b[0mdf\u001b[0m\u001b[0;34m[\u001b[0m\u001b[0mdf\u001b[0m\u001b[0;34m[\u001b[0m\u001b[0;34m'is_answer'\u001b[0m\u001b[0;34m]\u001b[0m\u001b[0;34m]\u001b[0m\u001b[0;34m[\u001b[0m\u001b[0;34m[\u001b[0m\u001b[0;34m'text'\u001b[0m\u001b[0;34m,\u001b[0m \u001b[0;34m'answer_text'\u001b[0m\u001b[0;34m]\u001b[0m\u001b[0;34m]\u001b[0m\u001b[0;34m\u001b[0m\u001b[0;34m\u001b[0m\u001b[0m\n\u001b[0m",
      "\u001b[0;32m~/work/PycharmProjects/venvs/wrike/lib/python3.7/site-packages/pandas/core/frame.py\u001b[0m in \u001b[0;36m__getitem__\u001b[0;34m(self, key)\u001b[0m\n\u001b[1;32m   2906\u001b[0m             \u001b[0;32mif\u001b[0m \u001b[0mis_iterator\u001b[0m\u001b[0;34m(\u001b[0m\u001b[0mkey\u001b[0m\u001b[0;34m)\u001b[0m\u001b[0;34m:\u001b[0m\u001b[0;34m\u001b[0m\u001b[0;34m\u001b[0m\u001b[0m\n\u001b[1;32m   2907\u001b[0m                 \u001b[0mkey\u001b[0m \u001b[0;34m=\u001b[0m \u001b[0mlist\u001b[0m\u001b[0;34m(\u001b[0m\u001b[0mkey\u001b[0m\u001b[0;34m)\u001b[0m\u001b[0;34m\u001b[0m\u001b[0;34m\u001b[0m\u001b[0m\n\u001b[0;32m-> 2908\u001b[0;31m             \u001b[0mindexer\u001b[0m \u001b[0;34m=\u001b[0m \u001b[0mself\u001b[0m\u001b[0;34m.\u001b[0m\u001b[0mloc\u001b[0m\u001b[0;34m.\u001b[0m\u001b[0m_get_listlike_indexer\u001b[0m\u001b[0;34m(\u001b[0m\u001b[0mkey\u001b[0m\u001b[0;34m,\u001b[0m \u001b[0maxis\u001b[0m\u001b[0;34m=\u001b[0m\u001b[0;36m1\u001b[0m\u001b[0;34m,\u001b[0m \u001b[0mraise_missing\u001b[0m\u001b[0;34m=\u001b[0m\u001b[0;32mTrue\u001b[0m\u001b[0;34m)\u001b[0m\u001b[0;34m[\u001b[0m\u001b[0;36m1\u001b[0m\u001b[0;34m]\u001b[0m\u001b[0;34m\u001b[0m\u001b[0;34m\u001b[0m\u001b[0m\n\u001b[0m\u001b[1;32m   2909\u001b[0m \u001b[0;34m\u001b[0m\u001b[0m\n\u001b[1;32m   2910\u001b[0m         \u001b[0;31m# take() does not accept boolean indexers\u001b[0m\u001b[0;34m\u001b[0m\u001b[0;34m\u001b[0m\u001b[0;34m\u001b[0m\u001b[0m\n",
      "\u001b[0;32m~/work/PycharmProjects/venvs/wrike/lib/python3.7/site-packages/pandas/core/indexing.py\u001b[0m in \u001b[0;36m_get_listlike_indexer\u001b[0;34m(self, key, axis, raise_missing)\u001b[0m\n\u001b[1;32m   1252\u001b[0m             \u001b[0mkeyarr\u001b[0m\u001b[0;34m,\u001b[0m \u001b[0mindexer\u001b[0m\u001b[0;34m,\u001b[0m \u001b[0mnew_indexer\u001b[0m \u001b[0;34m=\u001b[0m \u001b[0max\u001b[0m\u001b[0;34m.\u001b[0m\u001b[0m_reindex_non_unique\u001b[0m\u001b[0;34m(\u001b[0m\u001b[0mkeyarr\u001b[0m\u001b[0;34m)\u001b[0m\u001b[0;34m\u001b[0m\u001b[0;34m\u001b[0m\u001b[0m\n\u001b[1;32m   1253\u001b[0m \u001b[0;34m\u001b[0m\u001b[0m\n\u001b[0;32m-> 1254\u001b[0;31m         \u001b[0mself\u001b[0m\u001b[0;34m.\u001b[0m\u001b[0m_validate_read_indexer\u001b[0m\u001b[0;34m(\u001b[0m\u001b[0mkeyarr\u001b[0m\u001b[0;34m,\u001b[0m \u001b[0mindexer\u001b[0m\u001b[0;34m,\u001b[0m \u001b[0maxis\u001b[0m\u001b[0;34m,\u001b[0m \u001b[0mraise_missing\u001b[0m\u001b[0;34m=\u001b[0m\u001b[0mraise_missing\u001b[0m\u001b[0;34m)\u001b[0m\u001b[0;34m\u001b[0m\u001b[0;34m\u001b[0m\u001b[0m\n\u001b[0m\u001b[1;32m   1255\u001b[0m         \u001b[0;32mreturn\u001b[0m \u001b[0mkeyarr\u001b[0m\u001b[0;34m,\u001b[0m \u001b[0mindexer\u001b[0m\u001b[0;34m\u001b[0m\u001b[0;34m\u001b[0m\u001b[0m\n\u001b[1;32m   1256\u001b[0m \u001b[0;34m\u001b[0m\u001b[0m\n",
      "\u001b[0;32m~/work/PycharmProjects/venvs/wrike/lib/python3.7/site-packages/pandas/core/indexing.py\u001b[0m in \u001b[0;36m_validate_read_indexer\u001b[0;34m(self, key, indexer, axis, raise_missing)\u001b[0m\n\u001b[1;32m   1302\u001b[0m             \u001b[0;32mif\u001b[0m \u001b[0mraise_missing\u001b[0m\u001b[0;34m:\u001b[0m\u001b[0;34m\u001b[0m\u001b[0;34m\u001b[0m\u001b[0m\n\u001b[1;32m   1303\u001b[0m                 \u001b[0mnot_found\u001b[0m \u001b[0;34m=\u001b[0m \u001b[0mlist\u001b[0m\u001b[0;34m(\u001b[0m\u001b[0mset\u001b[0m\u001b[0;34m(\u001b[0m\u001b[0mkey\u001b[0m\u001b[0;34m)\u001b[0m \u001b[0;34m-\u001b[0m \u001b[0mset\u001b[0m\u001b[0;34m(\u001b[0m\u001b[0max\u001b[0m\u001b[0;34m)\u001b[0m\u001b[0;34m)\u001b[0m\u001b[0;34m\u001b[0m\u001b[0;34m\u001b[0m\u001b[0m\n\u001b[0;32m-> 1304\u001b[0;31m                 \u001b[0;32mraise\u001b[0m \u001b[0mKeyError\u001b[0m\u001b[0;34m(\u001b[0m\u001b[0;34mf\"{not_found} not in index\"\u001b[0m\u001b[0;34m)\u001b[0m\u001b[0;34m\u001b[0m\u001b[0;34m\u001b[0m\u001b[0m\n\u001b[0m\u001b[1;32m   1305\u001b[0m \u001b[0;34m\u001b[0m\u001b[0m\n\u001b[1;32m   1306\u001b[0m             \u001b[0;31m# we skip the warning on Categorical\u001b[0m\u001b[0;34m\u001b[0m\u001b[0;34m\u001b[0m\u001b[0;34m\u001b[0m\u001b[0m\n",
      "\u001b[0;31mKeyError\u001b[0m: \"['answer_text'] not in index\""
     ]
    }
   ],
   "source": [
    "df[df['is_answer']][['text', 'answer_text']]"
   ]
  },
  {
   "cell_type": "code",
   "execution_count": null,
   "metadata": {},
   "outputs": [],
   "source": []
  },
  {
   "cell_type": "code",
   "execution_count": 16,
   "metadata": {},
   "outputs": [
    {
     "name": "stderr",
     "output_type": "stream",
     "text": [
      "/Users/o/work/PycharmProjects/venvs/wrike/lib/python3.7/site-packages/IPython/core/interactiveshell.py:3063: DtypeWarning: Columns (7,8,31,36,37,46,50) have mixed types.Specify dtype option on import or set low_memory=False.\n",
      "  interactivity=interactivity, compiler=compiler, result=result)\n"
     ]
    }
   ],
   "source": [
    "df = pd.read_csv('../data/ods_slack_answers.csv')"
   ]
  },
  {
   "cell_type": "code",
   "execution_count": 41,
   "metadata": {},
   "outputs": [],
   "source": [
    "df_new = df[['new_ind', 'text']][~df['is_answer'].isnull()].rename(columns={'new_ind': 'best_ans', 'text': 'answer_text'})"
   ]
  },
  {
   "cell_type": "code",
   "execution_count": 1,
   "metadata": {},
   "outputs": [
    {
     "ename": "NameError",
     "evalue": "name 'pd' is not defined",
     "output_type": "error",
     "traceback": [
      "\u001b[0;31m---------------------------------------------------------------------------\u001b[0m",
      "\u001b[0;31mNameError\u001b[0m                                 Traceback (most recent call last)",
      "\u001b[0;32m<ipython-input-1-764605a436d1>\u001b[0m in \u001b[0;36m<module>\u001b[0;34m\u001b[0m\n\u001b[0;32m----> 1\u001b[0;31m \u001b[0mdf\u001b[0m \u001b[0;34m=\u001b[0m \u001b[0mpd\u001b[0m\u001b[0;34m.\u001b[0m\u001b[0mmerge\u001b[0m\u001b[0;34m(\u001b[0m\u001b[0mdf\u001b[0m\u001b[0;34m,\u001b[0m \u001b[0mdf_new\u001b[0m\u001b[0;34m,\u001b[0m \u001b[0mon\u001b[0m\u001b[0;34m=\u001b[0m\u001b[0;34m'best_ans'\u001b[0m\u001b[0;34m,\u001b[0m \u001b[0mhow\u001b[0m\u001b[0;34m=\u001b[0m\u001b[0;34m'left'\u001b[0m\u001b[0;34m)\u001b[0m\u001b[0;34m\u001b[0m\u001b[0;34m\u001b[0m\u001b[0m\n\u001b[0m",
      "\u001b[0;31mNameError\u001b[0m: name 'pd' is not defined"
     ]
    }
   ],
   "source": [
    "df = pd.merge(df, df_new, on='best_ans', how='left')"
   ]
  },
  {
   "cell_type": "code",
   "execution_count": null,
   "metadata": {},
   "outputs": [],
   "source": [
    "df.shape"
   ]
  },
  {
   "cell_type": "code",
   "execution_count": 26,
   "metadata": {},
   "outputs": [],
   "source": [
    "len(df.dropna(subset=['answer_text']))"
   ]
  },
  {
   "cell_type": "code",
   "execution_count": 27,
   "metadata": {},
   "outputs": [],
   "source": [
    "df.to_csv('../data/ods_answers.csv', index=False)"
   ]
  },
  {
   "cell_type": "code",
   "execution_count": 25,
   "metadata": {},
   "outputs": [
    {
     "data": {
      "text/plain": [
       "57426"
      ]
     },
     "execution_count": 25,
     "metadata": {},
     "output_type": "execute_result"
    }
   ],
   "source": [
    "df.__len__()"
   ]
  },
  {
   "cell_type": "code",
   "execution_count": null,
   "metadata": {},
   "outputs": [],
   "source": [
    "df[['text', '']]"
   ]
  },
  {
   "cell_type": "code",
   "execution_count": 133,
   "metadata": {},
   "outputs": [
    {
     "data": {
      "text/html": [
       "<div>\n",
       "<style scoped>\n",
       "    .dataframe tbody tr th:only-of-type {\n",
       "        vertical-align: middle;\n",
       "    }\n",
       "\n",
       "    .dataframe tbody tr th {\n",
       "        vertical-align: top;\n",
       "    }\n",
       "\n",
       "    .dataframe thead th {\n",
       "        text-align: right;\n",
       "    }\n",
       "</style>\n",
       "<table border=\"1\" class=\"dataframe\">\n",
       "  <thead>\n",
       "    <tr style=\"text-align: right;\">\n",
       "      <th></th>\n",
       "      <th>new_ind</th>\n",
       "      <th>text</th>\n",
       "      <th>best_ans</th>\n",
       "      <th>best_ans_score</th>\n",
       "      <th>pos_score</th>\n",
       "    </tr>\n",
       "  </thead>\n",
       "  <tbody>\n",
       "    <tr>\n",
       "      <th>U040HKJE7_1534697984.0</th>\n",
       "      <td>U040HKJE7_1534697984.0</td>\n",
       "      <td>&lt;@U040HKJE7&gt; has renamed the channel from \"_to...</td>\n",
       "      <td>NaN</td>\n",
       "      <td>NaN</td>\n",
       "      <td>0</td>\n",
       "    </tr>\n",
       "    <tr>\n",
       "      <th>U040HKJE7_1534697988.0</th>\n",
       "      <td>U040HKJE7_1534697988.0</td>\n",
       "      <td>&lt;@U040HKJE7&gt; archived the channel</td>\n",
       "      <td>NaN</td>\n",
       "      <td>NaN</td>\n",
       "      <td>0</td>\n",
       "    </tr>\n",
       "    <tr>\n",
       "      <th>U040HKJE7_1476871730.0</th>\n",
       "      <td>U040HKJE7_1476871730.0</td>\n",
       "      <td>&lt;@U040HKJE7&gt; archived the channel</td>\n",
       "      <td>NaN</td>\n",
       "      <td>NaN</td>\n",
       "      <td>0</td>\n",
       "    </tr>\n",
       "    <tr>\n",
       "      <th>U2D7LT3J6_1476264089.0</th>\n",
       "      <td>U2D7LT3J6_1476264089.0</td>\n",
       "      <td>&lt;@U2D7LT3J6&gt; has left the channel</td>\n",
       "      <td>NaN</td>\n",
       "      <td>NaN</td>\n",
       "      <td>0</td>\n",
       "    </tr>\n",
       "    <tr>\n",
       "      <th>UJ4QYG82J_1574333435.0</th>\n",
       "      <td>UJ4QYG82J_1574333435.0</td>\n",
       "      <td>Привет! Могу поучаствовать знаниями про CI/CD,...</td>\n",
       "      <td>NaN</td>\n",
       "      <td>NaN</td>\n",
       "      <td>0</td>\n",
       "    </tr>\n",
       "  </tbody>\n",
       "</table>\n",
       "</div>"
      ],
      "text/plain": [
       "                                       new_ind  \\\n",
       "U040HKJE7_1534697984.0  U040HKJE7_1534697984.0   \n",
       "U040HKJE7_1534697988.0  U040HKJE7_1534697988.0   \n",
       "U040HKJE7_1476871730.0  U040HKJE7_1476871730.0   \n",
       "U2D7LT3J6_1476264089.0  U2D7LT3J6_1476264089.0   \n",
       "UJ4QYG82J_1574333435.0  UJ4QYG82J_1574333435.0   \n",
       "\n",
       "                                                                     text  \\\n",
       "U040HKJE7_1534697984.0  <@U040HKJE7> has renamed the channel from \"_to...   \n",
       "U040HKJE7_1534697988.0                  <@U040HKJE7> archived the channel   \n",
       "U040HKJE7_1476871730.0                  <@U040HKJE7> archived the channel   \n",
       "U2D7LT3J6_1476264089.0                  <@U2D7LT3J6> has left the channel   \n",
       "UJ4QYG82J_1574333435.0  Привет! Могу поучаствовать знаниями про CI/CD,...   \n",
       "\n",
       "                       best_ans  best_ans_score  pos_score  \n",
       "U040HKJE7_1534697984.0      NaN             NaN          0  \n",
       "U040HKJE7_1534697988.0      NaN             NaN          0  \n",
       "U040HKJE7_1476871730.0      NaN             NaN          0  \n",
       "U2D7LT3J6_1476264089.0      NaN             NaN          0  \n",
       "UJ4QYG82J_1574333435.0      NaN             NaN          0  "
      ]
     },
     "execution_count": 133,
     "metadata": {},
     "output_type": "execute_result"
    }
   ],
   "source": [
    "# work_phrases = ['archived the channel',  'has renamed the channel from']\n",
    "# df[['new_ind', 'text', 'best_ans', 'best_ans_score', 'pos_score']].head()"
   ]
  },
  {
   "cell_type": "code",
   "execution_count": 144,
   "metadata": {},
   "outputs": [
    {
     "data": {
      "text/html": [
       "<div>\n",
       "<style scoped>\n",
       "    .dataframe tbody tr th:only-of-type {\n",
       "        vertical-align: middle;\n",
       "    }\n",
       "\n",
       "    .dataframe tbody tr th {\n",
       "        vertical-align: top;\n",
       "    }\n",
       "\n",
       "    .dataframe thead th {\n",
       "        text-align: right;\n",
       "    }\n",
       "</style>\n",
       "<table border=\"1\" class=\"dataframe\">\n",
       "  <thead>\n",
       "    <tr style=\"text-align: right;\">\n",
       "      <th></th>\n",
       "      <th>channel</th>\n",
       "      <th>text</th>\n",
       "      <th>best_ans</th>\n",
       "      <th>best_ans_score</th>\n",
       "      <th>pos_score</th>\n",
       "    </tr>\n",
       "  </thead>\n",
       "  <tbody>\n",
       "    <tr>\n",
       "      <th>U3KTCHLUD_1592367443.0</th>\n",
       "      <td>career</td>\n",
       "      <td>Как я искала работу в СФ во время пандемии\\n\\n...</td>\n",
       "      <td>U3KTCHLUD_1592597397.0</td>\n",
       "      <td>28.0</td>\n",
       "      <td>462</td>\n",
       "    </tr>\n",
       "    <tr>\n",
       "      <th>U6PNWSJL8_1591984911.0</th>\n",
       "      <td>kaggle_crackers</td>\n",
       "      <td>Сложно осознать, что можно вот так взять и пол...</td>\n",
       "      <td>U6PNWSJL8_1591990643.0</td>\n",
       "      <td>35.0</td>\n",
       "      <td>455</td>\n",
       "    </tr>\n",
       "    <tr>\n",
       "      <th>U8XT96DAT_1575025496.0</th>\n",
       "      <td>kaggle_crackers</td>\n",
       "      <td>Что то я тут подумал (видимо потому что пятниц...</td>\n",
       "      <td>U4ZRFG1V0_1575026632.0</td>\n",
       "      <td>14.0</td>\n",
       "      <td>424</td>\n",
       "    </tr>\n",
       "    <tr>\n",
       "      <th>U4ZRFG1V0_1555478562.0</th>\n",
       "      <td>career</td>\n",
       "      <td>Очередной исторический пост о прогрессе, ибо я...</td>\n",
       "      <td>U1UNFRQ1K_1555486858.0</td>\n",
       "      <td>29.0</td>\n",
       "      <td>413</td>\n",
       "    </tr>\n",
       "    <tr>\n",
       "      <th>U21MU5ATE_1580264248.0</th>\n",
       "      <td>career</td>\n",
       "      <td>:coolstorybob: про то, как проходил на стажиро...</td>\n",
       "      <td>U21MU5ATE_1580278528.0</td>\n",
       "      <td>3.0</td>\n",
       "      <td>392</td>\n",
       "    </tr>\n",
       "    <tr>\n",
       "      <th>...</th>\n",
       "      <td>...</td>\n",
       "      <td>...</td>\n",
       "      <td>...</td>\n",
       "      <td>...</td>\n",
       "      <td>...</td>\n",
       "    </tr>\n",
       "    <tr>\n",
       "      <th>U04ELQZAU_1542211289.0</th>\n",
       "      <td>_random_talks</td>\n",
       "      <td>Любая достаточно развитая технология неотличим...</td>\n",
       "      <td>NaN</td>\n",
       "      <td>NaN</td>\n",
       "      <td>3</td>\n",
       "    </tr>\n",
       "    <tr>\n",
       "      <th>UA92L7ACC_1595019367.0</th>\n",
       "      <td>lang_python</td>\n",
       "      <td>Тогда не очень получится :pepe_sad:\\nА `torch....</td>\n",
       "      <td>NaN</td>\n",
       "      <td>NaN</td>\n",
       "      <td>3</td>\n",
       "    </tr>\n",
       "    <tr>\n",
       "      <th>U3HM4KY14_1559582703.0</th>\n",
       "      <td>lang_python</td>\n",
       "      <td>`np.expand_dims(inp, axis=-1)`</td>\n",
       "      <td>NaN</td>\n",
       "      <td>NaN</td>\n",
       "      <td>3</td>\n",
       "    </tr>\n",
       "    <tr>\n",
       "      <th>U04CH4QBD_1467624909.0</th>\n",
       "      <td>lang_python</td>\n",
       "      <td>Написать лист из 12 туплов и apply</td>\n",
       "      <td>NaN</td>\n",
       "      <td>NaN</td>\n",
       "      <td>3</td>\n",
       "    </tr>\n",
       "    <tr>\n",
       "      <th>UC7F3KJ7P_1598453063.0</th>\n",
       "      <td>юла_ods</td>\n",
       "      <td>Можно, если в течение месяца не продам сборкой...</td>\n",
       "      <td>NaN</td>\n",
       "      <td>NaN</td>\n",
       "      <td>3</td>\n",
       "    </tr>\n",
       "  </tbody>\n",
       "</table>\n",
       "<p>57425 rows × 5 columns</p>\n",
       "</div>"
      ],
      "text/plain": [
       "                                channel  \\\n",
       "U3KTCHLUD_1592367443.0           career   \n",
       "U6PNWSJL8_1591984911.0  kaggle_crackers   \n",
       "U8XT96DAT_1575025496.0  kaggle_crackers   \n",
       "U4ZRFG1V0_1555478562.0           career   \n",
       "U21MU5ATE_1580264248.0           career   \n",
       "...                                 ...   \n",
       "U04ELQZAU_1542211289.0    _random_talks   \n",
       "UA92L7ACC_1595019367.0      lang_python   \n",
       "U3HM4KY14_1559582703.0      lang_python   \n",
       "U04CH4QBD_1467624909.0      lang_python   \n",
       "UC7F3KJ7P_1598453063.0          юла_ods   \n",
       "\n",
       "                                                                     text  \\\n",
       "U3KTCHLUD_1592367443.0  Как я искала работу в СФ во время пандемии\\n\\n...   \n",
       "U6PNWSJL8_1591984911.0  Сложно осознать, что можно вот так взять и пол...   \n",
       "U8XT96DAT_1575025496.0  Что то я тут подумал (видимо потому что пятниц...   \n",
       "U4ZRFG1V0_1555478562.0  Очередной исторический пост о прогрессе, ибо я...   \n",
       "U21MU5ATE_1580264248.0  :coolstorybob: про то, как проходил на стажиро...   \n",
       "...                                                                   ...   \n",
       "U04ELQZAU_1542211289.0  Любая достаточно развитая технология неотличим...   \n",
       "UA92L7ACC_1595019367.0  Тогда не очень получится :pepe_sad:\\nА `torch....   \n",
       "U3HM4KY14_1559582703.0                     `np.expand_dims(inp, axis=-1)`   \n",
       "U04CH4QBD_1467624909.0                 Написать лист из 12 туплов и apply   \n",
       "UC7F3KJ7P_1598453063.0  Можно, если в течение месяца не продам сборкой...   \n",
       "\n",
       "                                      best_ans  best_ans_score  pos_score  \n",
       "U3KTCHLUD_1592367443.0  U3KTCHLUD_1592597397.0            28.0        462  \n",
       "U6PNWSJL8_1591984911.0  U6PNWSJL8_1591990643.0            35.0        455  \n",
       "U8XT96DAT_1575025496.0  U4ZRFG1V0_1575026632.0            14.0        424  \n",
       "U4ZRFG1V0_1555478562.0  U1UNFRQ1K_1555486858.0            29.0        413  \n",
       "U21MU5ATE_1580264248.0  U21MU5ATE_1580278528.0             3.0        392  \n",
       "...                                        ...             ...        ...  \n",
       "U04ELQZAU_1542211289.0                     NaN             NaN          3  \n",
       "UA92L7ACC_1595019367.0                     NaN             NaN          3  \n",
       "U3HM4KY14_1559582703.0                     NaN             NaN          3  \n",
       "U04CH4QBD_1467624909.0                     NaN             NaN          3  \n",
       "UC7F3KJ7P_1598453063.0                     NaN             NaN          3  \n",
       "\n",
       "[57425 rows x 5 columns]"
      ]
     },
     "execution_count": 144,
     "metadata": {},
     "output_type": "execute_result"
    }
   ],
   "source": [
    "df[['channel', 'text', 'best_ans', 'best_ans_score', 'pos_score']].sort_values('pos_score', ascending=False)"
   ]
  },
  {
   "cell_type": "code",
   "execution_count": 28,
   "metadata": {},
   "outputs": [
    {
     "data": {
      "image/png": "[encoded data removed]",
      "text/plain": [
       "<Figure size 432x288 with 1 Axes>"
      ]
     },
     "metadata": {
      "needs_background": "light"
     },
     "output_type": "display_data"
    }
   ],
   "source": [
    "df['pos_score'].plot(kind='hist', bins=1090, xlim=(0, 100));"
   ]
  },
  {
   "cell_type": "code",
   "execution_count": 143,
   "metadata": {},
   "outputs": [
    {
     "data": {
      "text/plain": [
       "(57425, 56)"
      ]
     },
     "execution_count": 143,
     "metadata": {},
     "output_type": "execute_result"
    }
   ],
   "source": [
    "df.shape"
   ]
  },
  {
   "cell_type": "code",
   "execution_count": 95,
   "metadata": {},
   "outputs": [
    {
     "data": {
      "text/plain": [
       "764022"
      ]
     },
     "execution_count": 95,
     "metadata": {},
     "output_type": "execute_result"
    }
   ],
   "source": [
    "success_count"
   ]
  },
  {
   "cell_type": "code",
   "execution_count": 96,
   "metadata": {},
   "outputs": [
    {
     "data": {
      "text/plain": [
       "106792"
      ]
     },
     "execution_count": 96,
     "metadata": {},
     "output_type": "execute_result"
    }
   ],
   "source": [
    "fail_count"
   ]
  },
  {
   "cell_type": "code",
   "execution_count": 110,
   "metadata": {},
   "outputs": [
    {
     "data": {
      "text/plain": [
       "9"
      ]
     },
     "execution_count": 110,
     "metadata": {},
     "output_type": "execute_result"
    }
   ],
   "source": [
    "get_pos_score(eval(row['reactions']))"
   ]
  },
  {
   "cell_type": "code",
   "execution_count": null,
   "metadata": {},
   "outputs": [],
   "source": []
  }
 ],
 "metadata": {
  "kernelspec": {
   "display_name": "Python 3",
   "language": "python",
   "name": "python3"
  },
  "language_info": {
   "codemirror_mode": {
    "name": "ipython",
    "version": 3
   },
   "file_extension": ".py",
   "mimetype": "text/x-python",
   "name": "python",
   "nbconvert_exporter": "python",
   "pygments_lexer": "ipython3",
   "version": "3.7.4"
  },
  "pycharm": {
   "stem_cell": {
    "cell_type": "raw",
    "metadata": {
     "collapsed": false
    },
    "source": [
     "\n",
     "\n",
     "# %%\n",
     "import numpy as np\n",
     "import pandas as pd\n",
     "from config import DATA\n",
     "# %%\n",
     "df = pd.read_csv(f'{DATA}/ods_slack_all.csv')\n",
     "# %%\n",
     "df.head()\n",
     "\n",
     "\n"
    ]
   }
  }
 },
 "nbformat": 4,
 "nbformat_minor": 1
}
