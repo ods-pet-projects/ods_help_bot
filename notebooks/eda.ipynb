{
 "cells": [
  {
   "cell_type": "code",
   "execution_count": 1,
   "metadata": {},
   "outputs": [
    {
     "name": "stderr",
     "output_type": "stream",
     "text": [
      "/Users/o/work/PycharmProjects/venvs/wrike/lib/python3.7/site-packages/IPython/core/interactiveshell.py:3063: DtypeWarning: Columns (7,8,30,31,32,33,35,36,37,38,39,40,41,42,43,44,45,46,47,48,49,50) have mixed types.Specify dtype option on import or set low_memory=False.\n",
      "  interactivity=interactivity, compiler=compiler, result=result)\n",
      "/Users/o/work/PycharmProjects/venvs/wrike/lib/python3.7/site-packages/ipykernel_launcher.py:30: TqdmDeprecationWarning: This function will be removed in tqdm==5.0.0\n",
      "Please use `tqdm.notebook.tqdm` instead of `tqdm.tqdm_notebook`\n"
     ]
    },
    {
     "data": {
      "application/vnd.jupyter.widget-view+json": {
       "model_id": "be98628a84d94183b7bdb9d2d7cf86bd",
       "version_major": 2,
       "version_minor": 0
      },
      "text/plain": [
       "HBox(children=(FloatProgress(value=1.0, bar_style='info', max=1.0), HTML(value='')))"
      ]
     },
     "metadata": {},
     "output_type": "display_data"
    },
    {
     "name": "stdout",
     "output_type": "stream",
     "text": [
      "\n"
     ]
    }
   ],
   "source": [
    "import numpy as np\n",
    "import pandas as pd\n",
    "\n",
    "df = pd.read_csv('../data/ods_slack_all.csv')\n",
    "\n",
    "df.index = df['user'] + '_' + df['ts'].round(0).astype(str)\n",
    "df['new_ind'] = df.index\n",
    "\n",
    "def get_pos_score(reactions):\n",
    "    positive_reactions = {\n",
    "        'heavy_plus_sign',\n",
    "        '+1',\n",
    "        'tnx',\n",
    "        'omgtnx',\n",
    "        'muscle',\n",
    "        'fireball',\n",
    "        'shaka',\n",
    "        'fire',\n",
    "        'heart'\n",
    "    }\n",
    "    total_pos_score = 0\n",
    "    for reaction in reactions:\n",
    "        if reaction['name'] in positive_reactions:\n",
    "            total_pos_score += reaction['count']\n",
    "    return total_pos_score\n",
    "\n",
    "from tqdm import tqdm_notebook as tqdm\n",
    "\n",
    "pos_score_dict = {}\n",
    "for row_ind, row in tqdm(df['reactions'].dropna().iteritems()):\n",
    "    pos_score = get_pos_score(eval(row))\n",
    "    pos_score_dict[row_ind] = pos_score"
   ]
  },
  {
   "cell_type": "code",
   "execution_count": 2,
   "metadata": {},
   "outputs": [
    {
     "name": "stderr",
     "output_type": "stream",
     "text": [
      "/Users/o/work/PycharmProjects/venvs/wrike/lib/python3.7/site-packages/ipykernel_launcher.py:11: TqdmDeprecationWarning: This function will be removed in tqdm==5.0.0\n",
      "Please use `tqdm.notebook.tqdm` instead of `tqdm.tqdm_notebook`\n",
      "  # This is added back by InteractiveShellApp.init_path()\n"
     ]
    },
    {
     "data": {
      "application/vnd.jupyter.widget-view+json": {
       "model_id": "a1a504e249ec4ccb986d6140d4e0f3e0",
       "version_major": 2,
       "version_minor": 0
      },
      "text/plain": [
       "HBox(children=(FloatProgress(value=1.0, bar_style='info', max=1.0), HTML(value='')))"
      ]
     },
     "metadata": {},
     "output_type": "display_data"
    },
    {
     "name": "stdout",
     "output_type": "stream",
     "text": [
      "\n"
     ]
    }
   ],
   "source": [
    "from collections import defaultdict\n",
    "\n",
    "all_index = set(df.index)\n",
    "replies_dict = defaultdict(list)\n",
    "best_ans = {}\n",
    "best_ans_pos_score = {}\n",
    "success_count = 0\n",
    "fail_count = 0\n",
    "eval_fail_count = 0\n",
    "\n",
    "for row_ind, row in tqdm(df[~df['replies'].isnull()].iterrows()):\n",
    "    try:\n",
    "        replies = eval(row['replies'])\n",
    "    except:\n",
    "        eval_fail_count += 1\n",
    "    \n",
    "    for reply in replies:\n",
    "        new_ind = f'{reply[\"user\"]}_{round(float(reply[\"ts\"]), 0)}'\n",
    "        \n",
    "        if new_ind in all_index:\n",
    "            success_count += 1\n",
    "            replies_dict[row_ind].append(new_ind)\n",
    "        else:\n",
    "            fail_count += 1\n",
    "            \n",
    "    if replies_dict[row_ind]:\n",
    "        current_best_ans = max([(x, pos_score_dict.get(x, 0)) for x in replies_dict[row_ind]], key=lambda x: x[1])\n",
    "        best_ans[row_ind] = current_best_ans[0]\n",
    "        best_ans_pos_score[row_ind] = current_best_ans[1]"
   ]
  },
  {
   "cell_type": "code",
   "execution_count": 3,
   "metadata": {},
   "outputs": [
    {
     "name": "stdout",
     "output_type": "stream",
     "text": [
      "total questios with answers: 98131\n"
     ]
    }
   ],
   "source": [
    "print('total questios with answers:', len(df[~df['replies'].isnull()]))"
   ]
  },
  {
   "cell_type": "code",
   "execution_count": 4,
   "metadata": {},
   "outputs": [
    {
     "name": "stdout",
     "output_type": "stream",
     "text": [
      "False    1247599\n",
      "True      125840\n",
      "Name: is_answer, dtype: int64\n"
     ]
    }
   ],
   "source": [
    "df['is_answer'] = df['new_ind'].apply(lambda x: x in replies_dict)\n",
    "print(df['is_answer'].value_counts())"
   ]
  },
  {
   "cell_type": "code",
   "execution_count": 5,
   "metadata": {},
   "outputs": [],
   "source": [
    "df['new_ind'] = df.index\n",
    "df['best_ans'] = df['new_ind'].apply(lambda x: best_ans.get(x, np.NaN))\n",
    "df['best_ans_score'] = df['new_ind'].apply(lambda x: best_ans_pos_score.get(x, np.NaN))\n",
    "df['pos_score'] = df['new_ind'].apply(lambda x: pos_score_dict.get(x, 0))\n",
    "df = df.query('pos_score > 2')"
   ]
  },
  {
   "cell_type": "code",
   "execution_count": null,
   "metadata": {},
   "outputs": [],
   "source": []
  },
  {
   "cell_type": "code",
   "execution_count": 14,
   "metadata": {},
   "outputs": [
    {
     "ename": "KeyError",
     "evalue": "\"['best_ans_text'] not in index\"",
     "output_type": "error",
     "traceback": [
      "\u001b[0;31m---------------------------------------------------------------------------\u001b[0m",
      "\u001b[0;31mKeyError\u001b[0m                                  Traceback (most recent call last)",
      "\u001b[0;32m<ipython-input-14-dfb24ef5603e>\u001b[0m in \u001b[0;36m<module>\u001b[0;34m\u001b[0m\n\u001b[0;32m----> 1\u001b[0;31m \u001b[0mdf\u001b[0m\u001b[0;34m[\u001b[0m\u001b[0mdf\u001b[0m\u001b[0;34m[\u001b[0m\u001b[0;34m'is_answer'\u001b[0m\u001b[0;34m]\u001b[0m\u001b[0;34m]\u001b[0m\u001b[0;34m[\u001b[0m\u001b[0;34m[\u001b[0m\u001b[0;34m'text'\u001b[0m\u001b[0;34m,\u001b[0m \u001b[0;34m'best_ans_text'\u001b[0m\u001b[0;34m]\u001b[0m\u001b[0;34m]\u001b[0m\u001b[0;34m\u001b[0m\u001b[0;34m\u001b[0m\u001b[0m\n\u001b[0m",
      "\u001b[0;32m~/work/PycharmProjects/venvs/wrike/lib/python3.7/site-packages/pandas/core/frame.py\u001b[0m in \u001b[0;36m__getitem__\u001b[0;34m(self, key)\u001b[0m\n\u001b[1;32m   2906\u001b[0m             \u001b[0;32mif\u001b[0m \u001b[0mis_iterator\u001b[0m\u001b[0;34m(\u001b[0m\u001b[0mkey\u001b[0m\u001b[0;34m)\u001b[0m\u001b[0;34m:\u001b[0m\u001b[0;34m\u001b[0m\u001b[0;34m\u001b[0m\u001b[0m\n\u001b[1;32m   2907\u001b[0m                 \u001b[0mkey\u001b[0m \u001b[0;34m=\u001b[0m \u001b[0mlist\u001b[0m\u001b[0;34m(\u001b[0m\u001b[0mkey\u001b[0m\u001b[0;34m)\u001b[0m\u001b[0;34m\u001b[0m\u001b[0;34m\u001b[0m\u001b[0m\n\u001b[0;32m-> 2908\u001b[0;31m             \u001b[0mindexer\u001b[0m \u001b[0;34m=\u001b[0m \u001b[0mself\u001b[0m\u001b[0;34m.\u001b[0m\u001b[0mloc\u001b[0m\u001b[0;34m.\u001b[0m\u001b[0m_get_listlike_indexer\u001b[0m\u001b[0;34m(\u001b[0m\u001b[0mkey\u001b[0m\u001b[0;34m,\u001b[0m \u001b[0maxis\u001b[0m\u001b[0;34m=\u001b[0m\u001b[0;36m1\u001b[0m\u001b[0;34m,\u001b[0m \u001b[0mraise_missing\u001b[0m\u001b[0;34m=\u001b[0m\u001b[0;32mTrue\u001b[0m\u001b[0;34m)\u001b[0m\u001b[0;34m[\u001b[0m\u001b[0;36m1\u001b[0m\u001b[0;34m]\u001b[0m\u001b[0;34m\u001b[0m\u001b[0;34m\u001b[0m\u001b[0m\n\u001b[0m\u001b[1;32m   2909\u001b[0m \u001b[0;34m\u001b[0m\u001b[0m\n\u001b[1;32m   2910\u001b[0m         \u001b[0;31m# take() does not accept boolean indexers\u001b[0m\u001b[0;34m\u001b[0m\u001b[0;34m\u001b[0m\u001b[0;34m\u001b[0m\u001b[0m\n",
      "\u001b[0;32m~/work/PycharmProjects/venvs/wrike/lib/python3.7/site-packages/pandas/core/indexing.py\u001b[0m in \u001b[0;36m_get_listlike_indexer\u001b[0;34m(self, key, axis, raise_missing)\u001b[0m\n\u001b[1;32m   1252\u001b[0m             \u001b[0mkeyarr\u001b[0m\u001b[0;34m,\u001b[0m \u001b[0mindexer\u001b[0m\u001b[0;34m,\u001b[0m \u001b[0mnew_indexer\u001b[0m \u001b[0;34m=\u001b[0m \u001b[0max\u001b[0m\u001b[0;34m.\u001b[0m\u001b[0m_reindex_non_unique\u001b[0m\u001b[0;34m(\u001b[0m\u001b[0mkeyarr\u001b[0m\u001b[0;34m)\u001b[0m\u001b[0;34m\u001b[0m\u001b[0;34m\u001b[0m\u001b[0m\n\u001b[1;32m   1253\u001b[0m \u001b[0;34m\u001b[0m\u001b[0m\n\u001b[0;32m-> 1254\u001b[0;31m         \u001b[0mself\u001b[0m\u001b[0;34m.\u001b[0m\u001b[0m_validate_read_indexer\u001b[0m\u001b[0;34m(\u001b[0m\u001b[0mkeyarr\u001b[0m\u001b[0;34m,\u001b[0m \u001b[0mindexer\u001b[0m\u001b[0;34m,\u001b[0m \u001b[0maxis\u001b[0m\u001b[0;34m,\u001b[0m \u001b[0mraise_missing\u001b[0m\u001b[0;34m=\u001b[0m\u001b[0mraise_missing\u001b[0m\u001b[0;34m)\u001b[0m\u001b[0;34m\u001b[0m\u001b[0;34m\u001b[0m\u001b[0m\n\u001b[0m\u001b[1;32m   1255\u001b[0m         \u001b[0;32mreturn\u001b[0m \u001b[0mkeyarr\u001b[0m\u001b[0;34m,\u001b[0m \u001b[0mindexer\u001b[0m\u001b[0;34m\u001b[0m\u001b[0;34m\u001b[0m\u001b[0m\n\u001b[1;32m   1256\u001b[0m \u001b[0;34m\u001b[0m\u001b[0m\n",
      "\u001b[0;32m~/work/PycharmProjects/venvs/wrike/lib/python3.7/site-packages/pandas/core/indexing.py\u001b[0m in \u001b[0;36m_validate_read_indexer\u001b[0;34m(self, key, indexer, axis, raise_missing)\u001b[0m\n\u001b[1;32m   1302\u001b[0m             \u001b[0;32mif\u001b[0m \u001b[0mraise_missing\u001b[0m\u001b[0;34m:\u001b[0m\u001b[0;34m\u001b[0m\u001b[0;34m\u001b[0m\u001b[0m\n\u001b[1;32m   1303\u001b[0m                 \u001b[0mnot_found\u001b[0m \u001b[0;34m=\u001b[0m \u001b[0mlist\u001b[0m\u001b[0;34m(\u001b[0m\u001b[0mset\u001b[0m\u001b[0;34m(\u001b[0m\u001b[0mkey\u001b[0m\u001b[0;34m)\u001b[0m \u001b[0;34m-\u001b[0m \u001b[0mset\u001b[0m\u001b[0;34m(\u001b[0m\u001b[0max\u001b[0m\u001b[0;34m)\u001b[0m\u001b[0;34m)\u001b[0m\u001b[0;34m\u001b[0m\u001b[0;34m\u001b[0m\u001b[0m\n\u001b[0;32m-> 1304\u001b[0;31m                 \u001b[0;32mraise\u001b[0m \u001b[0mKeyError\u001b[0m\u001b[0;34m(\u001b[0m\u001b[0;34mf\"{not_found} not in index\"\u001b[0m\u001b[0;34m)\u001b[0m\u001b[0;34m\u001b[0m\u001b[0;34m\u001b[0m\u001b[0m\n\u001b[0m\u001b[1;32m   1305\u001b[0m \u001b[0;34m\u001b[0m\u001b[0m\n\u001b[1;32m   1306\u001b[0m             \u001b[0;31m# we skip the warning on Categorical\u001b[0m\u001b[0;34m\u001b[0m\u001b[0;34m\u001b[0m\u001b[0;34m\u001b[0m\u001b[0m\n",
      "\u001b[0;31mKeyError\u001b[0m: \"['best_ans_text'] not in index\""
     ]
    }
   ],
   "source": [
    "df[df['is_answer']][['text', 'best_ans_text']]"
   ]
  },
  {
   "cell_type": "code",
   "execution_count": 16,
   "metadata": {},
   "outputs": [
    {
     "name": "stderr",
     "output_type": "stream",
     "text": [
      "/Users/o/work/PycharmProjects/venvs/wrike/lib/python3.7/site-packages/IPython/core/interactiveshell.py:3063: DtypeWarning: Columns (7,8,31,36,37,46,50) have mixed types.Specify dtype option on import or set low_memory=False.\n",
      "  interactivity=interactivity, compiler=compiler, result=result)\n"
     ]
    }
   ],
   "source": [
    "df = pd.read_csv('../data/ods_slack_answers.csv')"
   ]
  },
  {
   "cell_type": "code",
   "execution_count": 7,
   "metadata": {},
   "outputs": [],
   "source": [
    "df_new = df[['new_ind', 'text']].rename(columns={'new_ind': 'best_ans', 'text': 'answer_text'})"
   ]
  },
  {
   "cell_type": "code",
   "execution_count": 18,
   "metadata": {},
   "outputs": [],
   "source": [
    "df = pd.merge(df, df_new, on='best_ans', how='left')"
   ]
  },
  {
   "cell_type": "code",
   "execution_count": 19,
   "metadata": {},
   "outputs": [
    {
     "data": {
      "text/plain": [
       "(57426, 58)"
      ]
     },
     "execution_count": 19,
     "metadata": {},
     "output_type": "execute_result"
    }
   ],
   "source": [
    "df.shape"
   ]
  },
  {
   "cell_type": "code",
   "execution_count": 22,
   "metadata": {},
   "outputs": [
    {
     "data": {
      "text/html": [
       "<div>\n",
       "<style scoped>\n",
       "    .dataframe tbody tr th:only-of-type {\n",
       "        vertical-align: middle;\n",
       "    }\n",
       "\n",
       "    .dataframe tbody tr th {\n",
       "        vertical-align: top;\n",
       "    }\n",
       "\n",
       "    .dataframe thead th {\n",
       "        text-align: right;\n",
       "    }\n",
       "</style>\n",
       "<table border=\"1\" class=\"dataframe\">\n",
       "  <thead>\n",
       "    <tr style=\"text-align: right;\">\n",
       "      <th></th>\n",
       "      <th>text</th>\n",
       "      <th>answer_text</th>\n",
       "    </tr>\n",
       "  </thead>\n",
       "  <tbody>\n",
       "    <tr>\n",
       "      <th>0</th>\n",
       "      <td>Добрый день, коллеги. Ищу человека, который см...</td>\n",
       "      <td>Еще накину: лучше не переводи 1:1, а переписыв...</td>\n",
       "    </tr>\n",
       "    <tr>\n",
       "      <th>39</th>\n",
       "      <td>Привет, коллеги! Учусь по специальности Data S...</td>\n",
       "      <td>не ну вы канеш нового члена ОДС оч токсично вс...</td>\n",
       "    </tr>\n",
       "    <tr>\n",
       "      <th>57</th>\n",
       "      <td>Привет!\\nЕсть желание сделать  социальное прил...</td>\n",
       "      <td>вот это как раз machine learning for social go...</td>\n",
       "    </tr>\n",
       "    <tr>\n",
       "      <th>65</th>\n",
       "      <td>Друзья, в особенности гастролеры с опытом! :co...</td>\n",
       "      <td>Площадку не надо выбивать, я просто приду в де...</td>\n",
       "    </tr>\n",
       "    <tr>\n",
       "      <th>68</th>\n",
       "      <td>Мопед мой! \\n\\nИщу коуча (тренера/мастера йоду...</td>\n",
       "      <td>Вот тебе библиотечка кванта &lt;https://drive.goo...</td>\n",
       "    </tr>\n",
       "    <tr>\n",
       "      <th>...</th>\n",
       "      <td>...</td>\n",
       "      <td>...</td>\n",
       "    </tr>\n",
       "    <tr>\n",
       "      <th>57267</th>\n",
       "      <td>Привет, я Таня.\\nЖиву  и работаю в Милане дата...</td>\n",
       "      <td>Плюсую обновление аватарки :youknow:</td>\n",
       "    </tr>\n",
       "    <tr>\n",
       "      <th>57319</th>\n",
       "      <td>Всем привет, я Тимур. Мне 18. В этом году пост...</td>\n",
       "      <td>На учёбу можно забить по большей части, сдават...</td>\n",
       "    </tr>\n",
       "    <tr>\n",
       "      <th>57378</th>\n",
       "      <td>Привет, меня зовут Дина, мне 27. Я работаю в G...</td>\n",
       "      <td>&lt;@U04ELQZAU&gt; относительно ассистента и его экш...</td>\n",
       "    </tr>\n",
       "    <tr>\n",
       "      <th>57419</th>\n",
       "      <td>Классный гайд про визуализации и картинки в ри...</td>\n",
       "      <td>ИМХО, не раскрыта пара тем - печатать ваши илл...</td>\n",
       "    </tr>\n",
       "    <tr>\n",
       "      <th>57424</th>\n",
       "      <td>Продаю девбокс на 1950 тредриппере с 4 x 1080 ...</td>\n",
       "      <td>Можно, если в течение месяца не продам сборкой...</td>\n",
       "    </tr>\n",
       "  </tbody>\n",
       "</table>\n",
       "<p>3486 rows × 2 columns</p>\n",
       "</div>"
      ],
      "text/plain": [
       "                                                    text  \\\n",
       "0      Добрый день, коллеги. Ищу человека, который см...   \n",
       "39     Привет, коллеги! Учусь по специальности Data S...   \n",
       "57     Привет!\\nЕсть желание сделать  социальное прил...   \n",
       "65     Друзья, в особенности гастролеры с опытом! :co...   \n",
       "68     Мопед мой! \\n\\nИщу коуча (тренера/мастера йоду...   \n",
       "...                                                  ...   \n",
       "57267  Привет, я Таня.\\nЖиву  и работаю в Милане дата...   \n",
       "57319  Всем привет, я Тимур. Мне 18. В этом году пост...   \n",
       "57378  Привет, меня зовут Дина, мне 27. Я работаю в G...   \n",
       "57419  Классный гайд про визуализации и картинки в ри...   \n",
       "57424  Продаю девбокс на 1950 тредриппере с 4 x 1080 ...   \n",
       "\n",
       "                                             answer_text  \n",
       "0      Еще накину: лучше не переводи 1:1, а переписыв...  \n",
       "39     не ну вы канеш нового члена ОДС оч токсично вс...  \n",
       "57     вот это как раз machine learning for social go...  \n",
       "65     Площадку не надо выбивать, я просто приду в де...  \n",
       "68     Вот тебе библиотечка кванта <https://drive.goo...  \n",
       "...                                                  ...  \n",
       "57267              Плюсую обновление аватарки :youknow:   \n",
       "57319  На учёбу можно забить по большей части, сдават...  \n",
       "57378  <@U04ELQZAU> относительно ассистента и его экш...  \n",
       "57419  ИМХО, не раскрыта пара тем - печатать ваши илл...  \n",
       "57424  Можно, если в течение месяца не продам сборкой...  \n",
       "\n",
       "[3486 rows x 2 columns]"
      ]
     },
     "execution_count": 22,
     "metadata": {},
     "output_type": "execute_result"
    }
   ],
   "source": [
    "df[['text', 'answer_text']].dropna(subset=['answer_text'])"
   ]
  },
  {
   "cell_type": "code",
   "execution_count": 23,
   "metadata": {},
   "outputs": [],
   "source": [
    "df.to_csv('../data/ods_answers.csv', index=False)"
   ]
  },
  {
   "cell_type": "code",
   "execution_count": 24,
   "metadata": {},
   "outputs": [
    {
     "data": {
      "text/html": [
       "<div>\n",
       "<style scoped>\n",
       "    .dataframe tbody tr th:only-of-type {\n",
       "        vertical-align: middle;\n",
       "    }\n",
       "\n",
       "    .dataframe tbody tr th {\n",
       "        vertical-align: top;\n",
       "    }\n",
       "\n",
       "    .dataframe thead th {\n",
       "        text-align: right;\n",
       "    }\n",
       "</style>\n",
       "<table border=\"1\" class=\"dataframe\">\n",
       "  <thead>\n",
       "    <tr style=\"text-align: right;\">\n",
       "      <th></th>\n",
       "      <th>Unnamed: 0</th>\n",
       "      <th>type</th>\n",
       "      <th>subtype</th>\n",
       "      <th>ts</th>\n",
       "      <th>user</th>\n",
       "      <th>text</th>\n",
       "      <th>channel</th>\n",
       "      <th>old_name</th>\n",
       "      <th>name</th>\n",
       "      <th>reactions</th>\n",
       "      <th>...</th>\n",
       "      <th>no_notifications</th>\n",
       "      <th>permalink</th>\n",
       "      <th>bot_profile</th>\n",
       "      <th>text_len</th>\n",
       "      <th>new_ind</th>\n",
       "      <th>is_answer</th>\n",
       "      <th>best_ans</th>\n",
       "      <th>best_ans_score</th>\n",
       "      <th>pos_score</th>\n",
       "      <th>answer_text</th>\n",
       "    </tr>\n",
       "  </thead>\n",
       "  <tbody>\n",
       "    <tr>\n",
       "      <th>0</th>\n",
       "      <td>17</td>\n",
       "      <td>message</td>\n",
       "      <td>NaN</td>\n",
       "      <td>1.548140e+09</td>\n",
       "      <td>U1NPQ2WPN</td>\n",
       "      <td>Добрый день, коллеги. Ищу человека, который см...</td>\n",
       "      <td>_call_4_collaboration</td>\n",
       "      <td>NaN</td>\n",
       "      <td>NaN</td>\n",
       "      <td>[{'name': 'heavy_plus_sign', 'users': ['U99J6E...</td>\n",
       "      <td>...</td>\n",
       "      <td>NaN</td>\n",
       "      <td>NaN</td>\n",
       "      <td>NaN</td>\n",
       "      <td>382</td>\n",
       "      <td>U1NPQ2WPN_1548139899.0</td>\n",
       "      <td>True</td>\n",
       "      <td>U5QBU8SUR_1548238982.0</td>\n",
       "      <td>6.0</td>\n",
       "      <td>8</td>\n",
       "      <td>Еще накину: лучше не переводи 1:1, а переписыв...</td>\n",
       "    </tr>\n",
       "    <tr>\n",
       "      <th>1</th>\n",
       "      <td>19</td>\n",
       "      <td>message</td>\n",
       "      <td>NaN</td>\n",
       "      <td>1.585138e+09</td>\n",
       "      <td>UK188NRKM</td>\n",
       "      <td>Всем привет! Кто-нибудь нуждается в услугах се...</td>\n",
       "      <td>_call_4_collaboration</td>\n",
       "      <td>NaN</td>\n",
       "      <td>NaN</td>\n",
       "      <td>[{'name': '+1', 'users': ['U2N853RGF', 'U331LV...</td>\n",
       "      <td>...</td>\n",
       "      <td>NaN</td>\n",
       "      <td>NaN</td>\n",
       "      <td>NaN</td>\n",
       "      <td>625</td>\n",
       "      <td>UK188NRKM_1585138381.0</td>\n",
       "      <td>True</td>\n",
       "      <td>U4ZDFAAA3_1585138974.0</td>\n",
       "      <td>0.0</td>\n",
       "      <td>3</td>\n",
       "      <td>NaN</td>\n",
       "    </tr>\n",
       "    <tr>\n",
       "      <th>2</th>\n",
       "      <td>25</td>\n",
       "      <td>message</td>\n",
       "      <td>NaN</td>\n",
       "      <td>1.585176e+09</td>\n",
       "      <td>U0AS1QEJF</td>\n",
       "      <td>На вопросы, которые ты задал о качественных св...</td>\n",
       "      <td>_call_4_collaboration</td>\n",
       "      <td>NaN</td>\n",
       "      <td>NaN</td>\n",
       "      <td>[{'name': 'heavy_plus_sign', 'users': ['U04ELQ...</td>\n",
       "      <td>...</td>\n",
       "      <td>NaN</td>\n",
       "      <td>NaN</td>\n",
       "      <td>NaN</td>\n",
       "      <td>609</td>\n",
       "      <td>U0AS1QEJF_1585175724.0</td>\n",
       "      <td>False</td>\n",
       "      <td>NaN</td>\n",
       "      <td>NaN</td>\n",
       "      <td>4</td>\n",
       "      <td>NaN</td>\n",
       "    </tr>\n",
       "    <tr>\n",
       "      <th>3</th>\n",
       "      <td>37</td>\n",
       "      <td>message</td>\n",
       "      <td>NaN</td>\n",
       "      <td>1.490462e+09</td>\n",
       "      <td>U27HU84H4</td>\n",
       "      <td>зато остальным начинающим сайентистам гораздо ...</td>\n",
       "      <td>_call_4_collaboration</td>\n",
       "      <td>NaN</td>\n",
       "      <td>NaN</td>\n",
       "      <td>[{'name': 'heavy_plus_sign', 'users': ['U040HK...</td>\n",
       "      <td>...</td>\n",
       "      <td>NaN</td>\n",
       "      <td>NaN</td>\n",
       "      <td>NaN</td>\n",
       "      <td>187</td>\n",
       "      <td>U27HU84H4_1490461856.0</td>\n",
       "      <td>False</td>\n",
       "      <td>NaN</td>\n",
       "      <td>NaN</td>\n",
       "      <td>5</td>\n",
       "      <td>NaN</td>\n",
       "    </tr>\n",
       "    <tr>\n",
       "      <th>4</th>\n",
       "      <td>39</td>\n",
       "      <td>message</td>\n",
       "      <td>NaN</td>\n",
       "      <td>1.490462e+09</td>\n",
       "      <td>U040HKJE7</td>\n",
       "      <td>(продолжая общую мысль про спрашивать в публич...</td>\n",
       "      <td>_call_4_collaboration</td>\n",
       "      <td>NaN</td>\n",
       "      <td>NaN</td>\n",
       "      <td>[{'name': 'heavy_plus_sign', 'users': ['U0FEJN...</td>\n",
       "      <td>...</td>\n",
       "      <td>NaN</td>\n",
       "      <td>NaN</td>\n",
       "      <td>NaN</td>\n",
       "      <td>233</td>\n",
       "      <td>U040HKJE7_1490462048.0</td>\n",
       "      <td>False</td>\n",
       "      <td>NaN</td>\n",
       "      <td>NaN</td>\n",
       "      <td>16</td>\n",
       "      <td>NaN</td>\n",
       "    </tr>\n",
       "    <tr>\n",
       "      <th>...</th>\n",
       "      <td>...</td>\n",
       "      <td>...</td>\n",
       "      <td>...</td>\n",
       "      <td>...</td>\n",
       "      <td>...</td>\n",
       "      <td>...</td>\n",
       "      <td>...</td>\n",
       "      <td>...</td>\n",
       "      <td>...</td>\n",
       "      <td>...</td>\n",
       "      <td>...</td>\n",
       "      <td>...</td>\n",
       "      <td>...</td>\n",
       "      <td>...</td>\n",
       "      <td>...</td>\n",
       "      <td>...</td>\n",
       "      <td>...</td>\n",
       "      <td>...</td>\n",
       "      <td>...</td>\n",
       "      <td>...</td>\n",
       "      <td>...</td>\n",
       "    </tr>\n",
       "    <tr>\n",
       "      <th>57421</th>\n",
       "      <td>1801512</td>\n",
       "      <td>message</td>\n",
       "      <td>thread_broadcast</td>\n",
       "      <td>1.548151e+09</td>\n",
       "      <td>U4ZNGNPQU</td>\n",
       "      <td>Бери скрижали, пиши заповеди:\\n\\n1. *Делай пре...</td>\n",
       "      <td>writing_n_presenting</td>\n",
       "      <td>NaN</td>\n",
       "      <td>NaN</td>\n",
       "      <td>[{'name': 'jesus', 'users': ['UA7D8TN9F', 'U9V...</td>\n",
       "      <td>...</td>\n",
       "      <td>NaN</td>\n",
       "      <td>NaN</td>\n",
       "      <td>NaN</td>\n",
       "      <td>3537</td>\n",
       "      <td>U4ZNGNPQU_1548151493.0</td>\n",
       "      <td>False</td>\n",
       "      <td>NaN</td>\n",
       "      <td>NaN</td>\n",
       "      <td>34</td>\n",
       "      <td>NaN</td>\n",
       "    </tr>\n",
       "    <tr>\n",
       "      <th>57422</th>\n",
       "      <td>1801514</td>\n",
       "      <td>message</td>\n",
       "      <td>NaN</td>\n",
       "      <td>1.561892e+09</td>\n",
       "      <td>U27HU84H4</td>\n",
       "      <td>&amp;gt; arxiv и правда разрешает любой формат\\n И...</td>\n",
       "      <td>writing_n_presenting</td>\n",
       "      <td>NaN</td>\n",
       "      <td>NaN</td>\n",
       "      <td>[{'name': 'tnx', 'users': ['U3L4UC8H4', 'UJW9M...</td>\n",
       "      <td>...</td>\n",
       "      <td>NaN</td>\n",
       "      <td>NaN</td>\n",
       "      <td>NaN</td>\n",
       "      <td>382</td>\n",
       "      <td>U27HU84H4_1561891987.0</td>\n",
       "      <td>False</td>\n",
       "      <td>NaN</td>\n",
       "      <td>NaN</td>\n",
       "      <td>4</td>\n",
       "      <td>NaN</td>\n",
       "    </tr>\n",
       "    <tr>\n",
       "      <th>57423</th>\n",
       "      <td>1801617</td>\n",
       "      <td>message</td>\n",
       "      <td>NaN</td>\n",
       "      <td>1.594481e+09</td>\n",
       "      <td>U6Y47FWKX</td>\n",
       "      <td>Привет! Хочу продать в Питере сборку.\\nПричина...</td>\n",
       "      <td>юла_ods</td>\n",
       "      <td>NaN</td>\n",
       "      <td>NaN</td>\n",
       "      <td>[{'name': 'fireball', 'users': ['UC7F3KJ7P', '...</td>\n",
       "      <td>...</td>\n",
       "      <td>NaN</td>\n",
       "      <td>NaN</td>\n",
       "      <td>NaN</td>\n",
       "      <td>528</td>\n",
       "      <td>U6Y47FWKX_1594481308.0</td>\n",
       "      <td>True</td>\n",
       "      <td>U6Y47FWKX_1594481497.0</td>\n",
       "      <td>0.0</td>\n",
       "      <td>11</td>\n",
       "      <td>NaN</td>\n",
       "    </tr>\n",
       "    <tr>\n",
       "      <th>57424</th>\n",
       "      <td>1801656</td>\n",
       "      <td>message</td>\n",
       "      <td>NaN</td>\n",
       "      <td>1.598438e+09</td>\n",
       "      <td>UC7F3KJ7P</td>\n",
       "      <td>Продаю девбокс на 1950 тредриппере с 4 x 1080 ...</td>\n",
       "      <td>юла_ods</td>\n",
       "      <td>NaN</td>\n",
       "      <td>NaN</td>\n",
       "      <td>[{'name': 'fireball', 'users': ['U6Y47FWKX', '...</td>\n",
       "      <td>...</td>\n",
       "      <td>NaN</td>\n",
       "      <td>NaN</td>\n",
       "      <td>NaN</td>\n",
       "      <td>212</td>\n",
       "      <td>UC7F3KJ7P_1598437707.0</td>\n",
       "      <td>True</td>\n",
       "      <td>UC7F3KJ7P_1598453063.0</td>\n",
       "      <td>3.0</td>\n",
       "      <td>9</td>\n",
       "      <td>Можно, если в течение месяца не продам сборкой...</td>\n",
       "    </tr>\n",
       "    <tr>\n",
       "      <th>57425</th>\n",
       "      <td>1801661</td>\n",
       "      <td>message</td>\n",
       "      <td>NaN</td>\n",
       "      <td>1.598453e+09</td>\n",
       "      <td>UC7F3KJ7P</td>\n",
       "      <td>Можно, если в течение месяца не продам сборкой...</td>\n",
       "      <td>юла_ods</td>\n",
       "      <td>NaN</td>\n",
       "      <td>NaN</td>\n",
       "      <td>[{'name': '+1', 'users': ['U3P82LKDK', 'UCV0RM...</td>\n",
       "      <td>...</td>\n",
       "      <td>NaN</td>\n",
       "      <td>NaN</td>\n",
       "      <td>NaN</td>\n",
       "      <td>61</td>\n",
       "      <td>UC7F3KJ7P_1598453063.0</td>\n",
       "      <td>False</td>\n",
       "      <td>NaN</td>\n",
       "      <td>NaN</td>\n",
       "      <td>3</td>\n",
       "      <td>NaN</td>\n",
       "    </tr>\n",
       "  </tbody>\n",
       "</table>\n",
       "<p>57426 rows × 58 columns</p>\n",
       "</div>"
      ],
      "text/plain": [
       "       Unnamed: 0     type           subtype            ts       user  \\\n",
       "0              17  message               NaN  1.548140e+09  U1NPQ2WPN   \n",
       "1              19  message               NaN  1.585138e+09  UK188NRKM   \n",
       "2              25  message               NaN  1.585176e+09  U0AS1QEJF   \n",
       "3              37  message               NaN  1.490462e+09  U27HU84H4   \n",
       "4              39  message               NaN  1.490462e+09  U040HKJE7   \n",
       "...           ...      ...               ...           ...        ...   \n",
       "57421     1801512  message  thread_broadcast  1.548151e+09  U4ZNGNPQU   \n",
       "57422     1801514  message               NaN  1.561892e+09  U27HU84H4   \n",
       "57423     1801617  message               NaN  1.594481e+09  U6Y47FWKX   \n",
       "57424     1801656  message               NaN  1.598438e+09  UC7F3KJ7P   \n",
       "57425     1801661  message               NaN  1.598453e+09  UC7F3KJ7P   \n",
       "\n",
       "                                                    text  \\\n",
       "0      Добрый день, коллеги. Ищу человека, который см...   \n",
       "1      Всем привет! Кто-нибудь нуждается в услугах се...   \n",
       "2      На вопросы, которые ты задал о качественных св...   \n",
       "3      зато остальным начинающим сайентистам гораздо ...   \n",
       "4      (продолжая общую мысль про спрашивать в публич...   \n",
       "...                                                  ...   \n",
       "57421  Бери скрижали, пиши заповеди:\\n\\n1. *Делай пре...   \n",
       "57422  &gt; arxiv и правда разрешает любой формат\\n И...   \n",
       "57423  Привет! Хочу продать в Питере сборку.\\nПричина...   \n",
       "57424  Продаю девбокс на 1950 тредриппере с 4 x 1080 ...   \n",
       "57425  Можно, если в течение месяца не продам сборкой...   \n",
       "\n",
       "                     channel old_name name  \\\n",
       "0      _call_4_collaboration      NaN  NaN   \n",
       "1      _call_4_collaboration      NaN  NaN   \n",
       "2      _call_4_collaboration      NaN  NaN   \n",
       "3      _call_4_collaboration      NaN  NaN   \n",
       "4      _call_4_collaboration      NaN  NaN   \n",
       "...                      ...      ...  ...   \n",
       "57421   writing_n_presenting      NaN  NaN   \n",
       "57422   writing_n_presenting      NaN  NaN   \n",
       "57423                юла_ods      NaN  NaN   \n",
       "57424                юла_ods      NaN  NaN   \n",
       "57425                юла_ods      NaN  NaN   \n",
       "\n",
       "                                               reactions  ...  \\\n",
       "0      [{'name': 'heavy_plus_sign', 'users': ['U99J6E...  ...   \n",
       "1      [{'name': '+1', 'users': ['U2N853RGF', 'U331LV...  ...   \n",
       "2      [{'name': 'heavy_plus_sign', 'users': ['U04ELQ...  ...   \n",
       "3      [{'name': 'heavy_plus_sign', 'users': ['U040HK...  ...   \n",
       "4      [{'name': 'heavy_plus_sign', 'users': ['U0FEJN...  ...   \n",
       "...                                                  ...  ...   \n",
       "57421  [{'name': 'jesus', 'users': ['UA7D8TN9F', 'U9V...  ...   \n",
       "57422  [{'name': 'tnx', 'users': ['U3L4UC8H4', 'UJW9M...  ...   \n",
       "57423  [{'name': 'fireball', 'users': ['UC7F3KJ7P', '...  ...   \n",
       "57424  [{'name': 'fireball', 'users': ['U6Y47FWKX', '...  ...   \n",
       "57425  [{'name': '+1', 'users': ['U3P82LKDK', 'UCV0RM...  ...   \n",
       "\n",
       "      no_notifications permalink bot_profile text_len                 new_ind  \\\n",
       "0                  NaN       NaN         NaN      382  U1NPQ2WPN_1548139899.0   \n",
       "1                  NaN       NaN         NaN      625  UK188NRKM_1585138381.0   \n",
       "2                  NaN       NaN         NaN      609  U0AS1QEJF_1585175724.0   \n",
       "3                  NaN       NaN         NaN      187  U27HU84H4_1490461856.0   \n",
       "4                  NaN       NaN         NaN      233  U040HKJE7_1490462048.0   \n",
       "...                ...       ...         ...      ...                     ...   \n",
       "57421              NaN       NaN         NaN     3537  U4ZNGNPQU_1548151493.0   \n",
       "57422              NaN       NaN         NaN      382  U27HU84H4_1561891987.0   \n",
       "57423              NaN       NaN         NaN      528  U6Y47FWKX_1594481308.0   \n",
       "57424              NaN       NaN         NaN      212  UC7F3KJ7P_1598437707.0   \n",
       "57425              NaN       NaN         NaN       61  UC7F3KJ7P_1598453063.0   \n",
       "\n",
       "      is_answer                best_ans best_ans_score pos_score  \\\n",
       "0          True  U5QBU8SUR_1548238982.0            6.0         8   \n",
       "1          True  U4ZDFAAA3_1585138974.0            0.0         3   \n",
       "2         False                     NaN            NaN         4   \n",
       "3         False                     NaN            NaN         5   \n",
       "4         False                     NaN            NaN        16   \n",
       "...         ...                     ...            ...       ...   \n",
       "57421     False                     NaN            NaN        34   \n",
       "57422     False                     NaN            NaN         4   \n",
       "57423      True  U6Y47FWKX_1594481497.0            0.0        11   \n",
       "57424      True  UC7F3KJ7P_1598453063.0            3.0         9   \n",
       "57425     False                     NaN            NaN         3   \n",
       "\n",
       "                                             answer_text  \n",
       "0      Еще накину: лучше не переводи 1:1, а переписыв...  \n",
       "1                                                    NaN  \n",
       "2                                                    NaN  \n",
       "3                                                    NaN  \n",
       "4                                                    NaN  \n",
       "...                                                  ...  \n",
       "57421                                                NaN  \n",
       "57422                                                NaN  \n",
       "57423                                                NaN  \n",
       "57424  Можно, если в течение месяца не продам сборкой...  \n",
       "57425                                                NaN  \n",
       "\n",
       "[57426 rows x 58 columns]"
      ]
     },
     "execution_count": 24,
     "metadata": {},
     "output_type": "execute_result"
    }
   ],
   "source": [
    "df"
   ]
  },
  {
   "cell_type": "code",
   "execution_count": null,
   "metadata": {},
   "outputs": [],
   "source": [
    "df[['text', '']]"
   ]
  },
  {
   "cell_type": "code",
   "execution_count": 133,
   "metadata": {},
   "outputs": [
    {
     "data": {
      "text/html": [
       "<div>\n",
       "<style scoped>\n",
       "    .dataframe tbody tr th:only-of-type {\n",
       "        vertical-align: middle;\n",
       "    }\n",
       "\n",
       "    .dataframe tbody tr th {\n",
       "        vertical-align: top;\n",
       "    }\n",
       "\n",
       "    .dataframe thead th {\n",
       "        text-align: right;\n",
       "    }\n",
       "</style>\n",
       "<table border=\"1\" class=\"dataframe\">\n",
       "  <thead>\n",
       "    <tr style=\"text-align: right;\">\n",
       "      <th></th>\n",
       "      <th>new_ind</th>\n",
       "      <th>text</th>\n",
       "      <th>best_ans</th>\n",
       "      <th>best_ans_score</th>\n",
       "      <th>pos_score</th>\n",
       "    </tr>\n",
       "  </thead>\n",
       "  <tbody>\n",
       "    <tr>\n",
       "      <th>U040HKJE7_1534697984.0</th>\n",
       "      <td>U040HKJE7_1534697984.0</td>\n",
       "      <td>&lt;@U040HKJE7&gt; has renamed the channel from \"_to...</td>\n",
       "      <td>NaN</td>\n",
       "      <td>NaN</td>\n",
       "      <td>0</td>\n",
       "    </tr>\n",
       "    <tr>\n",
       "      <th>U040HKJE7_1534697988.0</th>\n",
       "      <td>U040HKJE7_1534697988.0</td>\n",
       "      <td>&lt;@U040HKJE7&gt; archived the channel</td>\n",
       "      <td>NaN</td>\n",
       "      <td>NaN</td>\n",
       "      <td>0</td>\n",
       "    </tr>\n",
       "    <tr>\n",
       "      <th>U040HKJE7_1476871730.0</th>\n",
       "      <td>U040HKJE7_1476871730.0</td>\n",
       "      <td>&lt;@U040HKJE7&gt; archived the channel</td>\n",
       "      <td>NaN</td>\n",
       "      <td>NaN</td>\n",
       "      <td>0</td>\n",
       "    </tr>\n",
       "    <tr>\n",
       "      <th>U2D7LT3J6_1476264089.0</th>\n",
       "      <td>U2D7LT3J6_1476264089.0</td>\n",
       "      <td>&lt;@U2D7LT3J6&gt; has left the channel</td>\n",
       "      <td>NaN</td>\n",
       "      <td>NaN</td>\n",
       "      <td>0</td>\n",
       "    </tr>\n",
       "    <tr>\n",
       "      <th>UJ4QYG82J_1574333435.0</th>\n",
       "      <td>UJ4QYG82J_1574333435.0</td>\n",
       "      <td>Привет! Могу поучаствовать знаниями про CI/CD,...</td>\n",
       "      <td>NaN</td>\n",
       "      <td>NaN</td>\n",
       "      <td>0</td>\n",
       "    </tr>\n",
       "  </tbody>\n",
       "</table>\n",
       "</div>"
      ],
      "text/plain": [
       "                                       new_ind  \\\n",
       "U040HKJE7_1534697984.0  U040HKJE7_1534697984.0   \n",
       "U040HKJE7_1534697988.0  U040HKJE7_1534697988.0   \n",
       "U040HKJE7_1476871730.0  U040HKJE7_1476871730.0   \n",
       "U2D7LT3J6_1476264089.0  U2D7LT3J6_1476264089.0   \n",
       "UJ4QYG82J_1574333435.0  UJ4QYG82J_1574333435.0   \n",
       "\n",
       "                                                                     text  \\\n",
       "U040HKJE7_1534697984.0  <@U040HKJE7> has renamed the channel from \"_to...   \n",
       "U040HKJE7_1534697988.0                  <@U040HKJE7> archived the channel   \n",
       "U040HKJE7_1476871730.0                  <@U040HKJE7> archived the channel   \n",
       "U2D7LT3J6_1476264089.0                  <@U2D7LT3J6> has left the channel   \n",
       "UJ4QYG82J_1574333435.0  Привет! Могу поучаствовать знаниями про CI/CD,...   \n",
       "\n",
       "                       best_ans  best_ans_score  pos_score  \n",
       "U040HKJE7_1534697984.0      NaN             NaN          0  \n",
       "U040HKJE7_1534697988.0      NaN             NaN          0  \n",
       "U040HKJE7_1476871730.0      NaN             NaN          0  \n",
       "U2D7LT3J6_1476264089.0      NaN             NaN          0  \n",
       "UJ4QYG82J_1574333435.0      NaN             NaN          0  "
      ]
     },
     "execution_count": 133,
     "metadata": {},
     "output_type": "execute_result"
    }
   ],
   "source": [
    "# work_phrases = ['archived the channel',  'has renamed the channel from']\n",
    "# df[['new_ind', 'text', 'best_ans', 'best_ans_score', 'pos_score']].head()"
   ]
  },
  {
   "cell_type": "code",
   "execution_count": 144,
   "metadata": {},
   "outputs": [
    {
     "data": {
      "text/html": [
       "<div>\n",
       "<style scoped>\n",
       "    .dataframe tbody tr th:only-of-type {\n",
       "        vertical-align: middle;\n",
       "    }\n",
       "\n",
       "    .dataframe tbody tr th {\n",
       "        vertical-align: top;\n",
       "    }\n",
       "\n",
       "    .dataframe thead th {\n",
       "        text-align: right;\n",
       "    }\n",
       "</style>\n",
       "<table border=\"1\" class=\"dataframe\">\n",
       "  <thead>\n",
       "    <tr style=\"text-align: right;\">\n",
       "      <th></th>\n",
       "      <th>channel</th>\n",
       "      <th>text</th>\n",
       "      <th>best_ans</th>\n",
       "      <th>best_ans_score</th>\n",
       "      <th>pos_score</th>\n",
       "    </tr>\n",
       "  </thead>\n",
       "  <tbody>\n",
       "    <tr>\n",
       "      <th>U3KTCHLUD_1592367443.0</th>\n",
       "      <td>career</td>\n",
       "      <td>Как я искала работу в СФ во время пандемии\\n\\n...</td>\n",
       "      <td>U3KTCHLUD_1592597397.0</td>\n",
       "      <td>28.0</td>\n",
       "      <td>462</td>\n",
       "    </tr>\n",
       "    <tr>\n",
       "      <th>U6PNWSJL8_1591984911.0</th>\n",
       "      <td>kaggle_crackers</td>\n",
       "      <td>Сложно осознать, что можно вот так взять и пол...</td>\n",
       "      <td>U6PNWSJL8_1591990643.0</td>\n",
       "      <td>35.0</td>\n",
       "      <td>455</td>\n",
       "    </tr>\n",
       "    <tr>\n",
       "      <th>U8XT96DAT_1575025496.0</th>\n",
       "      <td>kaggle_crackers</td>\n",
       "      <td>Что то я тут подумал (видимо потому что пятниц...</td>\n",
       "      <td>U4ZRFG1V0_1575026632.0</td>\n",
       "      <td>14.0</td>\n",
       "      <td>424</td>\n",
       "    </tr>\n",
       "    <tr>\n",
       "      <th>U4ZRFG1V0_1555478562.0</th>\n",
       "      <td>career</td>\n",
       "      <td>Очередной исторический пост о прогрессе, ибо я...</td>\n",
       "      <td>U1UNFRQ1K_1555486858.0</td>\n",
       "      <td>29.0</td>\n",
       "      <td>413</td>\n",
       "    </tr>\n",
       "    <tr>\n",
       "      <th>U21MU5ATE_1580264248.0</th>\n",
       "      <td>career</td>\n",
       "      <td>:coolstorybob: про то, как проходил на стажиро...</td>\n",
       "      <td>U21MU5ATE_1580278528.0</td>\n",
       "      <td>3.0</td>\n",
       "      <td>392</td>\n",
       "    </tr>\n",
       "    <tr>\n",
       "      <th>...</th>\n",
       "      <td>...</td>\n",
       "      <td>...</td>\n",
       "      <td>...</td>\n",
       "      <td>...</td>\n",
       "      <td>...</td>\n",
       "    </tr>\n",
       "    <tr>\n",
       "      <th>U04ELQZAU_1542211289.0</th>\n",
       "      <td>_random_talks</td>\n",
       "      <td>Любая достаточно развитая технология неотличим...</td>\n",
       "      <td>NaN</td>\n",
       "      <td>NaN</td>\n",
       "      <td>3</td>\n",
       "    </tr>\n",
       "    <tr>\n",
       "      <th>UA92L7ACC_1595019367.0</th>\n",
       "      <td>lang_python</td>\n",
       "      <td>Тогда не очень получится :pepe_sad:\\nА `torch....</td>\n",
       "      <td>NaN</td>\n",
       "      <td>NaN</td>\n",
       "      <td>3</td>\n",
       "    </tr>\n",
       "    <tr>\n",
       "      <th>U3HM4KY14_1559582703.0</th>\n",
       "      <td>lang_python</td>\n",
       "      <td>`np.expand_dims(inp, axis=-1)`</td>\n",
       "      <td>NaN</td>\n",
       "      <td>NaN</td>\n",
       "      <td>3</td>\n",
       "    </tr>\n",
       "    <tr>\n",
       "      <th>U04CH4QBD_1467624909.0</th>\n",
       "      <td>lang_python</td>\n",
       "      <td>Написать лист из 12 туплов и apply</td>\n",
       "      <td>NaN</td>\n",
       "      <td>NaN</td>\n",
       "      <td>3</td>\n",
       "    </tr>\n",
       "    <tr>\n",
       "      <th>UC7F3KJ7P_1598453063.0</th>\n",
       "      <td>юла_ods</td>\n",
       "      <td>Можно, если в течение месяца не продам сборкой...</td>\n",
       "      <td>NaN</td>\n",
       "      <td>NaN</td>\n",
       "      <td>3</td>\n",
       "    </tr>\n",
       "  </tbody>\n",
       "</table>\n",
       "<p>57425 rows × 5 columns</p>\n",
       "</div>"
      ],
      "text/plain": [
       "                                channel  \\\n",
       "U3KTCHLUD_1592367443.0           career   \n",
       "U6PNWSJL8_1591984911.0  kaggle_crackers   \n",
       "U8XT96DAT_1575025496.0  kaggle_crackers   \n",
       "U4ZRFG1V0_1555478562.0           career   \n",
       "U21MU5ATE_1580264248.0           career   \n",
       "...                                 ...   \n",
       "U04ELQZAU_1542211289.0    _random_talks   \n",
       "UA92L7ACC_1595019367.0      lang_python   \n",
       "U3HM4KY14_1559582703.0      lang_python   \n",
       "U04CH4QBD_1467624909.0      lang_python   \n",
       "UC7F3KJ7P_1598453063.0          юла_ods   \n",
       "\n",
       "                                                                     text  \\\n",
       "U3KTCHLUD_1592367443.0  Как я искала работу в СФ во время пандемии\\n\\n...   \n",
       "U6PNWSJL8_1591984911.0  Сложно осознать, что можно вот так взять и пол...   \n",
       "U8XT96DAT_1575025496.0  Что то я тут подумал (видимо потому что пятниц...   \n",
       "U4ZRFG1V0_1555478562.0  Очередной исторический пост о прогрессе, ибо я...   \n",
       "U21MU5ATE_1580264248.0  :coolstorybob: про то, как проходил на стажиро...   \n",
       "...                                                                   ...   \n",
       "U04ELQZAU_1542211289.0  Любая достаточно развитая технология неотличим...   \n",
       "UA92L7ACC_1595019367.0  Тогда не очень получится :pepe_sad:\\nА `torch....   \n",
       "U3HM4KY14_1559582703.0                     `np.expand_dims(inp, axis=-1)`   \n",
       "U04CH4QBD_1467624909.0                 Написать лист из 12 туплов и apply   \n",
       "UC7F3KJ7P_1598453063.0  Можно, если в течение месяца не продам сборкой...   \n",
       "\n",
       "                                      best_ans  best_ans_score  pos_score  \n",
       "U3KTCHLUD_1592367443.0  U3KTCHLUD_1592597397.0            28.0        462  \n",
       "U6PNWSJL8_1591984911.0  U6PNWSJL8_1591990643.0            35.0        455  \n",
       "U8XT96DAT_1575025496.0  U4ZRFG1V0_1575026632.0            14.0        424  \n",
       "U4ZRFG1V0_1555478562.0  U1UNFRQ1K_1555486858.0            29.0        413  \n",
       "U21MU5ATE_1580264248.0  U21MU5ATE_1580278528.0             3.0        392  \n",
       "...                                        ...             ...        ...  \n",
       "U04ELQZAU_1542211289.0                     NaN             NaN          3  \n",
       "UA92L7ACC_1595019367.0                     NaN             NaN          3  \n",
       "U3HM4KY14_1559582703.0                     NaN             NaN          3  \n",
       "U04CH4QBD_1467624909.0                     NaN             NaN          3  \n",
       "UC7F3KJ7P_1598453063.0                     NaN             NaN          3  \n",
       "\n",
       "[57425 rows x 5 columns]"
      ]
     },
     "execution_count": 144,
     "metadata": {},
     "output_type": "execute_result"
    }
   ],
   "source": [
    "df[['channel', 'text', 'best_ans', 'best_ans_score', 'pos_score']].sort_values('pos_score', ascending=False)"
   ]
  },
  {
   "cell_type": "code",
   "execution_count": 142,
   "metadata": {},
   "outputs": [
    {
     "data": {
      "image/png": "[encoded data removed]",
      "text/plain": [
       "<Figure size 432x288 with 1 Axes>"
      ]
     },
     "metadata": {
      "needs_background": "light"
     },
     "output_type": "display_data"
    }
   ],
   "source": [
    "\n",
    "df['pos_score'].plot(kind='hist', bins=1090, xlim=(0, 100));"
   ]
  },
  {
   "cell_type": "code",
   "execution_count": 143,
   "metadata": {},
   "outputs": [
    {
     "data": {
      "text/plain": [
       "(57425, 56)"
      ]
     },
     "execution_count": 143,
     "metadata": {},
     "output_type": "execute_result"
    }
   ],
   "source": [
    "df.shape"
   ]
  },
  {
   "cell_type": "code",
   "execution_count": 95,
   "metadata": {},
   "outputs": [
    {
     "data": {
      "text/plain": [
       "764022"
      ]
     },
     "execution_count": 95,
     "metadata": {},
     "output_type": "execute_result"
    }
   ],
   "source": [
    "success_count"
   ]
  },
  {
   "cell_type": "code",
   "execution_count": 96,
   "metadata": {},
   "outputs": [
    {
     "data": {
      "text/plain": [
       "106792"
      ]
     },
     "execution_count": 96,
     "metadata": {},
     "output_type": "execute_result"
    }
   ],
   "source": [
    "fail_count"
   ]
  },
  {
   "cell_type": "code",
   "execution_count": 110,
   "metadata": {},
   "outputs": [
    {
     "data": {
      "text/plain": [
       "9"
      ]
     },
     "execution_count": 110,
     "metadata": {},
     "output_type": "execute_result"
    }
   ],
   "source": [
    "get_pos_score(eval(row['reactions']))"
   ]
  },
  {
   "cell_type": "code",
   "execution_count": null,
   "metadata": {},
   "outputs": [],
   "source": []
  }
 ],
 "metadata": {
  "kernelspec": {
   "display_name": "Python 3",
   "language": "python",
   "name": "python3"
  },
  "language_info": {
   "codemirror_mode": {
    "name": "ipython",
    "version": 3
   },
   "file_extension": ".py",
   "mimetype": "text/x-python",
   "name": "python",
   "nbconvert_exporter": "python",
   "pygments_lexer": "ipython3",
   "version": "3.7.4"
  },
  "pycharm": {
   "stem_cell": {
    "cell_type": "raw",
    "metadata": {
     "collapsed": false
    },
    "source": [
     "\n",
     "\n",
     "# %%\n",
     "import numpy as np\n",
     "import pandas as pd\n",
     "from config import DATA\n",
     "# %%\n",
     "df = pd.read_csv(f'{DATA}/ods_slack_all.csv')\n",
     "# %%\n",
     "df.head()\n",
     "\n",
     "\n"
    ]
   }
  }
 },
 "nbformat": 4,
 "nbformat_minor": 1
}
