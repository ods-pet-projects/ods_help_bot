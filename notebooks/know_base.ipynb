{
 "cells": [
  {
   "cell_type": "code",
   "execution_count": 1,
   "metadata": {},
   "outputs": [],
   "source": [
    "import pandas as pd\n",
    "import numpy as np\n",
    "from pathlib import Path\n",
    "import os\n",
    "from tqdm.notebook import tqdm\n",
    "import seaborn as sns\n",
    "import re "
   ]
  },
  {
   "cell_type": "code",
   "execution_count": 2,
   "metadata": {},
   "outputs": [],
   "source": [
    "if not os.getcwd().endswith('help_bot'):\n",
    "    os.chdir('..')"
   ]
  },
  {
   "cell_type": "markdown",
   "metadata": {},
   "source": [
    "### Ideas:\n",
    "* filer channels\n",
    "* filer removed messages\n",
    "* filter subtype\n",
    "* filter trash (like only punctuations)\n",
    "* filter short texts\n",
    "* filter those with negative reactions"
   ]
  },
  {
   "cell_type": "code",
   "execution_count": 3,
   "metadata": {},
   "outputs": [
    {
     "data": {
      "text/html": [
       "<div>\n",
       "<style scoped>\n",
       "    .dataframe tbody tr th:only-of-type {\n",
       "        vertical-align: middle;\n",
       "    }\n",
       "\n",
       "    .dataframe tbody tr th {\n",
       "        vertical-align: top;\n",
       "    }\n",
       "\n",
       "    .dataframe thead th {\n",
       "        text-align: right;\n",
       "    }\n",
       "</style>\n",
       "<table border=\"1\" class=\"dataframe\">\n",
       "  <thead>\n",
       "    <tr style=\"text-align: right;\">\n",
       "      <th></th>\n",
       "      <th>Unnamed: 0</th>\n",
       "      <th>type</th>\n",
       "      <th>subtype</th>\n",
       "      <th>ts</th>\n",
       "      <th>user</th>\n",
       "      <th>text</th>\n",
       "      <th>channel</th>\n",
       "      <th>old_name</th>\n",
       "      <th>name</th>\n",
       "      <th>reactions</th>\n",
       "      <th>...</th>\n",
       "      <th>x_files</th>\n",
       "      <th>username</th>\n",
       "      <th>icons</th>\n",
       "      <th>bot_link</th>\n",
       "      <th>room</th>\n",
       "      <th>no_notifications</th>\n",
       "      <th>permalink</th>\n",
       "      <th>bot_profile</th>\n",
       "      <th>text_len</th>\n",
       "      <th>user_old_id</th>\n",
       "    </tr>\n",
       "  </thead>\n",
       "  <tbody>\n",
       "    <tr>\n",
       "      <th>0</th>\n",
       "      <td>4</td>\n",
       "      <td>message</td>\n",
       "      <td>channel_name</td>\n",
       "      <td>1534697984.000100</td>\n",
       "      <td>U040HKJE7</td>\n",
       "      <td>&lt;@U040HKJE7&gt; has renamed the channel from \"_to...</td>\n",
       "      <td>___top_links</td>\n",
       "      <td>_top_links</td>\n",
       "      <td>___top_links</td>\n",
       "      <td>NaN</td>\n",
       "      <td>...</td>\n",
       "      <td>NaN</td>\n",
       "      <td>NaN</td>\n",
       "      <td>NaN</td>\n",
       "      <td>NaN</td>\n",
       "      <td>NaN</td>\n",
       "      <td>NaN</td>\n",
       "      <td>NaN</td>\n",
       "      <td>NaN</td>\n",
       "      <td>72</td>\n",
       "      <td>U040HKJE7_1534697984</td>\n",
       "    </tr>\n",
       "    <tr>\n",
       "      <th>1</th>\n",
       "      <td>5</td>\n",
       "      <td>message</td>\n",
       "      <td>channel_archive</td>\n",
       "      <td>1534697988.000100</td>\n",
       "      <td>U040HKJE7</td>\n",
       "      <td>&lt;@U040HKJE7&gt; archived the channel</td>\n",
       "      <td>___top_links</td>\n",
       "      <td>NaN</td>\n",
       "      <td>NaN</td>\n",
       "      <td>NaN</td>\n",
       "      <td>...</td>\n",
       "      <td>NaN</td>\n",
       "      <td>NaN</td>\n",
       "      <td>NaN</td>\n",
       "      <td>NaN</td>\n",
       "      <td>NaN</td>\n",
       "      <td>NaN</td>\n",
       "      <td>NaN</td>\n",
       "      <td>NaN</td>\n",
       "      <td>33</td>\n",
       "      <td>U040HKJE7_1534697988</td>\n",
       "    </tr>\n",
       "    <tr>\n",
       "      <th>2</th>\n",
       "      <td>9</td>\n",
       "      <td>message</td>\n",
       "      <td>channel_archive</td>\n",
       "      <td>1476871730.000003</td>\n",
       "      <td>U040HKJE7</td>\n",
       "      <td>&lt;@U040HKJE7&gt; archived the channel</td>\n",
       "      <td>_call_4_collaboratio</td>\n",
       "      <td>NaN</td>\n",
       "      <td>NaN</td>\n",
       "      <td>NaN</td>\n",
       "      <td>...</td>\n",
       "      <td>NaN</td>\n",
       "      <td>NaN</td>\n",
       "      <td>NaN</td>\n",
       "      <td>NaN</td>\n",
       "      <td>NaN</td>\n",
       "      <td>NaN</td>\n",
       "      <td>NaN</td>\n",
       "      <td>NaN</td>\n",
       "      <td>33</td>\n",
       "      <td>U040HKJE7_1476871730</td>\n",
       "    </tr>\n",
       "  </tbody>\n",
       "</table>\n",
       "<p>3 rows × 53 columns</p>\n",
       "</div>"
      ],
      "text/plain": [
       "   Unnamed: 0     type          subtype                 ts       user  \\\n",
       "0           4  message     channel_name  1534697984.000100  U040HKJE7   \n",
       "1           5  message  channel_archive  1534697988.000100  U040HKJE7   \n",
       "2           9  message  channel_archive  1476871730.000003  U040HKJE7   \n",
       "\n",
       "                                                text               channel  \\\n",
       "0  <@U040HKJE7> has renamed the channel from \"_to...          ___top_links   \n",
       "1                  <@U040HKJE7> archived the channel          ___top_links   \n",
       "2                  <@U040HKJE7> archived the channel  _call_4_collaboratio   \n",
       "\n",
       "     old_name          name reactions  ... x_files username icons bot_link  \\\n",
       "0  _top_links  ___top_links       NaN  ...     NaN      NaN   NaN      NaN   \n",
       "1         NaN           NaN       NaN  ...     NaN      NaN   NaN      NaN   \n",
       "2         NaN           NaN       NaN  ...     NaN      NaN   NaN      NaN   \n",
       "\n",
       "  room no_notifications  permalink bot_profile text_len           user_old_id  \n",
       "0  NaN              NaN        NaN         NaN       72  U040HKJE7_1534697984  \n",
       "1  NaN              NaN        NaN         NaN       33  U040HKJE7_1534697988  \n",
       "2  NaN              NaN        NaN         NaN       33  U040HKJE7_1476871730  \n",
       "\n",
       "[3 rows x 53 columns]"
      ]
     },
     "execution_count": 3,
     "metadata": {},
     "output_type": "execute_result"
    }
   ],
   "source": [
    "data = pd.read_csv('./data/ods_slack_all.csv', low_memory=False, dtype={'ts': str})\n",
    "data.head(3)"
   ]
  },
  {
   "cell_type": "code",
   "execution_count": 4,
   "metadata": {},
   "outputs": [
    {
     "data": {
      "text/plain": [
       "(1373439, 53)"
      ]
     },
     "execution_count": 4,
     "metadata": {},
     "output_type": "execute_result"
    }
   ],
   "source": [
    "data.shape"
   ]
  },
  {
   "cell_type": "code",
   "execution_count": 5,
   "metadata": {},
   "outputs": [
    {
     "data": {
      "text/plain": [
       "Index(['Unnamed: 0', 'type', 'subtype', 'ts', 'user', 'text', 'channel',\n",
       "       'old_name', 'name', 'reactions', 'client_msg_id', 'team', 'user_team',\n",
       "       'source_team', 'user_profile', 'blocks', 'thread_ts', 'parent_user_id',\n",
       "       'attachments', 'reply_count', 'reply_users_count', 'latest_reply',\n",
       "       'reply_users', 'replies', 'subscribed', 'edited', 'last_read', 'files',\n",
       "       'upload', 'display_as_bot', 'hidden', 'upload_reply_to', 'root',\n",
       "       'inviter', 'new_broadcast', 'topic', 'item_type', 'purpose', 'item',\n",
       "       'bot_id', 'file', 'comment', 'is_intro', 'x_files', 'username', 'icons',\n",
       "       'bot_link', 'room', 'no_notifications', 'permalink', 'bot_profile',\n",
       "       'text_len', 'user_old_id'],\n",
       "      dtype='object')"
      ]
     },
     "execution_count": 5,
     "metadata": {},
     "output_type": "execute_result"
    }
   ],
   "source": [
    "data.columns"
   ]
  },
  {
   "cell_type": "code",
   "execution_count": 6,
   "metadata": {},
   "outputs": [
    {
     "data": {
      "text/plain": [
       "array(['___top_links', '___top_links', '_call_4_collaboratio', ...,\n",
       "       'юла_ods', 'юла_ods', 'юла_ods'], dtype=object)"
      ]
     },
     "execution_count": 6,
     "metadata": {},
     "output_type": "execute_result"
    }
   ],
   "source": [
    "data['channel'].values"
   ]
  },
  {
   "cell_type": "markdown",
   "metadata": {},
   "source": [
    "## Filter channels"
   ]
  },
  {
   "cell_type": "code",
   "execution_count": 7,
   "metadata": {},
   "outputs": [],
   "source": [
    "chan = [\n",
    "    '___top_links', 'analytiсs', 'analytiсs', 'article_essence', 'audio_and_speech','bayesian', 'big_data', 'bioinformatics' \\\n",
    "    'blockchain', 'bots', 'business', 'career', 'class_coursera_aml', 'class_cs224n', 'class_cs224w', 'class_cs231n', 'class_dl_cmu', \\\n",
    "    'class_dl_mipt', 'class_fast_ai', 'class_fastai', 'class_ium_2019','class_udacity_pytorch', 'cloud', 'conference', 'consulting',\\\n",
    "    'coronavirus', 'cv','data_fest', 'data_labeling', 'datasets', 'deep', 'deep_learning','deephack', 'dev_bot_test', 'devops', 'dlcourse_ai',\\\n",
    "    'ds_process', 'edu_academy', 'edu_books', 'edu_course_pgm', 'edu_courses','edu_dsclub_spb', 'edu_shad_exams', 'engineering-hiring', 'esports',\\\n",
    "    'fnbic_neural_networks', 'gan', 'gis', 'gnomiki', 'hardware', 'huawei_nlp_course', 'industrial_ds', 'interesting_links', 'interpretable_ml',\\\n",
    "    'kaggle_crackers', 'lang_cpp', 'lang_go', 'lang_javascript', 'lang_julia', 'lang_lua_torch', 'lang_python', 'lang_r', 'lang_rust', 'lang_scala',\\\n",
    "    'math', 'medicine', 'ml4sg', 'ml_pipeline', 'mlart', 'mlcourse_ai', 'mlcourse_ai_news', 'mlcourse_ai_rus', 'mlcourse_dubai', 'mlrepa', \\\n",
    "    'mltrainings_beginners', 'mltrainings_live', 'network_analysis','neuroscience', 'nlp', 'ods_code_review', 'ods_crowd', 'ods_datasets',\\\n",
    "    'ods_editors', 'ods_habr', 'ods_mentoring', 'ods_merch', 'ods_pet_projects', 'ods_platform', 'ods_podcast', 'ods_policy_prior','ods_resume_mastering',\\\n",
    "    'optimization','pr_jerk', 'proj_acm_recsys', 'proj_algo_alice', 'proj_benchr','proj_bytecup2018', 'proj_classic_ai', 'proj_comp_workshop',\\\n",
    "    'proj_covid', 'proj_dota2', 'proj_drivendata','proj_drivendata_chimp', 'proj_ds_bowl2018', 'proj_dsbowl_2017','proj_dsbowl_2019', 'proj_fakenewschalleng', \\\n",
    "    'proj_freesound_2019','proj_gensim', 'proj_geohack', 'proj_gold_miners','proj_home_credit', 'proj_idao_2019', 'proj_jet_raif2018','proj_kaggle_2sigma', \\\n",
    "    'proj_kaggle_abstraction_and_reasoning', 'proj_kaggle_airbus', 'proj_kaggle_alaska', 'proj_kaggle_avito', 'proj_kaggle_bengali_classification', \\\n",
    "    'proj_kaggle_birds', 'proj_kaggle_blindness', 'proj_kaggle_camera', 'proj_kaggle_cars','proj_kaggle_cdiscount', 'proj_kaggle_cervix','proj_kaggle_champs', \\\n",
    "    'proj_kaggle_covid_vaccine', 'proj_kaggle_deepfake', 'proj_kaggle_elo_merch', 'proj_kaggle_energy', 'proj_kaggle_fashion', 'proj_kaggle_fgvc6',\\\n",
    "    'proj_kaggle_fish', 'proj_kaggle_fraud', 'proj_kaggle_ga','proj_kaggle_gan', 'proj_kaggle_halite', 'proj_kaggle_hemorrhage','proj_kaggle_inclusive', \\\n",
    "    'proj_kaggle_inst_grat', 'proj_kaggle_instacart', 'proj_kaggle_ion', 'proj_kaggle_jigsaw','proj_kaggle_landmark', 'proj_kaggle_lanl', 'proj_kaggle_lyft',\\\n",
    "    'proj_kaggle_m5', 'proj_kaggle_mechanism_of_action', 'proj_kaggle_melanoma', 'proj_kaggle_nfl', 'proj_kaggle_openimage','proj_kaggle_petfinder', \\\n",
    "    'proj_kaggle_plasticc','proj_kaggle_pneumonia', 'proj_kaggle_pronoun','proj_kaggle_protein', 'proj_kaggle_quest_challenge','proj_kaggle_quickdraw', \\\n",
    "    'proj_kaggle_quora_qs','proj_kaggle_recruit', 'proj_kaggle_salt', 'proj_kaggle_santa','proj_kaggle_santander', 'proj_kaggle_severstal','proj_kaggle_speech',\\\n",
    "    'proj_kaggle_statoil','proj_kaggle_talkdata', 'proj_kaggle_tf2_question_ans','proj_kaggle_trackml', 'proj_kaggle_trends_neuroimaging',\\\n",
    "    'proj_kaggle_tweet_sent_extr', 'proj_kaggle_vsb_power','proj_kaggle_wheat_detection', 'proj_kekas', 'proj_mercari','proj_msft_malware', \\\n",
    "    'proj_nexar2', 'proj_nghack2019','proj_nips_autodl', 'proj_nips_causal', 'proj_nips_comp_19','proj_nips_comp_20', 'proj_nips_traffic', \\\n",
    "    'proj_ods_introspect', 'proj_poker', 'proj_procurement_shr', 'proj_prostate_cancer','proj_punch_to_face', 'proj_restrserve', 'proj_retailhero',\\\n",
    "    'proj_rosbank', 'proj_safe_driver', 'proj_sibur_challenge', 'proj_signate', 'proj_signate_cars', 'proj_snahackathon','proj_telecom_data_cup', \\\n",
    "    'proj_tinkoff', 'proj_topcoder','proj_waymo_challenges', 'proj_wildfire', 'proj_yt8m','proj_zillow', 'proj_zindi',  'pydata', 'quantum_computing',\\\n",
    "    'recommender_systems','reinforcement_learning', 'risk_modelling', 'rnn','satellite_imaging','security','self_driving', 'sequences_series',\\\n",
    "    'show_your_work', 'spark', 'stack_overflow', 'teal_practices_cases', 'theory_and_practice', 'trading', 'visualization','whateverhack', 'work',\\\n",
    "    'writing_n_presenting'\n",
    "] "
   ]
  },
  {
   "cell_type": "code",
   "execution_count": 8,
   "metadata": {},
   "outputs": [
    {
     "name": "stdout",
     "output_type": "stream",
     "text": [
      "Total channels: 348, removed: 124.\n"
     ]
    }
   ],
   "source": [
    "print(f'Total channels: {len(data.channel.unique())}, removed: {len(data.channel.unique()) - len(chan)}.')"
   ]
  },
  {
   "cell_type": "code",
   "execution_count": 9,
   "metadata": {},
   "outputs": [],
   "source": [
    "data = data[data['channel'].isin(chan)]"
   ]
  },
  {
   "cell_type": "code",
   "execution_count": 10,
   "metadata": {},
   "outputs": [
    {
     "data": {
      "text/plain": [
       "(875862, 53)"
      ]
     },
     "execution_count": 10,
     "metadata": {},
     "output_type": "execute_result"
    }
   ],
   "source": [
    "data.shape"
   ]
  },
  {
   "cell_type": "markdown",
   "metadata": {},
   "source": [
    "## Filter removed"
   ]
  },
  {
   "cell_type": "code",
   "execution_count": 11,
   "metadata": {},
   "outputs": [],
   "source": [
    "data = data[data['text']!='This message was deleted.']"
   ]
  },
  {
   "cell_type": "code",
   "execution_count": 12,
   "metadata": {},
   "outputs": [
    {
     "data": {
      "text/plain": [
       "(874655, 53)"
      ]
     },
     "execution_count": 12,
     "metadata": {},
     "output_type": "execute_result"
    }
   ],
   "source": [
    "data.shape"
   ]
  },
  {
   "cell_type": "markdown",
   "metadata": {},
   "source": [
    "## Filter subtype"
   ]
  },
  {
   "cell_type": "code",
   "execution_count": 13,
   "metadata": {},
   "outputs": [
    {
     "data": {
      "text/html": [
       "<div>\n",
       "<style scoped>\n",
       "    .dataframe tbody tr th:only-of-type {\n",
       "        vertical-align: middle;\n",
       "    }\n",
       "\n",
       "    .dataframe tbody tr th {\n",
       "        vertical-align: top;\n",
       "    }\n",
       "\n",
       "    .dataframe thead th {\n",
       "        text-align: right;\n",
       "    }\n",
       "</style>\n",
       "<table border=\"1\" class=\"dataframe\">\n",
       "  <thead>\n",
       "    <tr style=\"text-align: right;\">\n",
       "      <th></th>\n",
       "      <th>Unnamed: 0</th>\n",
       "      <th>type</th>\n",
       "      <th>subtype</th>\n",
       "      <th>ts</th>\n",
       "      <th>user</th>\n",
       "      <th>text</th>\n",
       "      <th>channel</th>\n",
       "      <th>old_name</th>\n",
       "      <th>name</th>\n",
       "      <th>reactions</th>\n",
       "      <th>...</th>\n",
       "      <th>x_files</th>\n",
       "      <th>username</th>\n",
       "      <th>icons</th>\n",
       "      <th>bot_link</th>\n",
       "      <th>room</th>\n",
       "      <th>no_notifications</th>\n",
       "      <th>permalink</th>\n",
       "      <th>bot_profile</th>\n",
       "      <th>text_len</th>\n",
       "      <th>user_old_id</th>\n",
       "    </tr>\n",
       "  </thead>\n",
       "  <tbody>\n",
       "    <tr>\n",
       "      <th>0</th>\n",
       "      <td>4</td>\n",
       "      <td>message</td>\n",
       "      <td>channel_name</td>\n",
       "      <td>1534697984.000100</td>\n",
       "      <td>U040HKJE7</td>\n",
       "      <td>&lt;@U040HKJE7&gt; has renamed the channel from \"_to...</td>\n",
       "      <td>___top_links</td>\n",
       "      <td>_top_links</td>\n",
       "      <td>___top_links</td>\n",
       "      <td>NaN</td>\n",
       "      <td>...</td>\n",
       "      <td>NaN</td>\n",
       "      <td>NaN</td>\n",
       "      <td>NaN</td>\n",
       "      <td>NaN</td>\n",
       "      <td>NaN</td>\n",
       "      <td>NaN</td>\n",
       "      <td>NaN</td>\n",
       "      <td>NaN</td>\n",
       "      <td>72</td>\n",
       "      <td>U040HKJE7_1534697984</td>\n",
       "    </tr>\n",
       "    <tr>\n",
       "      <th>1</th>\n",
       "      <td>5</td>\n",
       "      <td>message</td>\n",
       "      <td>channel_archive</td>\n",
       "      <td>1534697988.000100</td>\n",
       "      <td>U040HKJE7</td>\n",
       "      <td>&lt;@U040HKJE7&gt; archived the channel</td>\n",
       "      <td>___top_links</td>\n",
       "      <td>NaN</td>\n",
       "      <td>NaN</td>\n",
       "      <td>NaN</td>\n",
       "      <td>...</td>\n",
       "      <td>NaN</td>\n",
       "      <td>NaN</td>\n",
       "      <td>NaN</td>\n",
       "      <td>NaN</td>\n",
       "      <td>NaN</td>\n",
       "      <td>NaN</td>\n",
       "      <td>NaN</td>\n",
       "      <td>NaN</td>\n",
       "      <td>33</td>\n",
       "      <td>U040HKJE7_1534697988</td>\n",
       "    </tr>\n",
       "    <tr>\n",
       "      <th>431138</th>\n",
       "      <td>640506</td>\n",
       "      <td>message</td>\n",
       "      <td>NaN</td>\n",
       "      <td>1585131557.006000</td>\n",
       "      <td>U0106VCFW81</td>\n",
       "      <td>Всем привет! Стоит такая задача, есть историия...</td>\n",
       "      <td>analytiсs</td>\n",
       "      <td>NaN</td>\n",
       "      <td>NaN</td>\n",
       "      <td>NaN</td>\n",
       "      <td>...</td>\n",
       "      <td>NaN</td>\n",
       "      <td>NaN</td>\n",
       "      <td>NaN</td>\n",
       "      <td>NaN</td>\n",
       "      <td>NaN</td>\n",
       "      <td>NaN</td>\n",
       "      <td>NaN</td>\n",
       "      <td>NaN</td>\n",
       "      <td>260</td>\n",
       "      <td>U0106VCFW81_1585131557</td>\n",
       "    </tr>\n",
       "  </tbody>\n",
       "</table>\n",
       "<p>3 rows × 53 columns</p>\n",
       "</div>"
      ],
      "text/plain": [
       "        Unnamed: 0     type          subtype                 ts         user  \\\n",
       "0                4  message     channel_name  1534697984.000100    U040HKJE7   \n",
       "1                5  message  channel_archive  1534697988.000100    U040HKJE7   \n",
       "431138      640506  message              NaN  1585131557.006000  U0106VCFW81   \n",
       "\n",
       "                                                     text       channel  \\\n",
       "0       <@U040HKJE7> has renamed the channel from \"_to...  ___top_links   \n",
       "1                       <@U040HKJE7> archived the channel  ___top_links   \n",
       "431138  Всем привет! Стоит такая задача, есть историия...     analytiсs   \n",
       "\n",
       "          old_name          name reactions  ... x_files username icons  \\\n",
       "0       _top_links  ___top_links       NaN  ...     NaN      NaN   NaN   \n",
       "1              NaN           NaN       NaN  ...     NaN      NaN   NaN   \n",
       "431138         NaN           NaN       NaN  ...     NaN      NaN   NaN   \n",
       "\n",
       "       bot_link room no_notifications  permalink bot_profile text_len  \\\n",
       "0           NaN  NaN              NaN        NaN         NaN       72   \n",
       "1           NaN  NaN              NaN        NaN         NaN       33   \n",
       "431138      NaN  NaN              NaN        NaN         NaN      260   \n",
       "\n",
       "                   user_old_id  \n",
       "0         U040HKJE7_1534697984  \n",
       "1         U040HKJE7_1534697988  \n",
       "431138  U0106VCFW81_1585131557  \n",
       "\n",
       "[3 rows x 53 columns]"
      ]
     },
     "execution_count": 13,
     "metadata": {},
     "output_type": "execute_result"
    }
   ],
   "source": [
    "data.head(3)"
   ]
  },
  {
   "cell_type": "code",
   "execution_count": 14,
   "metadata": {},
   "outputs": [
    {
     "data": {
      "text/plain": [
       "array(['channel_name', 'channel_archive', nan, 'channel_purpose',\n",
       "       'thread_broadcast', 'channel_topic', 'file_comment', 'pinned_item',\n",
       "       'channel_leave', 'bot_add', 'bot_remove', 'bot_message',\n",
       "       'sh_room_created', 'reminder_add', 'app_conversation_leave',\n",
       "       'channel_unarchive', 'me_message', 'tombstone'], dtype=object)"
      ]
     },
     "execution_count": 14,
     "metadata": {},
     "output_type": "execute_result"
    }
   ],
   "source": [
    "data.subtype.unique()"
   ]
  },
  {
   "cell_type": "code",
   "execution_count": 15,
   "metadata": {},
   "outputs": [],
   "source": [
    "stype = ['channel_name', 'channel_archive', 'channel_topic', 'channel_purpose', 'file_comment', 'pinned_item',\n",
    "       'channel_leave', 'bot_add', 'bot_remove', 'bot_message', 'sh_room_created', 'reminder_add', 'app_conversation_leave',\n",
    "       'channel_unarchive', 'me_message']"
   ]
  },
  {
   "cell_type": "code",
   "execution_count": 16,
   "metadata": {},
   "outputs": [],
   "source": [
    "data = data[~data['subtype'].isin(stype)]"
   ]
  },
  {
   "cell_type": "code",
   "execution_count": 17,
   "metadata": {},
   "outputs": [
    {
     "data": {
      "text/plain": [
       "(844304, 53)"
      ]
     },
     "execution_count": 17,
     "metadata": {},
     "output_type": "execute_result"
    }
   ],
   "source": [
    "data.shape"
   ]
  },
  {
   "cell_type": "markdown",
   "metadata": {},
   "source": [
    "## Filter out short channels"
   ]
  },
  {
   "cell_type": "code",
   "execution_count": 37,
   "metadata": {},
   "outputs": [],
   "source": [
    "# data.channel.value_counts(ascending=True)"
   ]
  },
  {
   "cell_type": "code",
   "execution_count": 18,
   "metadata": {
    "jupyter": {
     "source_hidden": true
    }
   },
   "outputs": [],
   "source": [
    "chan = ['stack_overflow',\n",
    "'mlrepa',\n",
    "'dev_bot_test',\n",
    "'proj_nips_autodl',\n",
    "'proj_nips_traffic',\n",
    "'ods_datasets',\n",
    "'proj_nips_comp_20',\n",
    "'proj_kaggle_halite',\n",
    "'proj_kaggle_covid_vaccine',\n",
    "'data_labeling',\n",
    "'esports',\n",
    "'mlart',\n",
    "'fnbic_neural_networks',\n",
    "'class_ium_2019',\n",
    "'ods_podcast',\n",
    "'ods_editors',\n",
    "'class_dl_mipt',\n",
    "'proj_idao_2019',\n",
    "'proj_snahackathon',\n",
    "'lang_rust',\n",
    "'whateverhack',\n",
    "'proj_jet_raif2018',\n",
    "'proj_bytecup2018',\n",
    "'proj_acm_recsys',\n",
    "'proj_sibur_challenge',\n",
    "'proj_signate']"
   ]
  },
  {
   "cell_type": "code",
   "execution_count": 19,
   "metadata": {},
   "outputs": [
    {
     "data": {
      "text/plain": [
       "(843890, 53)"
      ]
     },
     "execution_count": 19,
     "metadata": {},
     "output_type": "execute_result"
    }
   ],
   "source": [
    "data = data[~data['channel'].isin(chan)]\n",
    "data.shape"
   ]
  },
  {
   "cell_type": "markdown",
   "metadata": {},
   "source": [
    "## Merge questions and answers"
   ]
  },
  {
   "cell_type": "code",
   "execution_count": 20,
   "metadata": {},
   "outputs": [],
   "source": [
    "data.index = data['user'] + '_' + data['ts'].astype(float).round(0).astype(str)\n",
    "data['new_ind'] = data.index\n",
    "data['timestamp'] = data['ts']"
   ]
  },
  {
   "cell_type": "code",
   "execution_count": 45,
   "metadata": {},
   "outputs": [
    {
     "data": {
      "text/plain": [
       "U0106VCFW81_1585131557.0    U0106VCFW81_1585131557.0\n",
       "U14DMFHJB_1585132173.0        U14DMFHJB_1585132173.0\n",
       "U04423D74_1585133439.0        U04423D74_1585133439.0\n",
       "U14DMFHJB_1585133523.0        U14DMFHJB_1585133523.0\n",
       "U0106VCFW81_1585133701.0    U0106VCFW81_1585133701.0\n",
       "                                      ...           \n",
       "UAL8CA2TF_1564736825.0        UAL8CA2TF_1564736825.0\n",
       "U27HU84H4_1564737934.0        U27HU84H4_1564737934.0\n",
       "UAL8CA2TF_1564740792.0        UAL8CA2TF_1564740792.0\n",
       "U27HU84H4_1565806384.0        U27HU84H4_1565806384.0\n",
       "U27HU84H4_1565806563.0        U27HU84H4_1565806563.0\n",
       "Name: new_ind, Length: 843890, dtype: object"
      ]
     },
     "execution_count": 45,
     "metadata": {},
     "output_type": "execute_result"
    }
   ],
   "source": [
    "data['new_ind']"
   ]
  },
  {
   "cell_type": "code",
   "execution_count": 21,
   "metadata": {},
   "outputs": [
    {
     "data": {
      "text/html": [
       "<div>\n",
       "<style scoped>\n",
       "    .dataframe tbody tr th:only-of-type {\n",
       "        vertical-align: middle;\n",
       "    }\n",
       "\n",
       "    .dataframe tbody tr th {\n",
       "        vertical-align: top;\n",
       "    }\n",
       "\n",
       "    .dataframe thead th {\n",
       "        text-align: right;\n",
       "    }\n",
       "</style>\n",
       "<table border=\"1\" class=\"dataframe\">\n",
       "  <thead>\n",
       "    <tr style=\"text-align: right;\">\n",
       "      <th></th>\n",
       "      <th>Unnamed: 0</th>\n",
       "      <th>type</th>\n",
       "      <th>subtype</th>\n",
       "      <th>ts</th>\n",
       "      <th>user</th>\n",
       "      <th>text</th>\n",
       "      <th>channel</th>\n",
       "      <th>old_name</th>\n",
       "      <th>name</th>\n",
       "      <th>reactions</th>\n",
       "      <th>...</th>\n",
       "      <th>icons</th>\n",
       "      <th>bot_link</th>\n",
       "      <th>room</th>\n",
       "      <th>no_notifications</th>\n",
       "      <th>permalink</th>\n",
       "      <th>bot_profile</th>\n",
       "      <th>text_len</th>\n",
       "      <th>user_old_id</th>\n",
       "      <th>new_ind</th>\n",
       "      <th>timestamp</th>\n",
       "    </tr>\n",
       "  </thead>\n",
       "  <tbody>\n",
       "    <tr>\n",
       "      <th>U0106VCFW81_1585131557.0</th>\n",
       "      <td>640506</td>\n",
       "      <td>message</td>\n",
       "      <td>NaN</td>\n",
       "      <td>1585131557.006000</td>\n",
       "      <td>U0106VCFW81</td>\n",
       "      <td>Всем привет! Стоит такая задача, есть историия...</td>\n",
       "      <td>analytiсs</td>\n",
       "      <td>NaN</td>\n",
       "      <td>NaN</td>\n",
       "      <td>NaN</td>\n",
       "      <td>...</td>\n",
       "      <td>NaN</td>\n",
       "      <td>NaN</td>\n",
       "      <td>NaN</td>\n",
       "      <td>NaN</td>\n",
       "      <td>NaN</td>\n",
       "      <td>NaN</td>\n",
       "      <td>260</td>\n",
       "      <td>U0106VCFW81_1585131557</td>\n",
       "      <td>U0106VCFW81_1585131557.0</td>\n",
       "      <td>1585131557.006000</td>\n",
       "    </tr>\n",
       "    <tr>\n",
       "      <th>U14DMFHJB_1585132173.0</th>\n",
       "      <td>640507</td>\n",
       "      <td>message</td>\n",
       "      <td>NaN</td>\n",
       "      <td>1585132173.006100</td>\n",
       "      <td>U14DMFHJB</td>\n",
       "      <td>Это супер сложно, на самом деле, если в истори...</td>\n",
       "      <td>analytiсs</td>\n",
       "      <td>NaN</td>\n",
       "      <td>NaN</td>\n",
       "      <td>NaN</td>\n",
       "      <td>...</td>\n",
       "      <td>NaN</td>\n",
       "      <td>NaN</td>\n",
       "      <td>NaN</td>\n",
       "      <td>NaN</td>\n",
       "      <td>NaN</td>\n",
       "      <td>NaN</td>\n",
       "      <td>101</td>\n",
       "      <td>U14DMFHJB_1585132173</td>\n",
       "      <td>U14DMFHJB_1585132173.0</td>\n",
       "      <td>1585132173.006100</td>\n",
       "    </tr>\n",
       "    <tr>\n",
       "      <th>U04423D74_1585133439.0</th>\n",
       "      <td>640508</td>\n",
       "      <td>message</td>\n",
       "      <td>NaN</td>\n",
       "      <td>1585133439.006300</td>\n",
       "      <td>U04423D74</td>\n",
       "      <td>можно попробовать регресси накрутить, не?\\nгря...</td>\n",
       "      <td>analytiсs</td>\n",
       "      <td>NaN</td>\n",
       "      <td>NaN</td>\n",
       "      <td>NaN</td>\n",
       "      <td>...</td>\n",
       "      <td>NaN</td>\n",
       "      <td>NaN</td>\n",
       "      <td>NaN</td>\n",
       "      <td>NaN</td>\n",
       "      <td>NaN</td>\n",
       "      <td>NaN</td>\n",
       "      <td>157</td>\n",
       "      <td>U04423D74_1585133439</td>\n",
       "      <td>U04423D74_1585133439.0</td>\n",
       "      <td>1585133439.006300</td>\n",
       "    </tr>\n",
       "    <tr>\n",
       "      <th>U14DMFHJB_1585133523.0</th>\n",
       "      <td>640509</td>\n",
       "      <td>message</td>\n",
       "      <td>NaN</td>\n",
       "      <td>1585133523.006500</td>\n",
       "      <td>U14DMFHJB</td>\n",
       "      <td>Регрессию построить можно, а вот верить, что о...</td>\n",
       "      <td>analytiсs</td>\n",
       "      <td>NaN</td>\n",
       "      <td>NaN</td>\n",
       "      <td>[{'name': 'heavy_plus_sign', 'users': ['U04423...</td>\n",
       "      <td>...</td>\n",
       "      <td>NaN</td>\n",
       "      <td>NaN</td>\n",
       "      <td>NaN</td>\n",
       "      <td>NaN</td>\n",
       "      <td>NaN</td>\n",
       "      <td>NaN</td>\n",
       "      <td>378</td>\n",
       "      <td>U14DMFHJB_1585133523</td>\n",
       "      <td>U14DMFHJB_1585133523.0</td>\n",
       "      <td>1585133523.006500</td>\n",
       "    </tr>\n",
       "    <tr>\n",
       "      <th>U0106VCFW81_1585133701.0</th>\n",
       "      <td>640510</td>\n",
       "      <td>message</td>\n",
       "      <td>NaN</td>\n",
       "      <td>1585133701.007000</td>\n",
       "      <td>U0106VCFW81</td>\n",
       "      <td>Спасибо, за рекомендации!</td>\n",
       "      <td>analytiсs</td>\n",
       "      <td>NaN</td>\n",
       "      <td>NaN</td>\n",
       "      <td>NaN</td>\n",
       "      <td>...</td>\n",
       "      <td>NaN</td>\n",
       "      <td>NaN</td>\n",
       "      <td>NaN</td>\n",
       "      <td>NaN</td>\n",
       "      <td>NaN</td>\n",
       "      <td>NaN</td>\n",
       "      <td>25</td>\n",
       "      <td>U0106VCFW81_1585133701</td>\n",
       "      <td>U0106VCFW81_1585133701.0</td>\n",
       "      <td>1585133701.007000</td>\n",
       "    </tr>\n",
       "  </tbody>\n",
       "</table>\n",
       "<p>5 rows × 55 columns</p>\n",
       "</div>"
      ],
      "text/plain": [
       "                          Unnamed: 0     type subtype                 ts  \\\n",
       "U0106VCFW81_1585131557.0      640506  message     NaN  1585131557.006000   \n",
       "U14DMFHJB_1585132173.0        640507  message     NaN  1585132173.006100   \n",
       "U04423D74_1585133439.0        640508  message     NaN  1585133439.006300   \n",
       "U14DMFHJB_1585133523.0        640509  message     NaN  1585133523.006500   \n",
       "U0106VCFW81_1585133701.0      640510  message     NaN  1585133701.007000   \n",
       "\n",
       "                                 user  \\\n",
       "U0106VCFW81_1585131557.0  U0106VCFW81   \n",
       "U14DMFHJB_1585132173.0      U14DMFHJB   \n",
       "U04423D74_1585133439.0      U04423D74   \n",
       "U14DMFHJB_1585133523.0      U14DMFHJB   \n",
       "U0106VCFW81_1585133701.0  U0106VCFW81   \n",
       "\n",
       "                                                                       text  \\\n",
       "U0106VCFW81_1585131557.0  Всем привет! Стоит такая задача, есть историия...   \n",
       "U14DMFHJB_1585132173.0    Это супер сложно, на самом деле, если в истори...   \n",
       "U04423D74_1585133439.0    можно попробовать регресси накрутить, не?\\nгря...   \n",
       "U14DMFHJB_1585133523.0    Регрессию построить можно, а вот верить, что о...   \n",
       "U0106VCFW81_1585133701.0                          Спасибо, за рекомендации!   \n",
       "\n",
       "                            channel old_name name  \\\n",
       "U0106VCFW81_1585131557.0  analytiсs      NaN  NaN   \n",
       "U14DMFHJB_1585132173.0    analytiсs      NaN  NaN   \n",
       "U04423D74_1585133439.0    analytiсs      NaN  NaN   \n",
       "U14DMFHJB_1585133523.0    analytiсs      NaN  NaN   \n",
       "U0106VCFW81_1585133701.0  analytiсs      NaN  NaN   \n",
       "\n",
       "                                                                  reactions  \\\n",
       "U0106VCFW81_1585131557.0                                                NaN   \n",
       "U14DMFHJB_1585132173.0                                                  NaN   \n",
       "U04423D74_1585133439.0                                                  NaN   \n",
       "U14DMFHJB_1585133523.0    [{'name': 'heavy_plus_sign', 'users': ['U04423...   \n",
       "U0106VCFW81_1585133701.0                                                NaN   \n",
       "\n",
       "                          ... icons bot_link room no_notifications permalink  \\\n",
       "U0106VCFW81_1585131557.0  ...   NaN      NaN  NaN              NaN       NaN   \n",
       "U14DMFHJB_1585132173.0    ...   NaN      NaN  NaN              NaN       NaN   \n",
       "U04423D74_1585133439.0    ...   NaN      NaN  NaN              NaN       NaN   \n",
       "U14DMFHJB_1585133523.0    ...   NaN      NaN  NaN              NaN       NaN   \n",
       "U0106VCFW81_1585133701.0  ...   NaN      NaN  NaN              NaN       NaN   \n",
       "\n",
       "                         bot_profile  text_len             user_old_id  \\\n",
       "U0106VCFW81_1585131557.0         NaN       260  U0106VCFW81_1585131557   \n",
       "U14DMFHJB_1585132173.0           NaN       101    U14DMFHJB_1585132173   \n",
       "U04423D74_1585133439.0           NaN       157    U04423D74_1585133439   \n",
       "U14DMFHJB_1585133523.0           NaN       378    U14DMFHJB_1585133523   \n",
       "U0106VCFW81_1585133701.0         NaN        25  U0106VCFW81_1585133701   \n",
       "\n",
       "                                           new_ind          timestamp  \n",
       "U0106VCFW81_1585131557.0  U0106VCFW81_1585131557.0  1585131557.006000  \n",
       "U14DMFHJB_1585132173.0      U14DMFHJB_1585132173.0  1585132173.006100  \n",
       "U04423D74_1585133439.0      U04423D74_1585133439.0  1585133439.006300  \n",
       "U14DMFHJB_1585133523.0      U14DMFHJB_1585133523.0  1585133523.006500  \n",
       "U0106VCFW81_1585133701.0  U0106VCFW81_1585133701.0  1585133701.007000  \n",
       "\n",
       "[5 rows x 55 columns]"
      ]
     },
     "execution_count": 21,
     "metadata": {},
     "output_type": "execute_result"
    }
   ],
   "source": [
    "data.head()"
   ]
  },
  {
   "cell_type": "code",
   "execution_count": 22,
   "metadata": {},
   "outputs": [],
   "source": [
    "text_dict = {x:y for x,y in zip(data.index, data.text)}"
   ]
  },
  {
   "cell_type": "code",
   "execution_count": 23,
   "metadata": {},
   "outputs": [
    {
     "data": {
      "application/vnd.jupyter.widget-view+json": {
       "model_id": "9e29efc2fec142f9a47aab58c539f033",
       "version_major": 2,
       "version_minor": 0
      },
      "text/plain": [
       "HBox(children=(FloatProgress(value=1.0, bar_style='info', max=1.0), HTML(value='')))"
      ]
     },
     "metadata": {},
     "output_type": "display_data"
    },
    {
     "name": "stdout",
     "output_type": "stream",
     "text": [
      "\n"
     ]
    }
   ],
   "source": [
    "def get_pos_score(reactions):\n",
    "    positive_reactions = {\n",
    "        'heavy_plus_sign',\n",
    "        '+1',\n",
    "        'tnx',\n",
    "        'omgtnx',\n",
    "        'muscle',\n",
    "        'fireball',\n",
    "        'shaka',\n",
    "        'fire',\n",
    "        'heart'\n",
    "    }\n",
    "    total_pos_score = 0\n",
    "    for reaction in reactions:\n",
    "        if reaction['name'] in positive_reactions:\n",
    "            total_pos_score += reaction['count']\n",
    "    return total_pos_score\n",
    "\n",
    "\n",
    "pos_score_dict = {}\n",
    "for row_ind, row in tqdm(data['reactions'].dropna().iteritems()):\n",
    "    pos_score = get_pos_score(eval(row))\n",
    "    pos_score_dict[row_ind] = pos_score"
   ]
  },
  {
   "cell_type": "code",
   "execution_count": 24,
   "metadata": {},
   "outputs": [],
   "source": [
    "def append_to_dict(d:dict, \n",
    "                   new_ind, \n",
    "                   text,\n",
    "                   answer_count,\n",
    "                   answer_text, \n",
    "                   text_score, \n",
    "                   channel):\n",
    "    \n",
    "    d['new_ind'].append(new_ind)\n",
    "    d['text'].append(text)\n",
    "    d['answer_count'].append(answer_count)\n",
    "    d['answer_text'].append(answer_text)\n",
    "    d['text_score'].append(text_score)\n",
    "    d['channel'].append(channel)"
   ]
  },
  {
   "cell_type": "code",
   "execution_count": 25,
   "metadata": {},
   "outputs": [
    {
     "data": {
      "application/vnd.jupyter.widget-view+json": {
       "model_id": "79f08937cb994ba88b301972ee98d6be",
       "version_major": 2,
       "version_minor": 0
      },
      "text/plain": [
       "HBox(children=(FloatProgress(value=1.0, bar_style='info', max=1.0), HTML(value='')))"
      ]
     },
     "metadata": {},
     "output_type": "display_data"
    },
    {
     "name": "stdout",
     "output_type": "stream",
     "text": [
      "\n"
     ]
    }
   ],
   "source": [
    "replies_base = []\n",
    "fail_count = 0\n",
    "success_count = 0\n",
    "for row_id, row in tqdm(data[~data['replies'].isnull()].iterrows()):\n",
    "    try:\n",
    "        replies = eval(row['replies'])\n",
    "        success_count += 1\n",
    "    except:\n",
    "        fail_count += 1\n",
    "    \n",
    "    for reply in replies:\n",
    "        new_ind = f'{reply[\"user\"]}_{round(float(reply[\"ts\"]), 0)}'\n",
    "        replies_base.append(new_ind)"
   ]
  },
  {
   "cell_type": "code",
   "execution_count": 26,
   "metadata": {},
   "outputs": [
    {
     "data": {
      "text/plain": [
       "625528"
      ]
     },
     "execution_count": 26,
     "metadata": {},
     "output_type": "execute_result"
    }
   ],
   "source": [
    "len(replies_base)"
   ]
  },
  {
   "cell_type": "code",
   "execution_count": 27,
   "metadata": {},
   "outputs": [
    {
     "data": {
      "application/vnd.jupyter.widget-view+json": {
       "model_id": "83a930492795450f9077989daf7d3ea1",
       "version_major": 2,
       "version_minor": 0
      },
      "text/plain": [
       "HBox(children=(FloatProgress(value=1.0, bar_style='info', max=1.0), HTML(value='')))"
      ]
     },
     "metadata": {},
     "output_type": "display_data"
    },
    {
     "name": "stdout",
     "output_type": "stream",
     "text": [
      "\n"
     ]
    },
    {
     "data": {
      "text/html": [
       "<div>\n",
       "<style scoped>\n",
       "    .dataframe tbody tr th:only-of-type {\n",
       "        vertical-align: middle;\n",
       "    }\n",
       "\n",
       "    .dataframe tbody tr th {\n",
       "        vertical-align: top;\n",
       "    }\n",
       "\n",
       "    .dataframe thead th {\n",
       "        text-align: right;\n",
       "    }\n",
       "</style>\n",
       "<table border=\"1\" class=\"dataframe\">\n",
       "  <thead>\n",
       "    <tr style=\"text-align: right;\">\n",
       "      <th></th>\n",
       "      <th>new_ind</th>\n",
       "      <th>text</th>\n",
       "      <th>answer_count</th>\n",
       "      <th>answer_text</th>\n",
       "      <th>text_score</th>\n",
       "      <th>channel</th>\n",
       "    </tr>\n",
       "  </thead>\n",
       "  <tbody>\n",
       "    <tr>\n",
       "      <th>0</th>\n",
       "      <td>U0106VCFW81_1585131557.0</td>\n",
       "      <td>Всем привет! Стоит такая задача, есть историия...</td>\n",
       "      <td>7</td>\n",
       "      <td>Регрессию построить можно, а вот верить, что о...</td>\n",
       "      <td>0</td>\n",
       "      <td>analytiсs</td>\n",
       "    </tr>\n",
       "    <tr>\n",
       "      <th>1</th>\n",
       "      <td>U17S9F6KV_1596184224.0</td>\n",
       "      <td>Привет! Такой вопрос. Мы хотим настроить алерт...</td>\n",
       "      <td>17</td>\n",
       "      <td>как вариант из посгреса передаете информацию в...</td>\n",
       "      <td>0</td>\n",
       "      <td>analytiсs</td>\n",
       "    </tr>\n",
       "    <tr>\n",
       "      <th>2</th>\n",
       "      <td>UFF1SJ30F_1595870327.0</td>\n",
       "      <td>Всем привет! А кто-нибудь автоматизировал созд...</td>\n",
       "      <td>8</td>\n",
       "      <td>&lt;@U1G303UTW&gt; обламывает копи-пастой заниматься...</td>\n",
       "      <td>0</td>\n",
       "      <td>analytiсs</td>\n",
       "    </tr>\n",
       "    <tr>\n",
       "      <th>3</th>\n",
       "      <td>U8DRB30SX_1597401814.0</td>\n",
       "      <td>Привет! Есть какие-нибудь материалы, статьи ил...</td>\n",
       "      <td>2</td>\n",
       "      <td>а что там делать. выбрал метрику и посчитал.\\n...</td>\n",
       "      <td>1</td>\n",
       "      <td>analytiсs</td>\n",
       "    </tr>\n",
       "    <tr>\n",
       "      <th>4</th>\n",
       "      <td>UR9M1T5KP_1589979868.0</td>\n",
       "      <td>Добрый день ,кто может подсказать пжл статьи,н...</td>\n",
       "      <td>10</td>\n",
       "      <td>много нулей - ну бывает, скошенное распределен...</td>\n",
       "      <td>0</td>\n",
       "      <td>analytiсs</td>\n",
       "    </tr>\n",
       "  </tbody>\n",
       "</table>\n",
       "</div>"
      ],
      "text/plain": [
       "                    new_ind  \\\n",
       "0  U0106VCFW81_1585131557.0   \n",
       "1    U17S9F6KV_1596184224.0   \n",
       "2    UFF1SJ30F_1595870327.0   \n",
       "3    U8DRB30SX_1597401814.0   \n",
       "4    UR9M1T5KP_1589979868.0   \n",
       "\n",
       "                                                text  answer_count  \\\n",
       "0  Всем привет! Стоит такая задача, есть историия...             7   \n",
       "1  Привет! Такой вопрос. Мы хотим настроить алерт...            17   \n",
       "2  Всем привет! А кто-нибудь автоматизировал созд...             8   \n",
       "3  Привет! Есть какие-нибудь материалы, статьи ил...             2   \n",
       "4  Добрый день ,кто может подсказать пжл статьи,н...            10   \n",
       "\n",
       "                                         answer_text  text_score    channel  \n",
       "0  Регрессию построить можно, а вот верить, что о...           0  analytiсs  \n",
       "1  как вариант из посгреса передаете информацию в...           0  analytiсs  \n",
       "2  <@U1G303UTW> обламывает копи-пастой заниматься...           0  analytiсs  \n",
       "3  а что там делать. выбрал метрику и посчитал.\\n...           1  analytiсs  \n",
       "4  много нулей - ну бывает, скошенное распределен...           0  analytiсs  "
      ]
     },
     "execution_count": 27,
     "metadata": {},
     "output_type": "execute_result"
    }
   ],
   "source": [
    "from collections import defaultdict\n",
    "df_dict = {\n",
    "    'new_ind':[],\n",
    "    'text': [],\n",
    "    'answer_count': [],\n",
    "    'answer_text': [],\n",
    "    'text_score': [],\n",
    "    'channel': []\n",
    "              }\n",
    "\n",
    "fail_count = 0\n",
    "success_count = 0\n",
    "all_index = set(data.index)\n",
    "replies_dict = defaultdict(list)\n",
    "for row_id, row in tqdm(data[~data.index.isin(replies_base)].iterrows()):\n",
    "    text_score = pos_score_dict.get(row_id,0)\n",
    "    try:\n",
    "        replies = eval(row['replies'])\n",
    "        ans_count = len(replies)\n",
    "    except:\n",
    "        append_to_dict(df_dict, row_id, row['text'], 0, None, text_score, row['channel'])\n",
    "        continue\n",
    "    \n",
    "    for reply in replies:\n",
    "        new_ind = f'{reply[\"user\"]}_{round(float(reply[\"ts\"]), 0)}'\n",
    "        \n",
    "        if new_ind in all_index:\n",
    "            replies_dict[row_id].append(new_ind)\n",
    "            success_count += 1\n",
    "        else:\n",
    "            fail_count += 1\n",
    "        \n",
    "    if replies_dict[row_id]:\n",
    "        row_replies = [(x, pos_score_dict.get(x,0)) for x in replies_dict[row_id]]\n",
    "        best_k_replies = sorted(row_replies, key=lambda x: x[1], reverse=True)[:10]\n",
    "        \n",
    "        replies_id_list = [k for k, v in best_k_replies]\n",
    "        replies_pos_score_list = [v for k, v in best_k_replies]\n",
    "        answer = ' '.join(text_dict[k] for k in replies_id_list)\n",
    "        \n",
    "        append_to_dict(df_dict, row_id, row['text'], ans_count, answer, text_score, row['channel'])\n",
    "\n",
    "df = pd.DataFrame.from_dict(df_dict)\n",
    "df.head()"
   ]
  },
  {
   "cell_type": "code",
   "execution_count": 28,
   "metadata": {},
   "outputs": [
    {
     "name": "stdout",
     "output_type": "stream",
     "text": [
      "557795 67733\n"
     ]
    }
   ],
   "source": [
    "print(success_count, fail_count)"
   ]
  },
  {
   "cell_type": "code",
   "execution_count": 29,
   "metadata": {},
   "outputs": [
    {
     "data": {
      "text/plain": [
       "(284315, 6)"
      ]
     },
     "execution_count": 29,
     "metadata": {},
     "output_type": "execute_result"
    }
   ],
   "source": [
    "df.shape"
   ]
  },
  {
   "cell_type": "markdown",
   "metadata": {},
   "source": [
    "## Filter short messages"
   ]
  },
  {
   "cell_type": "code",
   "execution_count": 30,
   "metadata": {},
   "outputs": [],
   "source": [
    "df['text_len'] = df.text.apply(lambda x: len(x.split()))"
   ]
  },
  {
   "cell_type": "code",
   "execution_count": 31,
   "metadata": {},
   "outputs": [],
   "source": [
    "df = df[df.text_len>5]"
   ]
  },
  {
   "cell_type": "code",
   "execution_count": 32,
   "metadata": {},
   "outputs": [
    {
     "data": {
      "text/plain": [
       "(236895, 7)"
      ]
     },
     "execution_count": 32,
     "metadata": {},
     "output_type": "execute_result"
    }
   ],
   "source": [
    "df.shape"
   ]
  },
  {
   "cell_type": "code",
   "execution_count": 33,
   "metadata": {},
   "outputs": [
    {
     "data": {
      "text/html": [
       "<div>\n",
       "<style scoped>\n",
       "    .dataframe tbody tr th:only-of-type {\n",
       "        vertical-align: middle;\n",
       "    }\n",
       "\n",
       "    .dataframe tbody tr th {\n",
       "        vertical-align: top;\n",
       "    }\n",
       "\n",
       "    .dataframe thead th {\n",
       "        text-align: right;\n",
       "    }\n",
       "</style>\n",
       "<table border=\"1\" class=\"dataframe\">\n",
       "  <thead>\n",
       "    <tr style=\"text-align: right;\">\n",
       "      <th></th>\n",
       "      <th>new_ind</th>\n",
       "      <th>text</th>\n",
       "      <th>answer_count</th>\n",
       "      <th>answer_text</th>\n",
       "      <th>text_score</th>\n",
       "      <th>channel</th>\n",
       "      <th>text_len</th>\n",
       "    </tr>\n",
       "  </thead>\n",
       "  <tbody>\n",
       "    <tr>\n",
       "      <th>0</th>\n",
       "      <td>U0106VCFW81_1585131557.0</td>\n",
       "      <td>Всем привет! Стоит такая задача, есть историия...</td>\n",
       "      <td>7</td>\n",
       "      <td>Регрессию построить можно, а вот верить, что о...</td>\n",
       "      <td>0</td>\n",
       "      <td>analytiсs</td>\n",
       "      <td>38</td>\n",
       "    </tr>\n",
       "    <tr>\n",
       "      <th>1</th>\n",
       "      <td>U17S9F6KV_1596184224.0</td>\n",
       "      <td>Привет! Такой вопрос. Мы хотим настроить алерт...</td>\n",
       "      <td>17</td>\n",
       "      <td>как вариант из посгреса передаете информацию в...</td>\n",
       "      <td>0</td>\n",
       "      <td>analytiсs</td>\n",
       "      <td>27</td>\n",
       "    </tr>\n",
       "    <tr>\n",
       "      <th>2</th>\n",
       "      <td>UFF1SJ30F_1595870327.0</td>\n",
       "      <td>Всем привет! А кто-нибудь автоматизировал созд...</td>\n",
       "      <td>8</td>\n",
       "      <td>&lt;@U1G303UTW&gt; обламывает копи-пастой заниматься...</td>\n",
       "      <td>0</td>\n",
       "      <td>analytiсs</td>\n",
       "      <td>43</td>\n",
       "    </tr>\n",
       "    <tr>\n",
       "      <th>3</th>\n",
       "      <td>U8DRB30SX_1597401814.0</td>\n",
       "      <td>Привет! Есть какие-нибудь материалы, статьи ил...</td>\n",
       "      <td>2</td>\n",
       "      <td>а что там делать. выбрал метрику и посчитал.\\n...</td>\n",
       "      <td>1</td>\n",
       "      <td>analytiсs</td>\n",
       "      <td>14</td>\n",
       "    </tr>\n",
       "    <tr>\n",
       "      <th>4</th>\n",
       "      <td>UR9M1T5KP_1589979868.0</td>\n",
       "      <td>Добрый день ,кто может подсказать пжл статьи,н...</td>\n",
       "      <td>10</td>\n",
       "      <td>много нулей - ну бывает, скошенное распределен...</td>\n",
       "      <td>0</td>\n",
       "      <td>analytiсs</td>\n",
       "      <td>33</td>\n",
       "    </tr>\n",
       "  </tbody>\n",
       "</table>\n",
       "</div>"
      ],
      "text/plain": [
       "                    new_ind  \\\n",
       "0  U0106VCFW81_1585131557.0   \n",
       "1    U17S9F6KV_1596184224.0   \n",
       "2    UFF1SJ30F_1595870327.0   \n",
       "3    U8DRB30SX_1597401814.0   \n",
       "4    UR9M1T5KP_1589979868.0   \n",
       "\n",
       "                                                text  answer_count  \\\n",
       "0  Всем привет! Стоит такая задача, есть историия...             7   \n",
       "1  Привет! Такой вопрос. Мы хотим настроить алерт...            17   \n",
       "2  Всем привет! А кто-нибудь автоматизировал созд...             8   \n",
       "3  Привет! Есть какие-нибудь материалы, статьи ил...             2   \n",
       "4  Добрый день ,кто может подсказать пжл статьи,н...            10   \n",
       "\n",
       "                                         answer_text  text_score    channel  \\\n",
       "0  Регрессию построить можно, а вот верить, что о...           0  analytiсs   \n",
       "1  как вариант из посгреса передаете информацию в...           0  analytiсs   \n",
       "2  <@U1G303UTW> обламывает копи-пастой заниматься...           0  analytiсs   \n",
       "3  а что там делать. выбрал метрику и посчитал.\\n...           1  analytiсs   \n",
       "4  много нулей - ну бывает, скошенное распределен...           0  analytiсs   \n",
       "\n",
       "   text_len  \n",
       "0        38  \n",
       "1        27  \n",
       "2        43  \n",
       "3        14  \n",
       "4        33  "
      ]
     },
     "execution_count": 33,
     "metadata": {},
     "output_type": "execute_result"
    }
   ],
   "source": [
    "df.head()"
   ]
  },
  {
   "cell_type": "markdown",
   "metadata": {},
   "source": [
    "## No comments, no pluses"
   ]
  },
  {
   "cell_type": "code",
   "execution_count": 34,
   "metadata": {},
   "outputs": [],
   "source": [
    "df=df[(df['answer_count']>0) | (df['text_score']>0)]"
   ]
  },
  {
   "cell_type": "code",
   "execution_count": 35,
   "metadata": {},
   "outputs": [
    {
     "data": {
      "text/html": [
       "<div>\n",
       "<style scoped>\n",
       "    .dataframe tbody tr th:only-of-type {\n",
       "        vertical-align: middle;\n",
       "    }\n",
       "\n",
       "    .dataframe tbody tr th {\n",
       "        vertical-align: top;\n",
       "    }\n",
       "\n",
       "    .dataframe thead th {\n",
       "        text-align: right;\n",
       "    }\n",
       "</style>\n",
       "<table border=\"1\" class=\"dataframe\">\n",
       "  <thead>\n",
       "    <tr style=\"text-align: right;\">\n",
       "      <th></th>\n",
       "      <th>new_ind</th>\n",
       "      <th>text</th>\n",
       "      <th>answer_count</th>\n",
       "      <th>answer_text</th>\n",
       "      <th>text_score</th>\n",
       "      <th>channel</th>\n",
       "      <th>text_len</th>\n",
       "    </tr>\n",
       "  </thead>\n",
       "  <tbody>\n",
       "    <tr>\n",
       "      <th>0</th>\n",
       "      <td>U0106VCFW81_1585131557.0</td>\n",
       "      <td>Всем привет! Стоит такая задача, есть историия...</td>\n",
       "      <td>7</td>\n",
       "      <td>Регрессию построить можно, а вот верить, что о...</td>\n",
       "      <td>0</td>\n",
       "      <td>analytiсs</td>\n",
       "      <td>38</td>\n",
       "    </tr>\n",
       "    <tr>\n",
       "      <th>1</th>\n",
       "      <td>U17S9F6KV_1596184224.0</td>\n",
       "      <td>Привет! Такой вопрос. Мы хотим настроить алерт...</td>\n",
       "      <td>17</td>\n",
       "      <td>как вариант из посгреса передаете информацию в...</td>\n",
       "      <td>0</td>\n",
       "      <td>analytiсs</td>\n",
       "      <td>27</td>\n",
       "    </tr>\n",
       "    <tr>\n",
       "      <th>2</th>\n",
       "      <td>UFF1SJ30F_1595870327.0</td>\n",
       "      <td>Всем привет! А кто-нибудь автоматизировал созд...</td>\n",
       "      <td>8</td>\n",
       "      <td>&lt;@U1G303UTW&gt; обламывает копи-пастой заниматься...</td>\n",
       "      <td>0</td>\n",
       "      <td>analytiсs</td>\n",
       "      <td>43</td>\n",
       "    </tr>\n",
       "    <tr>\n",
       "      <th>3</th>\n",
       "      <td>U8DRB30SX_1597401814.0</td>\n",
       "      <td>Привет! Есть какие-нибудь материалы, статьи ил...</td>\n",
       "      <td>2</td>\n",
       "      <td>а что там делать. выбрал метрику и посчитал.\\n...</td>\n",
       "      <td>1</td>\n",
       "      <td>analytiсs</td>\n",
       "      <td>14</td>\n",
       "    </tr>\n",
       "    <tr>\n",
       "      <th>4</th>\n",
       "      <td>UR9M1T5KP_1589979868.0</td>\n",
       "      <td>Добрый день ,кто может подсказать пжл статьи,н...</td>\n",
       "      <td>10</td>\n",
       "      <td>много нулей - ну бывает, скошенное распределен...</td>\n",
       "      <td>0</td>\n",
       "      <td>analytiсs</td>\n",
       "      <td>33</td>\n",
       "    </tr>\n",
       "  </tbody>\n",
       "</table>\n",
       "</div>"
      ],
      "text/plain": [
       "                    new_ind  \\\n",
       "0  U0106VCFW81_1585131557.0   \n",
       "1    U17S9F6KV_1596184224.0   \n",
       "2    UFF1SJ30F_1595870327.0   \n",
       "3    U8DRB30SX_1597401814.0   \n",
       "4    UR9M1T5KP_1589979868.0   \n",
       "\n",
       "                                                text  answer_count  \\\n",
       "0  Всем привет! Стоит такая задача, есть историия...             7   \n",
       "1  Привет! Такой вопрос. Мы хотим настроить алерт...            17   \n",
       "2  Всем привет! А кто-нибудь автоматизировал созд...             8   \n",
       "3  Привет! Есть какие-нибудь материалы, статьи ил...             2   \n",
       "4  Добрый день ,кто может подсказать пжл статьи,н...            10   \n",
       "\n",
       "                                         answer_text  text_score    channel  \\\n",
       "0  Регрессию построить можно, а вот верить, что о...           0  analytiсs   \n",
       "1  как вариант из посгреса передаете информацию в...           0  analytiсs   \n",
       "2  <@U1G303UTW> обламывает копи-пастой заниматься...           0  analytiсs   \n",
       "3  а что там делать. выбрал метрику и посчитал.\\n...           1  analytiсs   \n",
       "4  много нулей - ну бывает, скошенное распределен...           0  analytiсs   \n",
       "\n",
       "   text_len  \n",
       "0        38  \n",
       "1        27  \n",
       "2        43  \n",
       "3        14  \n",
       "4        33  "
      ]
     },
     "execution_count": 35,
     "metadata": {},
     "output_type": "execute_result"
    }
   ],
   "source": [
    "df.head()"
   ]
  },
  {
   "cell_type": "code",
   "execution_count": 36,
   "metadata": {},
   "outputs": [
    {
     "data": {
      "text/plain": [
       "(77155, 7)"
      ]
     },
     "execution_count": 36,
     "metadata": {},
     "output_type": "execute_result"
    }
   ],
   "source": [
    "df.shape"
   ]
  },
  {
   "cell_type": "code",
   "execution_count": 37,
   "metadata": {},
   "outputs": [
    {
     "data": {
      "text/plain": [
       "(14944, 7)"
      ]
     },
     "execution_count": 37,
     "metadata": {},
     "output_type": "execute_result"
    }
   ],
   "source": [
    "df[df['answer_count']==0].shape"
   ]
  },
  {
   "cell_type": "code",
   "execution_count": 38,
   "metadata": {},
   "outputs": [],
   "source": [
    "df.reset_index(drop=True, inplace=True)"
   ]
  },
  {
   "cell_type": "code",
   "execution_count": 39,
   "metadata": {},
   "outputs": [],
   "source": [
    "df['answer_text'] = df['answer_text'].fillna(\" \")"
   ]
  },
  {
   "cell_type": "code",
   "execution_count": 40,
   "metadata": {},
   "outputs": [
    {
     "data": {
      "text/plain": [
       "0                   analytiсs\n",
       "1                   analytiсs\n",
       "2                   analytiсs\n",
       "3                   analytiсs\n",
       "4                   analytiсs\n",
       "                 ...         \n",
       "77150    writing_n_presenting\n",
       "77151    writing_n_presenting\n",
       "77152    writing_n_presenting\n",
       "77153    writing_n_presenting\n",
       "77154    writing_n_presenting\n",
       "Name: channel, Length: 77155, dtype: object"
      ]
     },
     "execution_count": 40,
     "metadata": {},
     "output_type": "execute_result"
    }
   ],
   "source": [
    "df['channel']"
   ]
  },
  {
   "cell_type": "code",
   "execution_count": 43,
   "metadata": {},
   "outputs": [
    {
     "data": {
      "text/plain": [
       "(77155, 7)"
      ]
     },
     "execution_count": 43,
     "metadata": {},
     "output_type": "execute_result"
    }
   ],
   "source": [
    "df.shape"
   ]
  },
  {
   "cell_type": "code",
   "execution_count": 44,
   "metadata": {},
   "outputs": [
    {
     "data": {
      "text/html": [
       "<div>\n",
       "<style scoped>\n",
       "    .dataframe tbody tr th:only-of-type {\n",
       "        vertical-align: middle;\n",
       "    }\n",
       "\n",
       "    .dataframe tbody tr th {\n",
       "        vertical-align: top;\n",
       "    }\n",
       "\n",
       "    .dataframe thead th {\n",
       "        text-align: right;\n",
       "    }\n",
       "</style>\n",
       "<table border=\"1\" class=\"dataframe\">\n",
       "  <thead>\n",
       "    <tr style=\"text-align: right;\">\n",
       "      <th></th>\n",
       "      <th>Unnamed: 0</th>\n",
       "      <th>type</th>\n",
       "      <th>subtype</th>\n",
       "      <th>ts</th>\n",
       "      <th>user</th>\n",
       "      <th>text</th>\n",
       "      <th>channel</th>\n",
       "      <th>old_name</th>\n",
       "      <th>name</th>\n",
       "      <th>reactions</th>\n",
       "      <th>...</th>\n",
       "      <th>icons</th>\n",
       "      <th>bot_link</th>\n",
       "      <th>room</th>\n",
       "      <th>no_notifications</th>\n",
       "      <th>permalink</th>\n",
       "      <th>bot_profile</th>\n",
       "      <th>text_len</th>\n",
       "      <th>user_old_id</th>\n",
       "      <th>new_ind</th>\n",
       "      <th>timestamp</th>\n",
       "    </tr>\n",
       "  </thead>\n",
       "  <tbody>\n",
       "    <tr>\n",
       "      <th>U0106VCFW81_1585131557.0</th>\n",
       "      <td>640506</td>\n",
       "      <td>message</td>\n",
       "      <td>NaN</td>\n",
       "      <td>1585131557.006000</td>\n",
       "      <td>U0106VCFW81</td>\n",
       "      <td>Всем привет! Стоит такая задача, есть историия...</td>\n",
       "      <td>analytiсs</td>\n",
       "      <td>NaN</td>\n",
       "      <td>NaN</td>\n",
       "      <td>NaN</td>\n",
       "      <td>...</td>\n",
       "      <td>NaN</td>\n",
       "      <td>NaN</td>\n",
       "      <td>NaN</td>\n",
       "      <td>NaN</td>\n",
       "      <td>NaN</td>\n",
       "      <td>NaN</td>\n",
       "      <td>260</td>\n",
       "      <td>U0106VCFW81_1585131557</td>\n",
       "      <td>U0106VCFW81_1585131557.0</td>\n",
       "      <td>1585131557.006000</td>\n",
       "    </tr>\n",
       "    <tr>\n",
       "      <th>U14DMFHJB_1585132173.0</th>\n",
       "      <td>640507</td>\n",
       "      <td>message</td>\n",
       "      <td>NaN</td>\n",
       "      <td>1585132173.006100</td>\n",
       "      <td>U14DMFHJB</td>\n",
       "      <td>Это супер сложно, на самом деле, если в истори...</td>\n",
       "      <td>analytiсs</td>\n",
       "      <td>NaN</td>\n",
       "      <td>NaN</td>\n",
       "      <td>NaN</td>\n",
       "      <td>...</td>\n",
       "      <td>NaN</td>\n",
       "      <td>NaN</td>\n",
       "      <td>NaN</td>\n",
       "      <td>NaN</td>\n",
       "      <td>NaN</td>\n",
       "      <td>NaN</td>\n",
       "      <td>101</td>\n",
       "      <td>U14DMFHJB_1585132173</td>\n",
       "      <td>U14DMFHJB_1585132173.0</td>\n",
       "      <td>1585132173.006100</td>\n",
       "    </tr>\n",
       "    <tr>\n",
       "      <th>U04423D74_1585133439.0</th>\n",
       "      <td>640508</td>\n",
       "      <td>message</td>\n",
       "      <td>NaN</td>\n",
       "      <td>1585133439.006300</td>\n",
       "      <td>U04423D74</td>\n",
       "      <td>можно попробовать регресси накрутить, не?\\nгря...</td>\n",
       "      <td>analytiсs</td>\n",
       "      <td>NaN</td>\n",
       "      <td>NaN</td>\n",
       "      <td>NaN</td>\n",
       "      <td>...</td>\n",
       "      <td>NaN</td>\n",
       "      <td>NaN</td>\n",
       "      <td>NaN</td>\n",
       "      <td>NaN</td>\n",
       "      <td>NaN</td>\n",
       "      <td>NaN</td>\n",
       "      <td>157</td>\n",
       "      <td>U04423D74_1585133439</td>\n",
       "      <td>U04423D74_1585133439.0</td>\n",
       "      <td>1585133439.006300</td>\n",
       "    </tr>\n",
       "    <tr>\n",
       "      <th>U14DMFHJB_1585133523.0</th>\n",
       "      <td>640509</td>\n",
       "      <td>message</td>\n",
       "      <td>NaN</td>\n",
       "      <td>1585133523.006500</td>\n",
       "      <td>U14DMFHJB</td>\n",
       "      <td>Регрессию построить можно, а вот верить, что о...</td>\n",
       "      <td>analytiсs</td>\n",
       "      <td>NaN</td>\n",
       "      <td>NaN</td>\n",
       "      <td>[{'name': 'heavy_plus_sign', 'users': ['U04423...</td>\n",
       "      <td>...</td>\n",
       "      <td>NaN</td>\n",
       "      <td>NaN</td>\n",
       "      <td>NaN</td>\n",
       "      <td>NaN</td>\n",
       "      <td>NaN</td>\n",
       "      <td>NaN</td>\n",
       "      <td>378</td>\n",
       "      <td>U14DMFHJB_1585133523</td>\n",
       "      <td>U14DMFHJB_1585133523.0</td>\n",
       "      <td>1585133523.006500</td>\n",
       "    </tr>\n",
       "    <tr>\n",
       "      <th>U0106VCFW81_1585133701.0</th>\n",
       "      <td>640510</td>\n",
       "      <td>message</td>\n",
       "      <td>NaN</td>\n",
       "      <td>1585133701.007000</td>\n",
       "      <td>U0106VCFW81</td>\n",
       "      <td>Спасибо, за рекомендации!</td>\n",
       "      <td>analytiсs</td>\n",
       "      <td>NaN</td>\n",
       "      <td>NaN</td>\n",
       "      <td>NaN</td>\n",
       "      <td>...</td>\n",
       "      <td>NaN</td>\n",
       "      <td>NaN</td>\n",
       "      <td>NaN</td>\n",
       "      <td>NaN</td>\n",
       "      <td>NaN</td>\n",
       "      <td>NaN</td>\n",
       "      <td>25</td>\n",
       "      <td>U0106VCFW81_1585133701</td>\n",
       "      <td>U0106VCFW81_1585133701.0</td>\n",
       "      <td>1585133701.007000</td>\n",
       "    </tr>\n",
       "    <tr>\n",
       "      <th>...</th>\n",
       "      <td>...</td>\n",
       "      <td>...</td>\n",
       "      <td>...</td>\n",
       "      <td>...</td>\n",
       "      <td>...</td>\n",
       "      <td>...</td>\n",
       "      <td>...</td>\n",
       "      <td>...</td>\n",
       "      <td>...</td>\n",
       "      <td>...</td>\n",
       "      <td>...</td>\n",
       "      <td>...</td>\n",
       "      <td>...</td>\n",
       "      <td>...</td>\n",
       "      <td>...</td>\n",
       "      <td>...</td>\n",
       "      <td>...</td>\n",
       "      <td>...</td>\n",
       "      <td>...</td>\n",
       "      <td>...</td>\n",
       "      <td>...</td>\n",
       "    </tr>\n",
       "    <tr>\n",
       "      <th>UAL8CA2TF_1564736825.0</th>\n",
       "      <td>1801518</td>\n",
       "      <td>message</td>\n",
       "      <td>NaN</td>\n",
       "      <td>1564736825.008200</td>\n",
       "      <td>UAL8CA2TF</td>\n",
       "      <td>&lt;@U27HU84H4&gt; ты 100% про латех много знаешь, к...</td>\n",
       "      <td>writing_n_presenting</td>\n",
       "      <td>NaN</td>\n",
       "      <td>NaN</td>\n",
       "      <td>NaN</td>\n",
       "      <td>...</td>\n",
       "      <td>NaN</td>\n",
       "      <td>NaN</td>\n",
       "      <td>NaN</td>\n",
       "      <td>NaN</td>\n",
       "      <td>NaN</td>\n",
       "      <td>NaN</td>\n",
       "      <td>241</td>\n",
       "      <td>UAL8CA2TF_1564736825</td>\n",
       "      <td>UAL8CA2TF_1564736825.0</td>\n",
       "      <td>1564736825.008200</td>\n",
       "    </tr>\n",
       "    <tr>\n",
       "      <th>U27HU84H4_1564737934.0</th>\n",
       "      <td>1801519</td>\n",
       "      <td>message</td>\n",
       "      <td>NaN</td>\n",
       "      <td>1564737934.008500</td>\n",
       "      <td>U27HU84H4</td>\n",
       "      <td>Вот можешь попробовать:\\n* &lt;https://github.com...</td>\n",
       "      <td>writing_n_presenting</td>\n",
       "      <td>NaN</td>\n",
       "      <td>NaN</td>\n",
       "      <td>[{'name': 'tnx', 'users': ['UAL8CA2TF'], 'coun...</td>\n",
       "      <td>...</td>\n",
       "      <td>NaN</td>\n",
       "      <td>NaN</td>\n",
       "      <td>NaN</td>\n",
       "      <td>NaN</td>\n",
       "      <td>NaN</td>\n",
       "      <td>NaN</td>\n",
       "      <td>563</td>\n",
       "      <td>U27HU84H4_1564737934</td>\n",
       "      <td>U27HU84H4_1564737934.0</td>\n",
       "      <td>1564737934.008500</td>\n",
       "    </tr>\n",
       "    <tr>\n",
       "      <th>UAL8CA2TF_1564740792.0</th>\n",
       "      <td>1801521</td>\n",
       "      <td>message</td>\n",
       "      <td>NaN</td>\n",
       "      <td>1564740792.010000</td>\n",
       "      <td>UAL8CA2TF</td>\n",
       "      <td>выкачать её source (как правило *.tar.gz файл)...</td>\n",
       "      <td>writing_n_presenting</td>\n",
       "      <td>NaN</td>\n",
       "      <td>NaN</td>\n",
       "      <td>[{'name': 'smekalka', 'users': ['U27HU84H4', '...</td>\n",
       "      <td>...</td>\n",
       "      <td>NaN</td>\n",
       "      <td>NaN</td>\n",
       "      <td>NaN</td>\n",
       "      <td>NaN</td>\n",
       "      <td>NaN</td>\n",
       "      <td>NaN</td>\n",
       "      <td>152</td>\n",
       "      <td>UAL8CA2TF_1564740792</td>\n",
       "      <td>UAL8CA2TF_1564740792.0</td>\n",
       "      <td>1564740792.010000</td>\n",
       "    </tr>\n",
       "    <tr>\n",
       "      <th>U27HU84H4_1565806384.0</th>\n",
       "      <td>1801522</td>\n",
       "      <td>message</td>\n",
       "      <td>NaN</td>\n",
       "      <td>1565806384.043000</td>\n",
       "      <td>U27HU84H4</td>\n",
       "      <td>&lt;https://www.youtube.com/watch?v=BeQoBxsu1gE&gt; ...</td>\n",
       "      <td>writing_n_presenting</td>\n",
       "      <td>NaN</td>\n",
       "      <td>NaN</td>\n",
       "      <td>[{'name': 'leonid', 'users': ['U09JEC7V0'], 'c...</td>\n",
       "      <td>...</td>\n",
       "      <td>NaN</td>\n",
       "      <td>NaN</td>\n",
       "      <td>NaN</td>\n",
       "      <td>NaN</td>\n",
       "      <td>NaN</td>\n",
       "      <td>NaN</td>\n",
       "      <td>221</td>\n",
       "      <td>U27HU84H4_1565806384</td>\n",
       "      <td>U27HU84H4_1565806384.0</td>\n",
       "      <td>1565806384.043000</td>\n",
       "    </tr>\n",
       "    <tr>\n",
       "      <th>U27HU84H4_1565806563.0</th>\n",
       "      <td>1801524</td>\n",
       "      <td>message</td>\n",
       "      <td>NaN</td>\n",
       "      <td>1565806563.043400</td>\n",
       "      <td>U27HU84H4</td>\n",
       "      <td>1) идея\\n2) репетиция\\n3) структура\\n4) вниман...</td>\n",
       "      <td>writing_n_presenting</td>\n",
       "      <td>NaN</td>\n",
       "      <td>NaN</td>\n",
       "      <td>[{'name': 'tnx', 'users': ['U4ZRFG1V0', 'U9V48...</td>\n",
       "      <td>...</td>\n",
       "      <td>NaN</td>\n",
       "      <td>NaN</td>\n",
       "      <td>NaN</td>\n",
       "      <td>NaN</td>\n",
       "      <td>NaN</td>\n",
       "      <td>NaN</td>\n",
       "      <td>80</td>\n",
       "      <td>U27HU84H4_1565806563</td>\n",
       "      <td>U27HU84H4_1565806563.0</td>\n",
       "      <td>1565806563.043400</td>\n",
       "    </tr>\n",
       "  </tbody>\n",
       "</table>\n",
       "<p>843890 rows × 55 columns</p>\n",
       "</div>"
      ],
      "text/plain": [
       "                          Unnamed: 0     type subtype                 ts  \\\n",
       "U0106VCFW81_1585131557.0      640506  message     NaN  1585131557.006000   \n",
       "U14DMFHJB_1585132173.0        640507  message     NaN  1585132173.006100   \n",
       "U04423D74_1585133439.0        640508  message     NaN  1585133439.006300   \n",
       "U14DMFHJB_1585133523.0        640509  message     NaN  1585133523.006500   \n",
       "U0106VCFW81_1585133701.0      640510  message     NaN  1585133701.007000   \n",
       "...                              ...      ...     ...                ...   \n",
       "UAL8CA2TF_1564736825.0       1801518  message     NaN  1564736825.008200   \n",
       "U27HU84H4_1564737934.0       1801519  message     NaN  1564737934.008500   \n",
       "UAL8CA2TF_1564740792.0       1801521  message     NaN  1564740792.010000   \n",
       "U27HU84H4_1565806384.0       1801522  message     NaN  1565806384.043000   \n",
       "U27HU84H4_1565806563.0       1801524  message     NaN  1565806563.043400   \n",
       "\n",
       "                                 user  \\\n",
       "U0106VCFW81_1585131557.0  U0106VCFW81   \n",
       "U14DMFHJB_1585132173.0      U14DMFHJB   \n",
       "U04423D74_1585133439.0      U04423D74   \n",
       "U14DMFHJB_1585133523.0      U14DMFHJB   \n",
       "U0106VCFW81_1585133701.0  U0106VCFW81   \n",
       "...                               ...   \n",
       "UAL8CA2TF_1564736825.0      UAL8CA2TF   \n",
       "U27HU84H4_1564737934.0      U27HU84H4   \n",
       "UAL8CA2TF_1564740792.0      UAL8CA2TF   \n",
       "U27HU84H4_1565806384.0      U27HU84H4   \n",
       "U27HU84H4_1565806563.0      U27HU84H4   \n",
       "\n",
       "                                                                       text  \\\n",
       "U0106VCFW81_1585131557.0  Всем привет! Стоит такая задача, есть историия...   \n",
       "U14DMFHJB_1585132173.0    Это супер сложно, на самом деле, если в истори...   \n",
       "U04423D74_1585133439.0    можно попробовать регресси накрутить, не?\\nгря...   \n",
       "U14DMFHJB_1585133523.0    Регрессию построить можно, а вот верить, что о...   \n",
       "U0106VCFW81_1585133701.0                          Спасибо, за рекомендации!   \n",
       "...                                                                     ...   \n",
       "UAL8CA2TF_1564736825.0    <@U27HU84H4> ты 100% про латех много знаешь, к...   \n",
       "U27HU84H4_1564737934.0    Вот можешь попробовать:\\n* <https://github.com...   \n",
       "UAL8CA2TF_1564740792.0    выкачать её source (как правило *.tar.gz файл)...   \n",
       "U27HU84H4_1565806384.0    <https://www.youtube.com/watch?v=BeQoBxsu1gE> ...   \n",
       "U27HU84H4_1565806563.0    1) идея\\n2) репетиция\\n3) структура\\n4) вниман...   \n",
       "\n",
       "                                       channel old_name name  \\\n",
       "U0106VCFW81_1585131557.0             analytiсs      NaN  NaN   \n",
       "U14DMFHJB_1585132173.0               analytiсs      NaN  NaN   \n",
       "U04423D74_1585133439.0               analytiсs      NaN  NaN   \n",
       "U14DMFHJB_1585133523.0               analytiсs      NaN  NaN   \n",
       "U0106VCFW81_1585133701.0             analytiсs      NaN  NaN   \n",
       "...                                        ...      ...  ...   \n",
       "UAL8CA2TF_1564736825.0    writing_n_presenting      NaN  NaN   \n",
       "U27HU84H4_1564737934.0    writing_n_presenting      NaN  NaN   \n",
       "UAL8CA2TF_1564740792.0    writing_n_presenting      NaN  NaN   \n",
       "U27HU84H4_1565806384.0    writing_n_presenting      NaN  NaN   \n",
       "U27HU84H4_1565806563.0    writing_n_presenting      NaN  NaN   \n",
       "\n",
       "                                                                  reactions  \\\n",
       "U0106VCFW81_1585131557.0                                                NaN   \n",
       "U14DMFHJB_1585132173.0                                                  NaN   \n",
       "U04423D74_1585133439.0                                                  NaN   \n",
       "U14DMFHJB_1585133523.0    [{'name': 'heavy_plus_sign', 'users': ['U04423...   \n",
       "U0106VCFW81_1585133701.0                                                NaN   \n",
       "...                                                                     ...   \n",
       "UAL8CA2TF_1564736825.0                                                  NaN   \n",
       "U27HU84H4_1564737934.0    [{'name': 'tnx', 'users': ['UAL8CA2TF'], 'coun...   \n",
       "UAL8CA2TF_1564740792.0    [{'name': 'smekalka', 'users': ['U27HU84H4', '...   \n",
       "U27HU84H4_1565806384.0    [{'name': 'leonid', 'users': ['U09JEC7V0'], 'c...   \n",
       "U27HU84H4_1565806563.0    [{'name': 'tnx', 'users': ['U4ZRFG1V0', 'U9V48...   \n",
       "\n",
       "                          ... icons bot_link room no_notifications permalink  \\\n",
       "U0106VCFW81_1585131557.0  ...   NaN      NaN  NaN              NaN       NaN   \n",
       "U14DMFHJB_1585132173.0    ...   NaN      NaN  NaN              NaN       NaN   \n",
       "U04423D74_1585133439.0    ...   NaN      NaN  NaN              NaN       NaN   \n",
       "U14DMFHJB_1585133523.0    ...   NaN      NaN  NaN              NaN       NaN   \n",
       "U0106VCFW81_1585133701.0  ...   NaN      NaN  NaN              NaN       NaN   \n",
       "...                       ...   ...      ...  ...              ...       ...   \n",
       "UAL8CA2TF_1564736825.0    ...   NaN      NaN  NaN              NaN       NaN   \n",
       "U27HU84H4_1564737934.0    ...   NaN      NaN  NaN              NaN       NaN   \n",
       "UAL8CA2TF_1564740792.0    ...   NaN      NaN  NaN              NaN       NaN   \n",
       "U27HU84H4_1565806384.0    ...   NaN      NaN  NaN              NaN       NaN   \n",
       "U27HU84H4_1565806563.0    ...   NaN      NaN  NaN              NaN       NaN   \n",
       "\n",
       "                         bot_profile  text_len             user_old_id  \\\n",
       "U0106VCFW81_1585131557.0         NaN       260  U0106VCFW81_1585131557   \n",
       "U14DMFHJB_1585132173.0           NaN       101    U14DMFHJB_1585132173   \n",
       "U04423D74_1585133439.0           NaN       157    U04423D74_1585133439   \n",
       "U14DMFHJB_1585133523.0           NaN       378    U14DMFHJB_1585133523   \n",
       "U0106VCFW81_1585133701.0         NaN        25  U0106VCFW81_1585133701   \n",
       "...                              ...       ...                     ...   \n",
       "UAL8CA2TF_1564736825.0           NaN       241    UAL8CA2TF_1564736825   \n",
       "U27HU84H4_1564737934.0           NaN       563    U27HU84H4_1564737934   \n",
       "UAL8CA2TF_1564740792.0           NaN       152    UAL8CA2TF_1564740792   \n",
       "U27HU84H4_1565806384.0           NaN       221    U27HU84H4_1565806384   \n",
       "U27HU84H4_1565806563.0           NaN        80    U27HU84H4_1565806563   \n",
       "\n",
       "                                           new_ind          timestamp  \n",
       "U0106VCFW81_1585131557.0  U0106VCFW81_1585131557.0  1585131557.006000  \n",
       "U14DMFHJB_1585132173.0      U14DMFHJB_1585132173.0  1585132173.006100  \n",
       "U04423D74_1585133439.0      U04423D74_1585133439.0  1585133439.006300  \n",
       "U14DMFHJB_1585133523.0      U14DMFHJB_1585133523.0  1585133523.006500  \n",
       "U0106VCFW81_1585133701.0  U0106VCFW81_1585133701.0  1585133701.007000  \n",
       "...                                            ...                ...  \n",
       "UAL8CA2TF_1564736825.0      UAL8CA2TF_1564736825.0  1564736825.008200  \n",
       "U27HU84H4_1564737934.0      U27HU84H4_1564737934.0  1564737934.008500  \n",
       "UAL8CA2TF_1564740792.0      UAL8CA2TF_1564740792.0  1564740792.010000  \n",
       "U27HU84H4_1565806384.0      U27HU84H4_1565806384.0  1565806384.043000  \n",
       "U27HU84H4_1565806563.0      U27HU84H4_1565806563.0  1565806563.043400  \n",
       "\n",
       "[843890 rows x 55 columns]"
      ]
     },
     "execution_count": 44,
     "metadata": {},
     "output_type": "execute_result"
    }
   ],
   "source": [
    "data[]"
   ]
  },
  {
   "cell_type": "code",
   "execution_count": 46,
   "metadata": {},
   "outputs": [],
   "source": [
    "df_all = pd.merge(df, data[['timestamp', 'new_ind']], on='new_ind', how='left')"
   ]
  },
  {
   "cell_type": "code",
   "execution_count": 48,
   "metadata": {},
   "outputs": [
    {
     "data": {
      "text/html": [
       "<div>\n",
       "<style scoped>\n",
       "    .dataframe tbody tr th:only-of-type {\n",
       "        vertical-align: middle;\n",
       "    }\n",
       "\n",
       "    .dataframe tbody tr th {\n",
       "        vertical-align: top;\n",
       "    }\n",
       "\n",
       "    .dataframe thead th {\n",
       "        text-align: right;\n",
       "    }\n",
       "</style>\n",
       "<table border=\"1\" class=\"dataframe\">\n",
       "  <thead>\n",
       "    <tr style=\"text-align: right;\">\n",
       "      <th></th>\n",
       "      <th>new_ind</th>\n",
       "      <th>text</th>\n",
       "      <th>answer_count</th>\n",
       "      <th>answer_text</th>\n",
       "      <th>text_score</th>\n",
       "      <th>channel</th>\n",
       "      <th>text_len</th>\n",
       "      <th>timestamp</th>\n",
       "    </tr>\n",
       "  </thead>\n",
       "  <tbody>\n",
       "    <tr>\n",
       "      <th>0</th>\n",
       "      <td>U0106VCFW81_1585131557.0</td>\n",
       "      <td>Всем привет! Стоит такая задача, есть историия...</td>\n",
       "      <td>7</td>\n",
       "      <td>Регрессию построить можно, а вот верить, что о...</td>\n",
       "      <td>0</td>\n",
       "      <td>analytiсs</td>\n",
       "      <td>38</td>\n",
       "      <td>1585131557.006000</td>\n",
       "    </tr>\n",
       "    <tr>\n",
       "      <th>1</th>\n",
       "      <td>U17S9F6KV_1596184224.0</td>\n",
       "      <td>Привет! Такой вопрос. Мы хотим настроить алерт...</td>\n",
       "      <td>17</td>\n",
       "      <td>как вариант из посгреса передаете информацию в...</td>\n",
       "      <td>0</td>\n",
       "      <td>analytiсs</td>\n",
       "      <td>27</td>\n",
       "      <td>1596184224.325500</td>\n",
       "    </tr>\n",
       "    <tr>\n",
       "      <th>2</th>\n",
       "      <td>UFF1SJ30F_1595870327.0</td>\n",
       "      <td>Всем привет! А кто-нибудь автоматизировал созд...</td>\n",
       "      <td>8</td>\n",
       "      <td>&lt;@U1G303UTW&gt; обламывает копи-пастой заниматься...</td>\n",
       "      <td>0</td>\n",
       "      <td>analytiсs</td>\n",
       "      <td>43</td>\n",
       "      <td>1595870327.308000</td>\n",
       "    </tr>\n",
       "    <tr>\n",
       "      <th>3</th>\n",
       "      <td>U8DRB30SX_1597401814.0</td>\n",
       "      <td>Привет! Есть какие-нибудь материалы, статьи ил...</td>\n",
       "      <td>2</td>\n",
       "      <td>а что там делать. выбрал метрику и посчитал.\\n...</td>\n",
       "      <td>1</td>\n",
       "      <td>analytiсs</td>\n",
       "      <td>14</td>\n",
       "      <td>1597401814.433500</td>\n",
       "    </tr>\n",
       "    <tr>\n",
       "      <th>4</th>\n",
       "      <td>UR9M1T5KP_1589979868.0</td>\n",
       "      <td>Добрый день ,кто может подсказать пжл статьи,н...</td>\n",
       "      <td>10</td>\n",
       "      <td>много нулей - ну бывает, скошенное распределен...</td>\n",
       "      <td>0</td>\n",
       "      <td>analytiсs</td>\n",
       "      <td>33</td>\n",
       "      <td>1589979868.352600</td>\n",
       "    </tr>\n",
       "  </tbody>\n",
       "</table>\n",
       "</div>"
      ],
      "text/plain": [
       "                    new_ind  \\\n",
       "0  U0106VCFW81_1585131557.0   \n",
       "1    U17S9F6KV_1596184224.0   \n",
       "2    UFF1SJ30F_1595870327.0   \n",
       "3    U8DRB30SX_1597401814.0   \n",
       "4    UR9M1T5KP_1589979868.0   \n",
       "\n",
       "                                                text  answer_count  \\\n",
       "0  Всем привет! Стоит такая задача, есть историия...             7   \n",
       "1  Привет! Такой вопрос. Мы хотим настроить алерт...            17   \n",
       "2  Всем привет! А кто-нибудь автоматизировал созд...             8   \n",
       "3  Привет! Есть какие-нибудь материалы, статьи ил...             2   \n",
       "4  Добрый день ,кто может подсказать пжл статьи,н...            10   \n",
       "\n",
       "                                         answer_text  text_score    channel  \\\n",
       "0  Регрессию построить можно, а вот верить, что о...           0  analytiсs   \n",
       "1  как вариант из посгреса передаете информацию в...           0  analytiсs   \n",
       "2  <@U1G303UTW> обламывает копи-пастой заниматься...           0  analytiсs   \n",
       "3  а что там делать. выбрал метрику и посчитал.\\n...           1  analytiсs   \n",
       "4  много нулей - ну бывает, скошенное распределен...           0  analytiсs   \n",
       "\n",
       "   text_len          timestamp  \n",
       "0        38  1585131557.006000  \n",
       "1        27  1596184224.325500  \n",
       "2        43  1595870327.308000  \n",
       "3        14  1597401814.433500  \n",
       "4        33  1589979868.352600  "
      ]
     },
     "execution_count": 48,
     "metadata": {},
     "output_type": "execute_result"
    }
   ],
   "source": [
    "df_all.head()"
   ]
  },
  {
   "cell_type": "code",
   "execution_count": 49,
   "metadata": {},
   "outputs": [],
   "source": [
    "import pickle\n",
    "with open('./data/channels_names', 'rb') as ifile:\n",
    "    channels_names_dict = pickle.load(ifile)"
   ]
  },
  {
   "cell_type": "code",
   "execution_count": 52,
   "metadata": {},
   "outputs": [],
   "source": [
    "df_all['channel_slack_id'] = df_all['channel'].apply(lambda x: channels_names_dict[x])"
   ]
  },
  {
   "cell_type": "code",
   "execution_count": 60,
   "metadata": {},
   "outputs": [],
   "source": [
    "df_all.to_csv('./data/ods_new_base_v3.csv', index = False)"
   ]
  },
  {
   "cell_type": "code",
   "execution_count": 61,
   "metadata": {},
   "outputs": [
    {
     "data": {
      "text/html": [
       "<div>\n",
       "<style scoped>\n",
       "    .dataframe tbody tr th:only-of-type {\n",
       "        vertical-align: middle;\n",
       "    }\n",
       "\n",
       "    .dataframe tbody tr th {\n",
       "        vertical-align: top;\n",
       "    }\n",
       "\n",
       "    .dataframe thead th {\n",
       "        text-align: right;\n",
       "    }\n",
       "</style>\n",
       "<table border=\"1\" class=\"dataframe\">\n",
       "  <thead>\n",
       "    <tr style=\"text-align: right;\">\n",
       "      <th></th>\n",
       "      <th>new_ind</th>\n",
       "      <th>text</th>\n",
       "      <th>answer_count</th>\n",
       "      <th>answer_text</th>\n",
       "      <th>text_score</th>\n",
       "      <th>channel</th>\n",
       "      <th>text_len</th>\n",
       "      <th>timestamp</th>\n",
       "      <th>channel_slack_id</th>\n",
       "    </tr>\n",
       "  </thead>\n",
       "  <tbody>\n",
       "    <tr>\n",
       "      <th>0</th>\n",
       "      <td>U0106VCFW81_1585131557.0</td>\n",
       "      <td>Всем привет! Стоит такая задача, есть историия...</td>\n",
       "      <td>7</td>\n",
       "      <td>Регрессию построить можно, а вот верить, что о...</td>\n",
       "      <td>0</td>\n",
       "      <td>analytiсs</td>\n",
       "      <td>38</td>\n",
       "      <td>1585131557.006000</td>\n",
       "      <td>CUPGJB2GN</td>\n",
       "    </tr>\n",
       "    <tr>\n",
       "      <th>1</th>\n",
       "      <td>U17S9F6KV_1596184224.0</td>\n",
       "      <td>Привет! Такой вопрос. Мы хотим настроить алерт...</td>\n",
       "      <td>17</td>\n",
       "      <td>как вариант из посгреса передаете информацию в...</td>\n",
       "      <td>0</td>\n",
       "      <td>analytiсs</td>\n",
       "      <td>27</td>\n",
       "      <td>1596184224.325500</td>\n",
       "      <td>CUPGJB2GN</td>\n",
       "    </tr>\n",
       "    <tr>\n",
       "      <th>2</th>\n",
       "      <td>UFF1SJ30F_1595870327.0</td>\n",
       "      <td>Всем привет! А кто-нибудь автоматизировал созд...</td>\n",
       "      <td>8</td>\n",
       "      <td>&lt;@U1G303UTW&gt; обламывает копи-пастой заниматься...</td>\n",
       "      <td>0</td>\n",
       "      <td>analytiсs</td>\n",
       "      <td>43</td>\n",
       "      <td>1595870327.308000</td>\n",
       "      <td>CUPGJB2GN</td>\n",
       "    </tr>\n",
       "    <tr>\n",
       "      <th>3</th>\n",
       "      <td>U8DRB30SX_1597401814.0</td>\n",
       "      <td>Привет! Есть какие-нибудь материалы, статьи ил...</td>\n",
       "      <td>2</td>\n",
       "      <td>а что там делать. выбрал метрику и посчитал.\\n...</td>\n",
       "      <td>1</td>\n",
       "      <td>analytiсs</td>\n",
       "      <td>14</td>\n",
       "      <td>1597401814.433500</td>\n",
       "      <td>CUPGJB2GN</td>\n",
       "    </tr>\n",
       "    <tr>\n",
       "      <th>4</th>\n",
       "      <td>UR9M1T5KP_1589979868.0</td>\n",
       "      <td>Добрый день ,кто может подсказать пжл статьи,н...</td>\n",
       "      <td>10</td>\n",
       "      <td>много нулей - ну бывает, скошенное распределен...</td>\n",
       "      <td>0</td>\n",
       "      <td>analytiсs</td>\n",
       "      <td>33</td>\n",
       "      <td>1589979868.352600</td>\n",
       "      <td>CUPGJB2GN</td>\n",
       "    </tr>\n",
       "  </tbody>\n",
       "</table>\n",
       "</div>"
      ],
      "text/plain": [
       "                    new_ind  \\\n",
       "0  U0106VCFW81_1585131557.0   \n",
       "1    U17S9F6KV_1596184224.0   \n",
       "2    UFF1SJ30F_1595870327.0   \n",
       "3    U8DRB30SX_1597401814.0   \n",
       "4    UR9M1T5KP_1589979868.0   \n",
       "\n",
       "                                                text  answer_count  \\\n",
       "0  Всем привет! Стоит такая задача, есть историия...             7   \n",
       "1  Привет! Такой вопрос. Мы хотим настроить алерт...            17   \n",
       "2  Всем привет! А кто-нибудь автоматизировал созд...             8   \n",
       "3  Привет! Есть какие-нибудь материалы, статьи ил...             2   \n",
       "4  Добрый день ,кто может подсказать пжл статьи,н...            10   \n",
       "\n",
       "                                         answer_text  text_score    channel  \\\n",
       "0  Регрессию построить можно, а вот верить, что о...           0  analytiсs   \n",
       "1  как вариант из посгреса передаете информацию в...           0  analytiсs   \n",
       "2  <@U1G303UTW> обламывает копи-пастой заниматься...           0  analytiсs   \n",
       "3  а что там делать. выбрал метрику и посчитал.\\n...           1  analytiсs   \n",
       "4  много нулей - ну бывает, скошенное распределен...           0  analytiсs   \n",
       "\n",
       "   text_len          timestamp channel_slack_id  \n",
       "0        38  1585131557.006000        CUPGJB2GN  \n",
       "1        27  1596184224.325500        CUPGJB2GN  \n",
       "2        43  1595870327.308000        CUPGJB2GN  \n",
       "3        14  1597401814.433500        CUPGJB2GN  \n",
       "4        33  1589979868.352600        CUPGJB2GN  "
      ]
     },
     "execution_count": 61,
     "metadata": {},
     "output_type": "execute_result"
    }
   ],
   "source": [
    "df_all.head()"
   ]
  },
  {
   "cell_type": "code",
   "execution_count": 55,
   "metadata": {},
   "outputs": [
    {
     "data": {
      "text/plain": [
       "(77186, 9)"
      ]
     },
     "execution_count": 55,
     "metadata": {},
     "output_type": "execute_result"
    }
   ],
   "source": [
    "df_all.shape"
   ]
  },
  {
   "cell_type": "code",
   "execution_count": null,
   "metadata": {},
   "outputs": [],
   "source": []
  }
 ],
 "metadata": {
  "kernelspec": {
   "display_name": "Python 3",
   "language": "python",
   "name": "python3"
  },
  "language_info": {
   "codemirror_mode": {
    "name": "ipython",
    "version": 3
   },
   "file_extension": ".py",
   "mimetype": "text/x-python",
   "name": "python",
   "nbconvert_exporter": "python",
   "pygments_lexer": "ipython3",
   "version": "3.7.4"
  }
 },
 "nbformat": 4,
 "nbformat_minor": 4
}
