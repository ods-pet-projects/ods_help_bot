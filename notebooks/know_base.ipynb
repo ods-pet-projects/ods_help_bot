{
 "cells": [
  {
   "cell_type": "code",
   "execution_count": 2,
   "metadata": {},
   "outputs": [],
   "source": [
    "import pandas as pd\n",
    "import numpy as np\n",
    "from pathlib import Path\n",
    "import os\n",
    "from tqdm.notebook import tqdm\n",
    "import seaborn as sns\n",
    "import re "
   ]
  },
  {
   "cell_type": "code",
   "execution_count": 3,
   "metadata": {},
   "outputs": [],
   "source": [
    "if not os.getcwd().endswith('help_bot'):\n",
    "    os.chdir('/home/payonear/ods_help_bot')"
   ]
  },
  {
   "cell_type": "markdown",
   "metadata": {},
   "source": [
    "### Ideas:\n",
    "* filer channels\n",
    "* filer removed messages\n",
    "* filter subtype\n",
    "* filter trash (like only punctuations)\n",
    "* filter short texts\n",
    "* filter those with negative reactions"
   ]
  },
  {
   "cell_type": "code",
   "execution_count": 24,
   "metadata": {},
   "outputs": [
    {
     "data": {
      "text/html": [
       "<div>\n",
       "<style scoped>\n",
       "    .dataframe tbody tr th:only-of-type {\n",
       "        vertical-align: middle;\n",
       "    }\n",
       "\n",
       "    .dataframe tbody tr th {\n",
       "        vertical-align: top;\n",
       "    }\n",
       "\n",
       "    .dataframe thead th {\n",
       "        text-align: right;\n",
       "    }\n",
       "</style>\n",
       "<table border=\"1\" class=\"dataframe\">\n",
       "  <thead>\n",
       "    <tr style=\"text-align: right;\">\n",
       "      <th></th>\n",
       "      <th>Unnamed: 0</th>\n",
       "      <th>type</th>\n",
       "      <th>subtype</th>\n",
       "      <th>ts</th>\n",
       "      <th>user</th>\n",
       "      <th>text</th>\n",
       "      <th>channel</th>\n",
       "      <th>old_name</th>\n",
       "      <th>name</th>\n",
       "      <th>reactions</th>\n",
       "      <th>...</th>\n",
       "      <th>is_intro</th>\n",
       "      <th>x_files</th>\n",
       "      <th>username</th>\n",
       "      <th>icons</th>\n",
       "      <th>bot_link</th>\n",
       "      <th>room</th>\n",
       "      <th>no_notifications</th>\n",
       "      <th>permalink</th>\n",
       "      <th>bot_profile</th>\n",
       "      <th>text_len</th>\n",
       "    </tr>\n",
       "  </thead>\n",
       "  <tbody>\n",
       "    <tr>\n",
       "      <th>0</th>\n",
       "      <td>4</td>\n",
       "      <td>message</td>\n",
       "      <td>channel_name</td>\n",
       "      <td>1.534698e+09</td>\n",
       "      <td>U040HKJE7</td>\n",
       "      <td>&lt;@U040HKJE7&gt; has renamed the channel from \"_to...</td>\n",
       "      <td>___top_links</td>\n",
       "      <td>_top_links</td>\n",
       "      <td>___top_links</td>\n",
       "      <td>NaN</td>\n",
       "      <td>...</td>\n",
       "      <td>NaN</td>\n",
       "      <td>NaN</td>\n",
       "      <td>NaN</td>\n",
       "      <td>NaN</td>\n",
       "      <td>NaN</td>\n",
       "      <td>NaN</td>\n",
       "      <td>NaN</td>\n",
       "      <td>NaN</td>\n",
       "      <td>NaN</td>\n",
       "      <td>72</td>\n",
       "    </tr>\n",
       "    <tr>\n",
       "      <th>1</th>\n",
       "      <td>5</td>\n",
       "      <td>message</td>\n",
       "      <td>channel_archive</td>\n",
       "      <td>1.534698e+09</td>\n",
       "      <td>U040HKJE7</td>\n",
       "      <td>&lt;@U040HKJE7&gt; archived the channel</td>\n",
       "      <td>___top_links</td>\n",
       "      <td>NaN</td>\n",
       "      <td>NaN</td>\n",
       "      <td>NaN</td>\n",
       "      <td>...</td>\n",
       "      <td>NaN</td>\n",
       "      <td>NaN</td>\n",
       "      <td>NaN</td>\n",
       "      <td>NaN</td>\n",
       "      <td>NaN</td>\n",
       "      <td>NaN</td>\n",
       "      <td>NaN</td>\n",
       "      <td>NaN</td>\n",
       "      <td>NaN</td>\n",
       "      <td>33</td>\n",
       "    </tr>\n",
       "    <tr>\n",
       "      <th>2</th>\n",
       "      <td>9</td>\n",
       "      <td>message</td>\n",
       "      <td>channel_archive</td>\n",
       "      <td>1.476872e+09</td>\n",
       "      <td>U040HKJE7</td>\n",
       "      <td>&lt;@U040HKJE7&gt; archived the channel</td>\n",
       "      <td>_call_4_collaboratio</td>\n",
       "      <td>NaN</td>\n",
       "      <td>NaN</td>\n",
       "      <td>NaN</td>\n",
       "      <td>...</td>\n",
       "      <td>NaN</td>\n",
       "      <td>NaN</td>\n",
       "      <td>NaN</td>\n",
       "      <td>NaN</td>\n",
       "      <td>NaN</td>\n",
       "      <td>NaN</td>\n",
       "      <td>NaN</td>\n",
       "      <td>NaN</td>\n",
       "      <td>NaN</td>\n",
       "      <td>33</td>\n",
       "    </tr>\n",
       "  </tbody>\n",
       "</table>\n",
       "<p>3 rows × 52 columns</p>\n",
       "</div>"
      ],
      "text/plain": [
       "   Unnamed: 0     type          subtype            ts       user  \\\n",
       "0           4  message     channel_name  1.534698e+09  U040HKJE7   \n",
       "1           5  message  channel_archive  1.534698e+09  U040HKJE7   \n",
       "2           9  message  channel_archive  1.476872e+09  U040HKJE7   \n",
       "\n",
       "                                                text               channel  \\\n",
       "0  <@U040HKJE7> has renamed the channel from \"_to...          ___top_links   \n",
       "1                  <@U040HKJE7> archived the channel          ___top_links   \n",
       "2                  <@U040HKJE7> archived the channel  _call_4_collaboratio   \n",
       "\n",
       "     old_name          name reactions  ... is_intro x_files username icons  \\\n",
       "0  _top_links  ___top_links       NaN  ...      NaN     NaN      NaN   NaN   \n",
       "1         NaN           NaN       NaN  ...      NaN     NaN      NaN   NaN   \n",
       "2         NaN           NaN       NaN  ...      NaN     NaN      NaN   NaN   \n",
       "\n",
       "  bot_link room  no_notifications permalink bot_profile  text_len  \n",
       "0      NaN  NaN               NaN       NaN         NaN        72  \n",
       "1      NaN  NaN               NaN       NaN         NaN        33  \n",
       "2      NaN  NaN               NaN       NaN         NaN        33  \n",
       "\n",
       "[3 rows x 52 columns]"
      ]
     },
     "execution_count": 24,
     "metadata": {},
     "output_type": "execute_result"
    }
   ],
   "source": [
    "data = pd.read_csv('./data/ods_slack_all.csv', low_memory=False)\n",
    "data.head(3)"
   ]
  },
  {
   "cell_type": "code",
   "execution_count": 5,
   "metadata": {},
   "outputs": [
    {
     "data": {
      "text/plain": [
       "(1373439, 52)"
      ]
     },
     "execution_count": 5,
     "metadata": {},
     "output_type": "execute_result"
    }
   ],
   "source": [
    "data.shape"
   ]
  },
  {
   "cell_type": "code",
   "execution_count": 6,
   "metadata": {},
   "outputs": [
    {
     "data": {
      "text/plain": [
       "Index(['Unnamed: 0', 'type', 'subtype', 'ts', 'user', 'text', 'channel',\n",
       "       'old_name', 'name', 'reactions', 'client_msg_id', 'team', 'user_team',\n",
       "       'source_team', 'user_profile', 'blocks', 'thread_ts', 'parent_user_id',\n",
       "       'attachments', 'reply_count', 'reply_users_count', 'latest_reply',\n",
       "       'reply_users', 'replies', 'subscribed', 'edited', 'last_read', 'files',\n",
       "       'upload', 'display_as_bot', 'hidden', 'upload_reply_to', 'root',\n",
       "       'inviter', 'new_broadcast', 'topic', 'item_type', 'purpose', 'item',\n",
       "       'bot_id', 'file', 'comment', 'is_intro', 'x_files', 'username', 'icons',\n",
       "       'bot_link', 'room', 'no_notifications', 'permalink', 'bot_profile',\n",
       "       'text_len'],\n",
       "      dtype='object')"
      ]
     },
     "execution_count": 6,
     "metadata": {},
     "output_type": "execute_result"
    }
   ],
   "source": [
    "data.columns"
   ]
  },
  {
   "cell_type": "markdown",
   "metadata": {},
   "source": [
    "## Filter channels"
   ]
  },
  {
   "cell_type": "code",
   "execution_count": 25,
   "metadata": {},
   "outputs": [],
   "source": [
    "chan = [\n",
    "    '___top_links', 'analytiсs', 'analytiсs', 'article_essence', 'audio_and_speech','bayesian', 'big_data', 'bioinformatics' \\\n",
    "    'blockchain', 'bots', 'business', 'career', 'class_coursera_aml', 'class_cs224n', 'class_cs224w', 'class_cs231n', 'class_dl_cmu', \\\n",
    "    'class_dl_mipt', 'class_fast_ai', 'class_fastai', 'class_ium_2019','class_udacity_pytorch', 'cloud', 'conference', 'consulting',\\\n",
    "    'coronavirus', 'cv','data_fest', 'data_labeling', 'datasets', 'deep', 'deep_learning','deephack', 'dev_bot_test', 'devops', 'dlcourse_ai',\\\n",
    "    'ds_process', 'edu_academy', 'edu_books', 'edu_course_pgm', 'edu_courses','edu_dsclub_spb', 'edu_shad_exams', 'engineering-hiring', 'esports',\\\n",
    "    'fnbic_neural_networks', 'gan', 'gis', 'gnomiki', 'hardware', 'huawei_nlp_course', 'industrial_ds', 'interesting_links', 'interpretable_ml',\\\n",
    "    'kaggle_crackers', 'lang_cpp', 'lang_go', 'lang_javascript', 'lang_julia', 'lang_lua_torch', 'lang_python', 'lang_r', 'lang_rust', 'lang_scala',\\\n",
    "    'math', 'medicine', 'ml4sg', 'ml_pipeline', 'mlart', 'mlcourse_ai', 'mlcourse_ai_news', 'mlcourse_ai_rus', 'mlcourse_dubai', 'mlrepa', \\\n",
    "    'mltrainings_beginners', 'mltrainings_live', 'network_analysis','neuroscience', 'nlp', 'ods_code_review', 'ods_crowd', 'ods_datasets',\\\n",
    "    'ods_editors', 'ods_habr', 'ods_mentoring', 'ods_merch', 'ods_pet_projects', 'ods_platform', 'ods_podcast', 'ods_policy_prior','ods_resume_mastering',\\\n",
    "    'optimization','pr_jerk', 'proj_acm_recsys', 'proj_algo_alice', 'proj_benchr','proj_bytecup2018', 'proj_classic_ai', 'proj_comp_workshop',\\\n",
    "    'proj_covid', 'proj_dota2', 'proj_drivendata','proj_drivendata_chimp', 'proj_ds_bowl2018', 'proj_dsbowl_2017','proj_dsbowl_2019', 'proj_fakenewschalleng', \\\n",
    "    'proj_freesound_2019','proj_gensim', 'proj_geohack', 'proj_gold_miners','proj_home_credit', 'proj_idao_2019', 'proj_jet_raif2018','proj_kaggle_2sigma', \\\n",
    "    'proj_kaggle_abstraction_and_reasoning', 'proj_kaggle_airbus', 'proj_kaggle_alaska', 'proj_kaggle_avito', 'proj_kaggle_bengali_classification', \\\n",
    "    'proj_kaggle_birds', 'proj_kaggle_blindness', 'proj_kaggle_camera', 'proj_kaggle_cars','proj_kaggle_cdiscount', 'proj_kaggle_cervix','proj_kaggle_champs', \\\n",
    "    'proj_kaggle_covid_vaccine', 'proj_kaggle_deepfake', 'proj_kaggle_elo_merch', 'proj_kaggle_energy', 'proj_kaggle_fashion', 'proj_kaggle_fgvc6',\\\n",
    "    'proj_kaggle_fish', 'proj_kaggle_fraud', 'proj_kaggle_ga','proj_kaggle_gan', 'proj_kaggle_halite', 'proj_kaggle_hemorrhage','proj_kaggle_inclusive', \\\n",
    "    'proj_kaggle_inst_grat', 'proj_kaggle_instacart', 'proj_kaggle_ion', 'proj_kaggle_jigsaw','proj_kaggle_landmark', 'proj_kaggle_lanl', 'proj_kaggle_lyft',\\\n",
    "    'proj_kaggle_m5', 'proj_kaggle_mechanism_of_action', 'proj_kaggle_melanoma', 'proj_kaggle_nfl', 'proj_kaggle_openimage','proj_kaggle_petfinder', \\\n",
    "    'proj_kaggle_plasticc','proj_kaggle_pneumonia', 'proj_kaggle_pronoun','proj_kaggle_protein', 'proj_kaggle_quest_challenge','proj_kaggle_quickdraw', \\\n",
    "    'proj_kaggle_quora_qs','proj_kaggle_recruit', 'proj_kaggle_salt', 'proj_kaggle_santa','proj_kaggle_santander', 'proj_kaggle_severstal','proj_kaggle_speech',\\\n",
    "    'proj_kaggle_statoil','proj_kaggle_talkdata', 'proj_kaggle_tf2_question_ans','proj_kaggle_trackml', 'proj_kaggle_trends_neuroimaging',\\\n",
    "    'proj_kaggle_tweet_sent_extr', 'proj_kaggle_vsb_power','proj_kaggle_wheat_detection', 'proj_kekas', 'proj_mercari','proj_msft_malware', \\\n",
    "    'proj_nexar2', 'proj_nghack2019','proj_nips_autodl', 'proj_nips_causal', 'proj_nips_comp_19','proj_nips_comp_20', 'proj_nips_traffic', \\\n",
    "    'proj_ods_introspect', 'proj_poker', 'proj_procurement_shr', 'proj_prostate_cancer','proj_punch_to_face', 'proj_restrserve', 'proj_retailhero',\\\n",
    "    'proj_rosbank', 'proj_safe_driver', 'proj_sibur_challenge', 'proj_signate', 'proj_signate_cars', 'proj_snahackathon','proj_telecom_data_cup', \\\n",
    "    'proj_tinkoff', 'proj_topcoder','proj_waymo_challenges', 'proj_wildfire', 'proj_yt8m','proj_zillow', 'proj_zindi',  'pydata', 'quantum_computing',\\\n",
    "    'recommender_systems','reinforcement_learning', 'risk_modelling', 'rnn','satellite_imaging','security','self_driving', 'sequences_series',\\\n",
    "    'show_your_work', 'spark', 'stack_overflow', 'teal_practices_cases', 'theory_and_practice', 'trading', 'visualization','whateverhack', 'work',\\\n",
    "    'writing_n_presenting'\n",
    "] "
   ]
  },
  {
   "cell_type": "code",
   "execution_count": 26,
   "metadata": {},
   "outputs": [
    {
     "name": "stdout",
     "output_type": "stream",
     "text": [
      "Total channels: 348, removed: 124.\n"
     ]
    }
   ],
   "source": [
    "print(f'Total channels: {len(data.channel.unique())}, removed: {len(data.channel.unique()) - len(chan)}.')"
   ]
  },
  {
   "cell_type": "code",
   "execution_count": 27,
   "metadata": {},
   "outputs": [],
   "source": [
    "data = data[data['channel'].isin(chan)]"
   ]
  },
  {
   "cell_type": "code",
   "execution_count": 10,
   "metadata": {},
   "outputs": [
    {
     "data": {
      "text/plain": [
       "(875862, 52)"
      ]
     },
     "execution_count": 10,
     "metadata": {},
     "output_type": "execute_result"
    }
   ],
   "source": [
    "data.shape"
   ]
  },
  {
   "cell_type": "markdown",
   "metadata": {},
   "source": [
    "## Filter removed"
   ]
  },
  {
   "cell_type": "code",
   "execution_count": 28,
   "metadata": {},
   "outputs": [],
   "source": [
    "data = data[data['text']!='This message was deleted.']"
   ]
  },
  {
   "cell_type": "code",
   "execution_count": 29,
   "metadata": {},
   "outputs": [
    {
     "data": {
      "text/plain": [
       "(874655, 52)"
      ]
     },
     "execution_count": 29,
     "metadata": {},
     "output_type": "execute_result"
    }
   ],
   "source": [
    "data.shape"
   ]
  },
  {
   "cell_type": "markdown",
   "metadata": {},
   "source": [
    "## Filter subtype"
   ]
  },
  {
   "cell_type": "code",
   "execution_count": 11,
   "metadata": {},
   "outputs": [
    {
     "data": {
      "text/html": [
       "<div>\n",
       "<style scoped>\n",
       "    .dataframe tbody tr th:only-of-type {\n",
       "        vertical-align: middle;\n",
       "    }\n",
       "\n",
       "    .dataframe tbody tr th {\n",
       "        vertical-align: top;\n",
       "    }\n",
       "\n",
       "    .dataframe thead th {\n",
       "        text-align: right;\n",
       "    }\n",
       "</style>\n",
       "<table border=\"1\" class=\"dataframe\">\n",
       "  <thead>\n",
       "    <tr style=\"text-align: right;\">\n",
       "      <th></th>\n",
       "      <th>Unnamed: 0</th>\n",
       "      <th>type</th>\n",
       "      <th>subtype</th>\n",
       "      <th>ts</th>\n",
       "      <th>user</th>\n",
       "      <th>text</th>\n",
       "      <th>channel</th>\n",
       "      <th>old_name</th>\n",
       "      <th>name</th>\n",
       "      <th>reactions</th>\n",
       "      <th>...</th>\n",
       "      <th>is_intro</th>\n",
       "      <th>x_files</th>\n",
       "      <th>username</th>\n",
       "      <th>icons</th>\n",
       "      <th>bot_link</th>\n",
       "      <th>room</th>\n",
       "      <th>no_notifications</th>\n",
       "      <th>permalink</th>\n",
       "      <th>bot_profile</th>\n",
       "      <th>text_len</th>\n",
       "    </tr>\n",
       "  </thead>\n",
       "  <tbody>\n",
       "    <tr>\n",
       "      <th>0</th>\n",
       "      <td>4</td>\n",
       "      <td>message</td>\n",
       "      <td>channel_name</td>\n",
       "      <td>1.534698e+09</td>\n",
       "      <td>U040HKJE7</td>\n",
       "      <td>&lt;@U040HKJE7&gt; has renamed the channel from \"_to...</td>\n",
       "      <td>___top_links</td>\n",
       "      <td>_top_links</td>\n",
       "      <td>___top_links</td>\n",
       "      <td>NaN</td>\n",
       "      <td>...</td>\n",
       "      <td>NaN</td>\n",
       "      <td>NaN</td>\n",
       "      <td>NaN</td>\n",
       "      <td>NaN</td>\n",
       "      <td>NaN</td>\n",
       "      <td>NaN</td>\n",
       "      <td>NaN</td>\n",
       "      <td>NaN</td>\n",
       "      <td>NaN</td>\n",
       "      <td>72</td>\n",
       "    </tr>\n",
       "    <tr>\n",
       "      <th>1</th>\n",
       "      <td>5</td>\n",
       "      <td>message</td>\n",
       "      <td>channel_archive</td>\n",
       "      <td>1.534698e+09</td>\n",
       "      <td>U040HKJE7</td>\n",
       "      <td>&lt;@U040HKJE7&gt; archived the channel</td>\n",
       "      <td>___top_links</td>\n",
       "      <td>NaN</td>\n",
       "      <td>NaN</td>\n",
       "      <td>NaN</td>\n",
       "      <td>...</td>\n",
       "      <td>NaN</td>\n",
       "      <td>NaN</td>\n",
       "      <td>NaN</td>\n",
       "      <td>NaN</td>\n",
       "      <td>NaN</td>\n",
       "      <td>NaN</td>\n",
       "      <td>NaN</td>\n",
       "      <td>NaN</td>\n",
       "      <td>NaN</td>\n",
       "      <td>33</td>\n",
       "    </tr>\n",
       "    <tr>\n",
       "      <th>430669</th>\n",
       "      <td>639944</td>\n",
       "      <td>message</td>\n",
       "      <td>NaN</td>\n",
       "      <td>1.585149e+09</td>\n",
       "      <td>UDD345XLG</td>\n",
       "      <td>Исследователи из Стэнфорда обнаружили, что сам...</td>\n",
       "      <td>ai_ethics</td>\n",
       "      <td>NaN</td>\n",
       "      <td>NaN</td>\n",
       "      <td>[{'name': 'notbad', 'users': ['UC9HBTUKG', 'UF...</td>\n",
       "      <td>...</td>\n",
       "      <td>NaN</td>\n",
       "      <td>NaN</td>\n",
       "      <td>NaN</td>\n",
       "      <td>NaN</td>\n",
       "      <td>NaN</td>\n",
       "      <td>NaN</td>\n",
       "      <td>NaN</td>\n",
       "      <td>NaN</td>\n",
       "      <td>NaN</td>\n",
       "      <td>371</td>\n",
       "    </tr>\n",
       "  </tbody>\n",
       "</table>\n",
       "<p>3 rows × 52 columns</p>\n",
       "</div>"
      ],
      "text/plain": [
       "        Unnamed: 0     type          subtype            ts       user  \\\n",
       "0                4  message     channel_name  1.534698e+09  U040HKJE7   \n",
       "1                5  message  channel_archive  1.534698e+09  U040HKJE7   \n",
       "430669      639944  message              NaN  1.585149e+09  UDD345XLG   \n",
       "\n",
       "                                                     text       channel  \\\n",
       "0       <@U040HKJE7> has renamed the channel from \"_to...  ___top_links   \n",
       "1                       <@U040HKJE7> archived the channel  ___top_links   \n",
       "430669  Исследователи из Стэнфорда обнаружили, что сам...     ai_ethics   \n",
       "\n",
       "          old_name          name  \\\n",
       "0       _top_links  ___top_links   \n",
       "1              NaN           NaN   \n",
       "430669         NaN           NaN   \n",
       "\n",
       "                                                reactions  ... is_intro  \\\n",
       "0                                                     NaN  ...      NaN   \n",
       "1                                                     NaN  ...      NaN   \n",
       "430669  [{'name': 'notbad', 'users': ['UC9HBTUKG', 'UF...  ...      NaN   \n",
       "\n",
       "       x_files username icons bot_link room  no_notifications permalink  \\\n",
       "0          NaN      NaN   NaN      NaN  NaN               NaN       NaN   \n",
       "1          NaN      NaN   NaN      NaN  NaN               NaN       NaN   \n",
       "430669     NaN      NaN   NaN      NaN  NaN               NaN       NaN   \n",
       "\n",
       "       bot_profile  text_len  \n",
       "0              NaN        72  \n",
       "1              NaN        33  \n",
       "430669         NaN       371  \n",
       "\n",
       "[3 rows x 52 columns]"
      ]
     },
     "execution_count": 11,
     "metadata": {},
     "output_type": "execute_result"
    }
   ],
   "source": [
    "data.head(3)"
   ]
  },
  {
   "cell_type": "code",
   "execution_count": 30,
   "metadata": {},
   "outputs": [
    {
     "data": {
      "text/plain": [
       "array(['channel_name', 'channel_archive', nan, 'channel_purpose',\n",
       "       'thread_broadcast', 'channel_topic', 'file_comment', 'pinned_item',\n",
       "       'channel_leave', 'bot_add', 'bot_remove', 'bot_message',\n",
       "       'sh_room_created', 'reminder_add', 'app_conversation_leave',\n",
       "       'channel_unarchive', 'me_message', 'tombstone'], dtype=object)"
      ]
     },
     "execution_count": 30,
     "metadata": {},
     "output_type": "execute_result"
    }
   ],
   "source": [
    "data.subtype.unique()"
   ]
  },
  {
   "cell_type": "code",
   "execution_count": 31,
   "metadata": {},
   "outputs": [],
   "source": [
    "stype = ['channel_name', 'channel_archive', 'channel_topic', 'channel_purpose', 'file_comment', 'pinned_item',\n",
    "       'channel_leave', 'bot_add', 'bot_remove', 'bot_message', 'sh_room_created', 'reminder_add', 'app_conversation_leave',\n",
    "       'channel_unarchive', 'me_message']"
   ]
  },
  {
   "cell_type": "code",
   "execution_count": 32,
   "metadata": {},
   "outputs": [],
   "source": [
    "data = data[~data['subtype'].isin(stype)]"
   ]
  },
  {
   "cell_type": "code",
   "execution_count": 33,
   "metadata": {},
   "outputs": [
    {
     "data": {
      "text/plain": [
       "(844304, 52)"
      ]
     },
     "execution_count": 33,
     "metadata": {},
     "output_type": "execute_result"
    }
   ],
   "source": [
    "data.shape"
   ]
  },
  {
   "cell_type": "markdown",
   "metadata": {},
   "source": [
    "## Filter out short channels"
   ]
  },
  {
   "cell_type": "code",
   "execution_count": 22,
   "metadata": {},
   "outputs": [],
   "source": [
    "# data.channel.value_counts(ascending=True)"
   ]
  },
  {
   "cell_type": "code",
   "execution_count": 34,
   "metadata": {
    "jupyter": {
     "source_hidden": true
    }
   },
   "outputs": [],
   "source": [
    "chan = ['stack_overflow',\n",
    "'mlrepa',\n",
    "'dev_bot_test',\n",
    "'proj_nips_autodl',\n",
    "'proj_nips_traffic',\n",
    "'ods_datasets',\n",
    "'proj_nips_comp_20',\n",
    "'proj_kaggle_halite',\n",
    "'proj_kaggle_covid_vaccine',\n",
    "'data_labeling',\n",
    "'esports',\n",
    "'mlart',\n",
    "'fnbic_neural_networks',\n",
    "'class_ium_2019',\n",
    "'ods_podcast',\n",
    "'ods_editors',\n",
    "'class_dl_mipt',\n",
    "'proj_idao_2019',\n",
    "'proj_snahackathon',\n",
    "'lang_rust',\n",
    "'whateverhack',\n",
    "'proj_jet_raif2018',\n",
    "'proj_bytecup2018',\n",
    "'proj_acm_recsys',\n",
    "'proj_sibur_challenge',\n",
    "'proj_signate']"
   ]
  },
  {
   "cell_type": "code",
   "execution_count": 35,
   "metadata": {},
   "outputs": [
    {
     "data": {
      "text/plain": [
       "(843890, 52)"
      ]
     },
     "execution_count": 35,
     "metadata": {},
     "output_type": "execute_result"
    }
   ],
   "source": [
    "data = data[~data['channel'].isin(chan)]\n",
    "data.shape"
   ]
  },
  {
   "cell_type": "markdown",
   "metadata": {},
   "source": [
    "## Merge questions and answers"
   ]
  },
  {
   "cell_type": "code",
   "execution_count": 36,
   "metadata": {},
   "outputs": [],
   "source": [
    "data.index = data['user'] + '_' + data['ts'].round(0).astype(str)\n",
    "data['new_ind'] = data.index"
   ]
  },
  {
   "cell_type": "code",
   "execution_count": 17,
   "metadata": {},
   "outputs": [
    {
     "data": {
      "text/html": [
       "<div>\n",
       "<style scoped>\n",
       "    .dataframe tbody tr th:only-of-type {\n",
       "        vertical-align: middle;\n",
       "    }\n",
       "\n",
       "    .dataframe tbody tr th {\n",
       "        vertical-align: top;\n",
       "    }\n",
       "\n",
       "    .dataframe thead th {\n",
       "        text-align: right;\n",
       "    }\n",
       "</style>\n",
       "<table border=\"1\" class=\"dataframe\">\n",
       "  <thead>\n",
       "    <tr style=\"text-align: right;\">\n",
       "      <th></th>\n",
       "      <th>Unnamed: 0</th>\n",
       "      <th>type</th>\n",
       "      <th>subtype</th>\n",
       "      <th>ts</th>\n",
       "      <th>user</th>\n",
       "      <th>text</th>\n",
       "      <th>channel</th>\n",
       "      <th>old_name</th>\n",
       "      <th>name</th>\n",
       "      <th>reactions</th>\n",
       "      <th>...</th>\n",
       "      <th>x_files</th>\n",
       "      <th>username</th>\n",
       "      <th>icons</th>\n",
       "      <th>bot_link</th>\n",
       "      <th>room</th>\n",
       "      <th>no_notifications</th>\n",
       "      <th>permalink</th>\n",
       "      <th>bot_profile</th>\n",
       "      <th>text_len</th>\n",
       "      <th>new_ind</th>\n",
       "    </tr>\n",
       "  </thead>\n",
       "  <tbody>\n",
       "    <tr>\n",
       "      <th>UDD345XLG_1585149097.0</th>\n",
       "      <td>639944</td>\n",
       "      <td>message</td>\n",
       "      <td>NaN</td>\n",
       "      <td>1.585149e+09</td>\n",
       "      <td>UDD345XLG</td>\n",
       "      <td>Исследователи из Стэнфорда обнаружили, что сам...</td>\n",
       "      <td>ai_ethics</td>\n",
       "      <td>NaN</td>\n",
       "      <td>NaN</td>\n",
       "      <td>[{'name': 'notbad', 'users': ['UC9HBTUKG', 'UF...</td>\n",
       "      <td>...</td>\n",
       "      <td>NaN</td>\n",
       "      <td>NaN</td>\n",
       "      <td>NaN</td>\n",
       "      <td>NaN</td>\n",
       "      <td>NaN</td>\n",
       "      <td>NaN</td>\n",
       "      <td>NaN</td>\n",
       "      <td>NaN</td>\n",
       "      <td>371</td>\n",
       "      <td>UDD345XLG_1585149097.0</td>\n",
       "    </tr>\n",
       "    <tr>\n",
       "      <th>U4Z9Q18QH_1585149345.0</th>\n",
       "      <td>639945</td>\n",
       "      <td>message</td>\n",
       "      <td>NaN</td>\n",
       "      <td>1.585149e+09</td>\n",
       "      <td>U4Z9Q18QH</td>\n",
       "      <td>а поправку на уровень образования делали? Увер...</td>\n",
       "      <td>ai_ethics</td>\n",
       "      <td>NaN</td>\n",
       "      <td>NaN</td>\n",
       "      <td>[{'name': 'kekeke', 'users': ['UDD345XLG'], 'c...</td>\n",
       "      <td>...</td>\n",
       "      <td>NaN</td>\n",
       "      <td>NaN</td>\n",
       "      <td>NaN</td>\n",
       "      <td>NaN</td>\n",
       "      <td>NaN</td>\n",
       "      <td>NaN</td>\n",
       "      <td>NaN</td>\n",
       "      <td>NaN</td>\n",
       "      <td>95</td>\n",
       "      <td>U4Z9Q18QH_1585149345.0</td>\n",
       "    </tr>\n",
       "    <tr>\n",
       "      <th>U34Q3KU8H_1585152153.0</th>\n",
       "      <td>639946</td>\n",
       "      <td>message</td>\n",
       "      <td>NaN</td>\n",
       "      <td>1.585152e+09</td>\n",
       "      <td>U34Q3KU8H</td>\n",
       "      <td>Я их тоже хуже понимаю. Многие говорят, как бу...</td>\n",
       "      <td>ai_ethics</td>\n",
       "      <td>NaN</td>\n",
       "      <td>NaN</td>\n",
       "      <td>[{'name': 'povar', 'users': ['U049HDR2Z'], 'co...</td>\n",
       "      <td>...</td>\n",
       "      <td>NaN</td>\n",
       "      <td>NaN</td>\n",
       "      <td>NaN</td>\n",
       "      <td>NaN</td>\n",
       "      <td>NaN</td>\n",
       "      <td>NaN</td>\n",
       "      <td>NaN</td>\n",
       "      <td>NaN</td>\n",
       "      <td>67</td>\n",
       "      <td>U34Q3KU8H_1585152153.0</td>\n",
       "    </tr>\n",
       "    <tr>\n",
       "      <th>U6QBC2ERG_1585159901.0</th>\n",
       "      <td>639947</td>\n",
       "      <td>message</td>\n",
       "      <td>NaN</td>\n",
       "      <td>1.585160e+09</td>\n",
       "      <td>U6QBC2ERG</td>\n",
       "      <td>KL в действии, чему тут удивляться. Есть мнени...</td>\n",
       "      <td>ai_ethics</td>\n",
       "      <td>NaN</td>\n",
       "      <td>NaN</td>\n",
       "      <td>NaN</td>\n",
       "      <td>...</td>\n",
       "      <td>NaN</td>\n",
       "      <td>NaN</td>\n",
       "      <td>NaN</td>\n",
       "      <td>NaN</td>\n",
       "      <td>NaN</td>\n",
       "      <td>NaN</td>\n",
       "      <td>NaN</td>\n",
       "      <td>NaN</td>\n",
       "      <td>511</td>\n",
       "      <td>U6QBC2ERG_1585159901.0</td>\n",
       "    </tr>\n",
       "    <tr>\n",
       "      <th>U06J1LG1M_1568636690.0</th>\n",
       "      <td>639948</td>\n",
       "      <td>message</td>\n",
       "      <td>NaN</td>\n",
       "      <td>1.568637e+09</td>\n",
       "      <td>U06J1LG1M</td>\n",
       "      <td>кароче, эксперты в эйай этике, меня тут позвал...</td>\n",
       "      <td>ai_ethics</td>\n",
       "      <td>NaN</td>\n",
       "      <td>NaN</td>\n",
       "      <td>[{'name': 'tati', 'users': ['U09JEC7V0', 'UFM7...</td>\n",
       "      <td>...</td>\n",
       "      <td>NaN</td>\n",
       "      <td>NaN</td>\n",
       "      <td>NaN</td>\n",
       "      <td>NaN</td>\n",
       "      <td>NaN</td>\n",
       "      <td>NaN</td>\n",
       "      <td>NaN</td>\n",
       "      <td>NaN</td>\n",
       "      <td>473</td>\n",
       "      <td>U06J1LG1M_1568636690.0</td>\n",
       "    </tr>\n",
       "  </tbody>\n",
       "</table>\n",
       "<p>5 rows × 53 columns</p>\n",
       "</div>"
      ],
      "text/plain": [
       "                        Unnamed: 0     type subtype            ts       user  \\\n",
       "UDD345XLG_1585149097.0      639944  message     NaN  1.585149e+09  UDD345XLG   \n",
       "U4Z9Q18QH_1585149345.0      639945  message     NaN  1.585149e+09  U4Z9Q18QH   \n",
       "U34Q3KU8H_1585152153.0      639946  message     NaN  1.585152e+09  U34Q3KU8H   \n",
       "U6QBC2ERG_1585159901.0      639947  message     NaN  1.585160e+09  U6QBC2ERG   \n",
       "U06J1LG1M_1568636690.0      639948  message     NaN  1.568637e+09  U06J1LG1M   \n",
       "\n",
       "                                                                     text  \\\n",
       "UDD345XLG_1585149097.0  Исследователи из Стэнфорда обнаружили, что сам...   \n",
       "U4Z9Q18QH_1585149345.0  а поправку на уровень образования делали? Увер...   \n",
       "U34Q3KU8H_1585152153.0  Я их тоже хуже понимаю. Многие говорят, как бу...   \n",
       "U6QBC2ERG_1585159901.0  KL в действии, чему тут удивляться. Есть мнени...   \n",
       "U06J1LG1M_1568636690.0  кароче, эксперты в эйай этике, меня тут позвал...   \n",
       "\n",
       "                          channel old_name name  \\\n",
       "UDD345XLG_1585149097.0  ai_ethics      NaN  NaN   \n",
       "U4Z9Q18QH_1585149345.0  ai_ethics      NaN  NaN   \n",
       "U34Q3KU8H_1585152153.0  ai_ethics      NaN  NaN   \n",
       "U6QBC2ERG_1585159901.0  ai_ethics      NaN  NaN   \n",
       "U06J1LG1M_1568636690.0  ai_ethics      NaN  NaN   \n",
       "\n",
       "                                                                reactions  \\\n",
       "UDD345XLG_1585149097.0  [{'name': 'notbad', 'users': ['UC9HBTUKG', 'UF...   \n",
       "U4Z9Q18QH_1585149345.0  [{'name': 'kekeke', 'users': ['UDD345XLG'], 'c...   \n",
       "U34Q3KU8H_1585152153.0  [{'name': 'povar', 'users': ['U049HDR2Z'], 'co...   \n",
       "U6QBC2ERG_1585159901.0                                                NaN   \n",
       "U06J1LG1M_1568636690.0  [{'name': 'tati', 'users': ['U09JEC7V0', 'UFM7...   \n",
       "\n",
       "                        ... x_files username icons bot_link room  \\\n",
       "UDD345XLG_1585149097.0  ...     NaN      NaN   NaN      NaN  NaN   \n",
       "U4Z9Q18QH_1585149345.0  ...     NaN      NaN   NaN      NaN  NaN   \n",
       "U34Q3KU8H_1585152153.0  ...     NaN      NaN   NaN      NaN  NaN   \n",
       "U6QBC2ERG_1585159901.0  ...     NaN      NaN   NaN      NaN  NaN   \n",
       "U06J1LG1M_1568636690.0  ...     NaN      NaN   NaN      NaN  NaN   \n",
       "\n",
       "                       no_notifications  permalink bot_profile text_len  \\\n",
       "UDD345XLG_1585149097.0              NaN        NaN         NaN      371   \n",
       "U4Z9Q18QH_1585149345.0              NaN        NaN         NaN       95   \n",
       "U34Q3KU8H_1585152153.0              NaN        NaN         NaN       67   \n",
       "U6QBC2ERG_1585159901.0              NaN        NaN         NaN      511   \n",
       "U06J1LG1M_1568636690.0              NaN        NaN         NaN      473   \n",
       "\n",
       "                                       new_ind  \n",
       "UDD345XLG_1585149097.0  UDD345XLG_1585149097.0  \n",
       "U4Z9Q18QH_1585149345.0  U4Z9Q18QH_1585149345.0  \n",
       "U34Q3KU8H_1585152153.0  U34Q3KU8H_1585152153.0  \n",
       "U6QBC2ERG_1585159901.0  U6QBC2ERG_1585159901.0  \n",
       "U06J1LG1M_1568636690.0  U06J1LG1M_1568636690.0  \n",
       "\n",
       "[5 rows x 53 columns]"
      ]
     },
     "execution_count": 17,
     "metadata": {},
     "output_type": "execute_result"
    }
   ],
   "source": [
    "data.head()"
   ]
  },
  {
   "cell_type": "code",
   "execution_count": 37,
   "metadata": {},
   "outputs": [],
   "source": [
    "text_dict = {x:y for x,y in zip(data.index, data.text)}"
   ]
  },
  {
   "cell_type": "code",
   "execution_count": 38,
   "metadata": {},
   "outputs": [
    {
     "data": {
      "application/vnd.jupyter.widget-view+json": {
       "model_id": "b466010e1ad84a92aa21998f69bdbb57",
       "version_major": 2,
       "version_minor": 0
      },
      "text/plain": [
       "HBox(children=(FloatProgress(value=1.0, bar_style='info', layout=Layout(width='20px'), max=1.0), HTML(value=''…"
      ]
     },
     "metadata": {},
     "output_type": "display_data"
    },
    {
     "name": "stdout",
     "output_type": "stream",
     "text": [
      "\n"
     ]
    }
   ],
   "source": [
    "def get_pos_score(reactions):\n",
    "    positive_reactions = {\n",
    "        'heavy_plus_sign',\n",
    "        '+1',\n",
    "        'tnx',\n",
    "        'omgtnx',\n",
    "        'muscle',\n",
    "        'fireball',\n",
    "        'shaka',\n",
    "        'fire',\n",
    "        'heart'\n",
    "    }\n",
    "    total_pos_score = 0\n",
    "    for reaction in reactions:\n",
    "        if reaction['name'] in positive_reactions:\n",
    "            total_pos_score += reaction['count']\n",
    "    return total_pos_score\n",
    "\n",
    "\n",
    "pos_score_dict = {}\n",
    "for row_ind, row in tqdm(data['reactions'].dropna().iteritems()):\n",
    "    pos_score = get_pos_score(eval(row))\n",
    "    pos_score_dict[row_ind] = pos_score"
   ]
  },
  {
   "cell_type": "code",
   "execution_count": 115,
   "metadata": {},
   "outputs": [],
   "source": [
    "def append_to_dict(d:dict, \n",
    "                   new_ind, \n",
    "                   text,\n",
    "                   answer_count,\n",
    "                   answer_text, \n",
    "                   text_score, \n",
    "                   channel):\n",
    "    \n",
    "    d['new_ind'].append(new_ind)\n",
    "    d['text'].append(text)\n",
    "    d['answer_count'].append(answer_count)\n",
    "    d['answer_text'].append(answer_text)\n",
    "    d['text_score'].append(text_score)\n",
    "    d['channel'].append(channel)"
   ]
  },
  {
   "cell_type": "code",
   "execution_count": 116,
   "metadata": {},
   "outputs": [
    {
     "data": {
      "application/vnd.jupyter.widget-view+json": {
       "model_id": "c40997bb0938475f912bff143a34cd9e",
       "version_major": 2,
       "version_minor": 0
      },
      "text/plain": [
       "HBox(children=(FloatProgress(value=1.0, bar_style='info', layout=Layout(width='20px'), max=1.0), HTML(value=''…"
      ]
     },
     "metadata": {},
     "output_type": "display_data"
    },
    {
     "name": "stdout",
     "output_type": "stream",
     "text": [
      "\n"
     ]
    }
   ],
   "source": [
    "replies_base = []\n",
    "fail_count = 0\n",
    "success_count = 0\n",
    "for row_id, row in tqdm(data[~data['replies'].isnull()].iterrows()):\n",
    "    try:\n",
    "        replies = eval(row['replies'])\n",
    "        success_count += 1\n",
    "    except:\n",
    "        fail_count += 1\n",
    "    \n",
    "    for reply in replies:\n",
    "        new_ind = f'{reply[\"user\"]}_{round(float(reply[\"ts\"]), 0)}'\n",
    "        replies_base.append(new_ind)"
   ]
  },
  {
   "cell_type": "code",
   "execution_count": 117,
   "metadata": {},
   "outputs": [
    {
     "data": {
      "text/plain": [
       "625528"
      ]
     },
     "execution_count": 117,
     "metadata": {},
     "output_type": "execute_result"
    }
   ],
   "source": [
    "len(replies_base)"
   ]
  },
  {
   "cell_type": "code",
   "execution_count": 130,
   "metadata": {},
   "outputs": [
    {
     "data": {
      "application/vnd.jupyter.widget-view+json": {
       "model_id": "03f9adb155f249c5996ed94e7d83bb3e",
       "version_major": 2,
       "version_minor": 0
      },
      "text/plain": [
       "HBox(children=(FloatProgress(value=1.0, bar_style='info', layout=Layout(width='20px'), max=1.0), HTML(value=''…"
      ]
     },
     "metadata": {},
     "output_type": "display_data"
    },
    {
     "name": "stdout",
     "output_type": "stream",
     "text": [
      "\n"
     ]
    },
    {
     "data": {
      "text/html": [
       "<div>\n",
       "<style scoped>\n",
       "    .dataframe tbody tr th:only-of-type {\n",
       "        vertical-align: middle;\n",
       "    }\n",
       "\n",
       "    .dataframe tbody tr th {\n",
       "        vertical-align: top;\n",
       "    }\n",
       "\n",
       "    .dataframe thead th {\n",
       "        text-align: right;\n",
       "    }\n",
       "</style>\n",
       "<table border=\"1\" class=\"dataframe\">\n",
       "  <thead>\n",
       "    <tr style=\"text-align: right;\">\n",
       "      <th></th>\n",
       "      <th>new_ind</th>\n",
       "      <th>text</th>\n",
       "      <th>answer_count</th>\n",
       "      <th>answer_text</th>\n",
       "      <th>text_score</th>\n",
       "      <th>channel</th>\n",
       "    </tr>\n",
       "  </thead>\n",
       "  <tbody>\n",
       "    <tr>\n",
       "      <th>0</th>\n",
       "      <td>U0106VCFW81_1585131557.0</td>\n",
       "      <td>Всем привет! Стоит такая задача, есть историия...</td>\n",
       "      <td>7</td>\n",
       "      <td>Регрессию построить можно, а вот верить, что о...</td>\n",
       "      <td>0</td>\n",
       "      <td>analytiсs</td>\n",
       "    </tr>\n",
       "    <tr>\n",
       "      <th>1</th>\n",
       "      <td>U17S9F6KV_1596184224.0</td>\n",
       "      <td>Привет! Такой вопрос. Мы хотим настроить алерт...</td>\n",
       "      <td>17</td>\n",
       "      <td>как вариант из посгреса передаете информацию в...</td>\n",
       "      <td>0</td>\n",
       "      <td>analytiсs</td>\n",
       "    </tr>\n",
       "    <tr>\n",
       "      <th>2</th>\n",
       "      <td>UFF1SJ30F_1595870327.0</td>\n",
       "      <td>Всем привет! А кто-нибудь автоматизировал созд...</td>\n",
       "      <td>8</td>\n",
       "      <td>&lt;@U1G303UTW&gt; обламывает копи-пастой заниматься...</td>\n",
       "      <td>0</td>\n",
       "      <td>analytiсs</td>\n",
       "    </tr>\n",
       "    <tr>\n",
       "      <th>3</th>\n",
       "      <td>U8DRB30SX_1597401814.0</td>\n",
       "      <td>Привет! Есть какие-нибудь материалы, статьи ил...</td>\n",
       "      <td>2</td>\n",
       "      <td>а что там делать. выбрал метрику и посчитал.\\n...</td>\n",
       "      <td>1</td>\n",
       "      <td>analytiсs</td>\n",
       "    </tr>\n",
       "    <tr>\n",
       "      <th>4</th>\n",
       "      <td>UR9M1T5KP_1589979868.0</td>\n",
       "      <td>Добрый день ,кто может подсказать пжл статьи,н...</td>\n",
       "      <td>10</td>\n",
       "      <td>много нулей - ну бывает, скошенное распределен...</td>\n",
       "      <td>0</td>\n",
       "      <td>analytiсs</td>\n",
       "    </tr>\n",
       "  </tbody>\n",
       "</table>\n",
       "</div>"
      ],
      "text/plain": [
       "                    new_ind  \\\n",
       "0  U0106VCFW81_1585131557.0   \n",
       "1    U17S9F6KV_1596184224.0   \n",
       "2    UFF1SJ30F_1595870327.0   \n",
       "3    U8DRB30SX_1597401814.0   \n",
       "4    UR9M1T5KP_1589979868.0   \n",
       "\n",
       "                                                text  answer_count  \\\n",
       "0  Всем привет! Стоит такая задача, есть историия...             7   \n",
       "1  Привет! Такой вопрос. Мы хотим настроить алерт...            17   \n",
       "2  Всем привет! А кто-нибудь автоматизировал созд...             8   \n",
       "3  Привет! Есть какие-нибудь материалы, статьи ил...             2   \n",
       "4  Добрый день ,кто может подсказать пжл статьи,н...            10   \n",
       "\n",
       "                                         answer_text  text_score    channel  \n",
       "0  Регрессию построить можно, а вот верить, что о...           0  analytiсs  \n",
       "1  как вариант из посгреса передаете информацию в...           0  analytiсs  \n",
       "2  <@U1G303UTW> обламывает копи-пастой заниматься...           0  analytiсs  \n",
       "3  а что там делать. выбрал метрику и посчитал.\\n...           1  analytiсs  \n",
       "4  много нулей - ну бывает, скошенное распределен...           0  analytiсs  "
      ]
     },
     "execution_count": 130,
     "metadata": {},
     "output_type": "execute_result"
    }
   ],
   "source": [
    "from collections import defaultdict\n",
    "df_dict = {\n",
    "    'new_ind':[],\n",
    "    'text': [],\n",
    "    'answer_count': [],\n",
    "    'answer_text': [],\n",
    "    'text_score': [],\n",
    "    'channel': []\n",
    "              }\n",
    "\n",
    "fail_count = 0\n",
    "success_count = 0\n",
    "all_index = set(data.index)\n",
    "replies_dict = defaultdict(list)\n",
    "for row_id, row in tqdm(data[~data.index.isin(replies_base)].iterrows()):\n",
    "    text_score = pos_score_dict.get(row_id,0)\n",
    "    try:\n",
    "        replies = eval(row['replies'])\n",
    "        ans_count = len(replies)\n",
    "    except:\n",
    "        append_to_dict(df_dict, row_id, row['text'], 0, None, text_score, row['channel'])\n",
    "        continue\n",
    "    \n",
    "    for reply in replies:\n",
    "        new_ind = f'{reply[\"user\"]}_{round(float(reply[\"ts\"]), 0)}'\n",
    "        \n",
    "        if new_ind in all_index:\n",
    "            replies_dict[row_id].append(new_ind)\n",
    "            success_count += 1\n",
    "        else:\n",
    "            fail_count += 1\n",
    "        \n",
    "    if replies_dict[row_id]:\n",
    "        row_replies = [(x, pos_score_dict.get(x,0)) for x in replies_dict[row_id]]\n",
    "        best_k_replies = sorted(row_replies, key=lambda x: x[1], reverse=True)[:10]\n",
    "        \n",
    "        replies_id_list = [k for k, v in best_k_replies]\n",
    "        replies_pos_score_list = [v for k, v in best_k_replies]\n",
    "        answer = ' '.join(text_dict[k] for k in replies_id_list)\n",
    "        \n",
    "        append_to_dict(df_dict, row_id, row['text'], ans_count, answer, text_score, row['channel'])\n",
    "\n",
    "df = pd.DataFrame.from_dict(df_dict)\n",
    "df.head()"
   ]
  },
  {
   "cell_type": "code",
   "execution_count": 131,
   "metadata": {},
   "outputs": [
    {
     "name": "stdout",
     "output_type": "stream",
     "text": [
      "557795 67733\n"
     ]
    }
   ],
   "source": [
    "print(success_count, fail_count)"
   ]
  },
  {
   "cell_type": "code",
   "execution_count": 132,
   "metadata": {},
   "outputs": [
    {
     "data": {
      "text/plain": [
       "(284315, 6)"
      ]
     },
     "execution_count": 132,
     "metadata": {},
     "output_type": "execute_result"
    }
   ],
   "source": [
    "df.shape"
   ]
  },
  {
   "cell_type": "markdown",
   "metadata": {},
   "source": [
    "## Filter short messages"
   ]
  },
  {
   "cell_type": "code",
   "execution_count": 133,
   "metadata": {},
   "outputs": [],
   "source": [
    "df['text_len'] = df.text.apply(lambda x: len(x.split()))"
   ]
  },
  {
   "cell_type": "code",
   "execution_count": 134,
   "metadata": {},
   "outputs": [],
   "source": [
    "df = df[df.text_len>5]"
   ]
  },
  {
   "cell_type": "code",
   "execution_count": 135,
   "metadata": {},
   "outputs": [
    {
     "data": {
      "text/plain": [
       "(236895, 7)"
      ]
     },
     "execution_count": 135,
     "metadata": {},
     "output_type": "execute_result"
    }
   ],
   "source": [
    "df.shape"
   ]
  },
  {
   "cell_type": "code",
   "execution_count": 136,
   "metadata": {},
   "outputs": [
    {
     "data": {
      "text/html": [
       "<div>\n",
       "<style scoped>\n",
       "    .dataframe tbody tr th:only-of-type {\n",
       "        vertical-align: middle;\n",
       "    }\n",
       "\n",
       "    .dataframe tbody tr th {\n",
       "        vertical-align: top;\n",
       "    }\n",
       "\n",
       "    .dataframe thead th {\n",
       "        text-align: right;\n",
       "    }\n",
       "</style>\n",
       "<table border=\"1\" class=\"dataframe\">\n",
       "  <thead>\n",
       "    <tr style=\"text-align: right;\">\n",
       "      <th></th>\n",
       "      <th>new_ind</th>\n",
       "      <th>text</th>\n",
       "      <th>answer_count</th>\n",
       "      <th>answer_text</th>\n",
       "      <th>text_score</th>\n",
       "      <th>channel</th>\n",
       "      <th>text_len</th>\n",
       "    </tr>\n",
       "  </thead>\n",
       "  <tbody>\n",
       "    <tr>\n",
       "      <th>0</th>\n",
       "      <td>U0106VCFW81_1585131557.0</td>\n",
       "      <td>Всем привет! Стоит такая задача, есть историия...</td>\n",
       "      <td>7</td>\n",
       "      <td>Регрессию построить можно, а вот верить, что о...</td>\n",
       "      <td>0</td>\n",
       "      <td>analytiсs</td>\n",
       "      <td>38</td>\n",
       "    </tr>\n",
       "    <tr>\n",
       "      <th>1</th>\n",
       "      <td>U17S9F6KV_1596184224.0</td>\n",
       "      <td>Привет! Такой вопрос. Мы хотим настроить алерт...</td>\n",
       "      <td>17</td>\n",
       "      <td>как вариант из посгреса передаете информацию в...</td>\n",
       "      <td>0</td>\n",
       "      <td>analytiсs</td>\n",
       "      <td>27</td>\n",
       "    </tr>\n",
       "    <tr>\n",
       "      <th>2</th>\n",
       "      <td>UFF1SJ30F_1595870327.0</td>\n",
       "      <td>Всем привет! А кто-нибудь автоматизировал созд...</td>\n",
       "      <td>8</td>\n",
       "      <td>&lt;@U1G303UTW&gt; обламывает копи-пастой заниматься...</td>\n",
       "      <td>0</td>\n",
       "      <td>analytiсs</td>\n",
       "      <td>43</td>\n",
       "    </tr>\n",
       "    <tr>\n",
       "      <th>3</th>\n",
       "      <td>U8DRB30SX_1597401814.0</td>\n",
       "      <td>Привет! Есть какие-нибудь материалы, статьи ил...</td>\n",
       "      <td>2</td>\n",
       "      <td>а что там делать. выбрал метрику и посчитал.\\n...</td>\n",
       "      <td>1</td>\n",
       "      <td>analytiсs</td>\n",
       "      <td>14</td>\n",
       "    </tr>\n",
       "    <tr>\n",
       "      <th>4</th>\n",
       "      <td>UR9M1T5KP_1589979868.0</td>\n",
       "      <td>Добрый день ,кто может подсказать пжл статьи,н...</td>\n",
       "      <td>10</td>\n",
       "      <td>много нулей - ну бывает, скошенное распределен...</td>\n",
       "      <td>0</td>\n",
       "      <td>analytiсs</td>\n",
       "      <td>33</td>\n",
       "    </tr>\n",
       "  </tbody>\n",
       "</table>\n",
       "</div>"
      ],
      "text/plain": [
       "                    new_ind  \\\n",
       "0  U0106VCFW81_1585131557.0   \n",
       "1    U17S9F6KV_1596184224.0   \n",
       "2    UFF1SJ30F_1595870327.0   \n",
       "3    U8DRB30SX_1597401814.0   \n",
       "4    UR9M1T5KP_1589979868.0   \n",
       "\n",
       "                                                text  answer_count  \\\n",
       "0  Всем привет! Стоит такая задача, есть историия...             7   \n",
       "1  Привет! Такой вопрос. Мы хотим настроить алерт...            17   \n",
       "2  Всем привет! А кто-нибудь автоматизировал созд...             8   \n",
       "3  Привет! Есть какие-нибудь материалы, статьи ил...             2   \n",
       "4  Добрый день ,кто может подсказать пжл статьи,н...            10   \n",
       "\n",
       "                                         answer_text  text_score    channel  \\\n",
       "0  Регрессию построить можно, а вот верить, что о...           0  analytiсs   \n",
       "1  как вариант из посгреса передаете информацию в...           0  analytiсs   \n",
       "2  <@U1G303UTW> обламывает копи-пастой заниматься...           0  analytiсs   \n",
       "3  а что там делать. выбрал метрику и посчитал.\\n...           1  analytiсs   \n",
       "4  много нулей - ну бывает, скошенное распределен...           0  analytiсs   \n",
       "\n",
       "   text_len  \n",
       "0        38  \n",
       "1        27  \n",
       "2        43  \n",
       "3        14  \n",
       "4        33  "
      ]
     },
     "execution_count": 136,
     "metadata": {},
     "output_type": "execute_result"
    }
   ],
   "source": [
    "df.head()"
   ]
  },
  {
   "cell_type": "markdown",
   "metadata": {},
   "source": [
    "## No comments, no pluses"
   ]
  },
  {
   "cell_type": "code",
   "execution_count": 137,
   "metadata": {},
   "outputs": [],
   "source": [
    "df=df[(df['answer_count']>0) | (df['text_score']>0)]"
   ]
  },
  {
   "cell_type": "code",
   "execution_count": 138,
   "metadata": {},
   "outputs": [
    {
     "data": {
      "text/html": [
       "<div>\n",
       "<style scoped>\n",
       "    .dataframe tbody tr th:only-of-type {\n",
       "        vertical-align: middle;\n",
       "    }\n",
       "\n",
       "    .dataframe tbody tr th {\n",
       "        vertical-align: top;\n",
       "    }\n",
       "\n",
       "    .dataframe thead th {\n",
       "        text-align: right;\n",
       "    }\n",
       "</style>\n",
       "<table border=\"1\" class=\"dataframe\">\n",
       "  <thead>\n",
       "    <tr style=\"text-align: right;\">\n",
       "      <th></th>\n",
       "      <th>new_ind</th>\n",
       "      <th>text</th>\n",
       "      <th>answer_count</th>\n",
       "      <th>answer_text</th>\n",
       "      <th>text_score</th>\n",
       "      <th>channel</th>\n",
       "      <th>text_len</th>\n",
       "    </tr>\n",
       "  </thead>\n",
       "  <tbody>\n",
       "    <tr>\n",
       "      <th>0</th>\n",
       "      <td>U0106VCFW81_1585131557.0</td>\n",
       "      <td>Всем привет! Стоит такая задача, есть историия...</td>\n",
       "      <td>7</td>\n",
       "      <td>Регрессию построить можно, а вот верить, что о...</td>\n",
       "      <td>0</td>\n",
       "      <td>analytiсs</td>\n",
       "      <td>38</td>\n",
       "    </tr>\n",
       "    <tr>\n",
       "      <th>1</th>\n",
       "      <td>U17S9F6KV_1596184224.0</td>\n",
       "      <td>Привет! Такой вопрос. Мы хотим настроить алерт...</td>\n",
       "      <td>17</td>\n",
       "      <td>как вариант из посгреса передаете информацию в...</td>\n",
       "      <td>0</td>\n",
       "      <td>analytiсs</td>\n",
       "      <td>27</td>\n",
       "    </tr>\n",
       "    <tr>\n",
       "      <th>2</th>\n",
       "      <td>UFF1SJ30F_1595870327.0</td>\n",
       "      <td>Всем привет! А кто-нибудь автоматизировал созд...</td>\n",
       "      <td>8</td>\n",
       "      <td>&lt;@U1G303UTW&gt; обламывает копи-пастой заниматься...</td>\n",
       "      <td>0</td>\n",
       "      <td>analytiсs</td>\n",
       "      <td>43</td>\n",
       "    </tr>\n",
       "    <tr>\n",
       "      <th>3</th>\n",
       "      <td>U8DRB30SX_1597401814.0</td>\n",
       "      <td>Привет! Есть какие-нибудь материалы, статьи ил...</td>\n",
       "      <td>2</td>\n",
       "      <td>а что там делать. выбрал метрику и посчитал.\\n...</td>\n",
       "      <td>1</td>\n",
       "      <td>analytiсs</td>\n",
       "      <td>14</td>\n",
       "    </tr>\n",
       "    <tr>\n",
       "      <th>4</th>\n",
       "      <td>UR9M1T5KP_1589979868.0</td>\n",
       "      <td>Добрый день ,кто может подсказать пжл статьи,н...</td>\n",
       "      <td>10</td>\n",
       "      <td>много нулей - ну бывает, скошенное распределен...</td>\n",
       "      <td>0</td>\n",
       "      <td>analytiсs</td>\n",
       "      <td>33</td>\n",
       "    </tr>\n",
       "  </tbody>\n",
       "</table>\n",
       "</div>"
      ],
      "text/plain": [
       "                    new_ind  \\\n",
       "0  U0106VCFW81_1585131557.0   \n",
       "1    U17S9F6KV_1596184224.0   \n",
       "2    UFF1SJ30F_1595870327.0   \n",
       "3    U8DRB30SX_1597401814.0   \n",
       "4    UR9M1T5KP_1589979868.0   \n",
       "\n",
       "                                                text  answer_count  \\\n",
       "0  Всем привет! Стоит такая задача, есть историия...             7   \n",
       "1  Привет! Такой вопрос. Мы хотим настроить алерт...            17   \n",
       "2  Всем привет! А кто-нибудь автоматизировал созд...             8   \n",
       "3  Привет! Есть какие-нибудь материалы, статьи ил...             2   \n",
       "4  Добрый день ,кто может подсказать пжл статьи,н...            10   \n",
       "\n",
       "                                         answer_text  text_score    channel  \\\n",
       "0  Регрессию построить можно, а вот верить, что о...           0  analytiсs   \n",
       "1  как вариант из посгреса передаете информацию в...           0  analytiсs   \n",
       "2  <@U1G303UTW> обламывает копи-пастой заниматься...           0  analytiсs   \n",
       "3  а что там делать. выбрал метрику и посчитал.\\n...           1  analytiсs   \n",
       "4  много нулей - ну бывает, скошенное распределен...           0  analytiсs   \n",
       "\n",
       "   text_len  \n",
       "0        38  \n",
       "1        27  \n",
       "2        43  \n",
       "3        14  \n",
       "4        33  "
      ]
     },
     "execution_count": 138,
     "metadata": {},
     "output_type": "execute_result"
    }
   ],
   "source": [
    "df.head()"
   ]
  },
  {
   "cell_type": "code",
   "execution_count": 147,
   "metadata": {},
   "outputs": [
    {
     "data": {
      "text/plain": [
       "(77155, 7)"
      ]
     },
     "execution_count": 147,
     "metadata": {},
     "output_type": "execute_result"
    }
   ],
   "source": [
    "df.shape"
   ]
  },
  {
   "cell_type": "code",
   "execution_count": 143,
   "metadata": {},
   "outputs": [
    {
     "data": {
      "text/plain": [
       "(14944, 7)"
      ]
     },
     "execution_count": 143,
     "metadata": {},
     "output_type": "execute_result"
    }
   ],
   "source": [
    "df[df['answer_count']==0].shape"
   ]
  },
  {
   "cell_type": "code",
   "execution_count": 145,
   "metadata": {},
   "outputs": [],
   "source": [
    "df.reset_index(drop=True, inplace=True)"
   ]
  },
  {
   "cell_type": "code",
   "execution_count": 178,
   "metadata": {},
   "outputs": [],
   "source": [
    "df['answer_text'] = df['answer_text'].fillna(\" \")"
   ]
  },
  {
   "cell_type": "code",
   "execution_count": 179,
   "metadata": {},
   "outputs": [],
   "source": [
    "df.to_csv('./data/ods_new_base.csv', index = False)"
   ]
  }
 ],
 "metadata": {
  "kernelspec": {
   "display_name": "ods_bot_env",
   "language": "python",
   "name": "ods_bot_env"
  },
  "language_info": {
   "codemirror_mode": {
    "name": "ipython",
    "version": 3
   },
   "file_extension": ".py",
   "mimetype": "text/x-python",
   "name": "python",
   "nbconvert_exporter": "python",
   "pygments_lexer": "ipython3",
   "version": "3.7.6"
  }
 },
 "nbformat": 4,
 "nbformat_minor": 4
}
